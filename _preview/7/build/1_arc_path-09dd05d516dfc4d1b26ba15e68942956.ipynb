{
 "cells": [
  {
   "cell_type": "markdown",
   "metadata": {},
   "source": [
    "<img src=\"https://j.gifs.com/vO2k6P.gif\" alt=\"Indiana Jones Plane Flying Gif\"></img>"
   ]
  },
  {
   "cell_type": "markdown",
   "metadata": {},
   "source": [
    "# Great Circle Arcs and Path"
   ]
  },
  {
   "cell_type": "markdown",
   "metadata": {},
   "source": [
    "---"
   ]
  },
  {
   "cell_type": "markdown",
   "metadata": {},
   "source": [
    "## Overview\n",
    "\n",
    "Imagine you are on a plane flying from Cario to Hong Kong. As a passenger, the plane appears to travel a straight path from one airport to the next. However, in reality, as the plane travels it actually curves along the surface of Earth held down by the gravity of the planet.\n",
    "\n",
    "The \"straight line\" has become an arc connecting Cario and Hong Kong on a map. This arc is a great circle arc, just one small subsection of the great circle path.\n",
    "\n",
    "1. Distance between Points on a Great Circle Arc\n",
    "1. Convert Spherical Distance to Degrees\n",
    "1. Determine the Bearing of a Great Circle Arc\n",
    "1. Generate a Great Circle Arc with Intermediate Points\n",
    "1. Determine the Midpoint of a Great Circle Arc\n",
    "1. Generate a Great Circle Path\n",
    "1. Determine an Antipodal Point"
   ]
  },
  {
   "cell_type": "markdown",
   "metadata": {},
   "source": [
    "## Prerequisites\n",
    "\n",
    "| Concepts | Importance | Notes |\n",
    "| --- | --- | --- |\n",
    "| [Numpy](https://foundations.projectpythia.org/core/numpy/) | Necessary | Used to work with large arrays |\n",
    "| [Pandas](https://foundations.projectpythia.org/core/pandas) | Necessary | Used to read in and organize data (in particular dataframes) |\n",
    "| [Intro to Cartopy](https://foundations.projectpythia.org/core/cartopy) | Helpful | Will be used for adding maps to plotting |\n",
    "| [Matplotlib](https://foundations.projectpythia.org/core/matplotlib/) | Helpful | Will be used for plotting |\n",
    "\n",
    "- **Time to learn**: 40 minutes"
   ]
  },
  {
   "cell_type": "markdown",
   "metadata": {},
   "source": [
    "---"
   ]
  },
  {
   "cell_type": "markdown",
   "metadata": {},
   "source": [
    "## Imports\n",
    "\n",
    "To begin, let's import the packages we will need in this notebook and collect the list of locations coordinates"
   ]
  },
  {
   "cell_type": "code",
   "execution_count": 1,
   "metadata": {},
   "outputs": [],
   "source": [
    "import pandas as pd       # reading in data for location information from text file\n",
    "import numpy as np        # working with arrays, vectors, cross/dot products, and radians\n",
    "\n",
    "from pyproj import Geod   # working with the Earth as an ellipsod (WGS-84)\n",
    "import geopy.distance     # working with the Earth as an ellipsod (WGS-84)\n",
    "\n",
    "import matplotlib.pyplot as plt    # Plotting a figure\n",
    "from cartopy import crs as ccrs, feature as cfeature  # Add World Map to Plot"
   ]
  },
  {
   "cell_type": "code",
   "execution_count": 2,
   "metadata": {},
   "outputs": [
    {
     "data": {
      "text/html": [
       "<div>\n",
       "<style scoped>\n",
       "    .dataframe tbody tr th:only-of-type {\n",
       "        vertical-align: middle;\n",
       "    }\n",
       "\n",
       "    .dataframe tbody tr th {\n",
       "        vertical-align: top;\n",
       "    }\n",
       "\n",
       "    .dataframe thead th {\n",
       "        text-align: right;\n",
       "    }\n",
       "</style>\n",
       "<table border=\"1\" class=\"dataframe\">\n",
       "  <thead>\n",
       "    <tr style=\"text-align: right;\">\n",
       "      <th></th>\n",
       "      <th>name</th>\n",
       "      <th>latitude</th>\n",
       "      <th>longitude</th>\n",
       "      <th>cart_x</th>\n",
       "      <th>cart_y</th>\n",
       "      <th>cart_z</th>\n",
       "      <th>rho</th>\n",
       "      <th>theta</th>\n",
       "      <th>phi</th>\n",
       "      <th>polar_x</th>\n",
       "      <th>polar_y</th>\n",
       "      <th>polar_z</th>\n",
       "    </tr>\n",
       "  </thead>\n",
       "  <tbody>\n",
       "    <tr>\n",
       "      <th>0</th>\n",
       "      <td>arecibo</td>\n",
       "      <td>18.3441</td>\n",
       "      <td>-66.7527</td>\n",
       "      <td>0.374643</td>\n",
       "      <td>-0.872119</td>\n",
       "      <td>0.314723</td>\n",
       "      <td>1.0</td>\n",
       "      <td>-1.165054</td>\n",
       "      <td>1.250631</td>\n",
       "      <td>-5.562495e+06</td>\n",
       "      <td>2.389526e+06</td>\n",
       "      <td>2.007347e+06</td>\n",
       "    </tr>\n",
       "    <tr>\n",
       "      <th>1</th>\n",
       "      <td>boulder</td>\n",
       "      <td>40.0150</td>\n",
       "      <td>-105.2705</td>\n",
       "      <td>-0.201714</td>\n",
       "      <td>-0.738835</td>\n",
       "      <td>0.642988</td>\n",
       "      <td>1.0</td>\n",
       "      <td>1.304276</td>\n",
       "      <td>0.872403</td>\n",
       "      <td>-4.712394e+06</td>\n",
       "      <td>-1.286558e+06</td>\n",
       "      <td>4.101066e+06</td>\n",
       "    </tr>\n",
       "    <tr>\n",
       "      <th>2</th>\n",
       "      <td>boston</td>\n",
       "      <td>42.3601</td>\n",
       "      <td>-71.0589</td>\n",
       "      <td>0.239852</td>\n",
       "      <td>-0.698914</td>\n",
       "      <td>0.673788</td>\n",
       "      <td>1.0</td>\n",
       "      <td>-1.240212</td>\n",
       "      <td>0.831473</td>\n",
       "      <td>-4.457769e+06</td>\n",
       "      <td>1.529809e+06</td>\n",
       "      <td>4.297512e+06</td>\n",
       "    </tr>\n",
       "    <tr>\n",
       "      <th>3</th>\n",
       "      <td>redwoods</td>\n",
       "      <td>41.4017</td>\n",
       "      <td>-124.0417</td>\n",
       "      <td>-0.419898</td>\n",
       "      <td>-0.621549</td>\n",
       "      <td>0.661334</td>\n",
       "      <td>1.0</td>\n",
       "      <td>0.976657</td>\n",
       "      <td>0.848200</td>\n",
       "      <td>-3.964322e+06</td>\n",
       "      <td>-2.678169e+06</td>\n",
       "      <td>4.218080e+06</td>\n",
       "    </tr>\n",
       "    <tr>\n",
       "      <th>4</th>\n",
       "      <td>houston</td>\n",
       "      <td>29.5518</td>\n",
       "      <td>-95.0982</td>\n",
       "      <td>-0.077303</td>\n",
       "      <td>-0.866469</td>\n",
       "      <td>0.493210</td>\n",
       "      <td>1.0</td>\n",
       "      <td>1.481816</td>\n",
       "      <td>1.055020</td>\n",
       "      <td>-5.526456e+06</td>\n",
       "      <td>-4.930480e+05</td>\n",
       "      <td>3.145762e+06</td>\n",
       "    </tr>\n",
       "  </tbody>\n",
       "</table>\n",
       "</div>"
      ],
      "text/plain": [
       "       name  latitude  longitude    cart_x    cart_y    cart_z  rho     theta  \\\n",
       "0   arecibo   18.3441   -66.7527  0.374643 -0.872119  0.314723  1.0 -1.165054   \n",
       "1   boulder   40.0150  -105.2705 -0.201714 -0.738835  0.642988  1.0  1.304276   \n",
       "2    boston   42.3601   -71.0589  0.239852 -0.698914  0.673788  1.0 -1.240212   \n",
       "3  redwoods   41.4017  -124.0417 -0.419898 -0.621549  0.661334  1.0  0.976657   \n",
       "4   houston   29.5518   -95.0982 -0.077303 -0.866469  0.493210  1.0  1.481816   \n",
       "\n",
       "        phi       polar_x       polar_y       polar_z  \n",
       "0  1.250631 -5.562495e+06  2.389526e+06  2.007347e+06  \n",
       "1  0.872403 -4.712394e+06 -1.286558e+06  4.101066e+06  \n",
       "2  0.831473 -4.457769e+06  1.529809e+06  4.297512e+06  \n",
       "3  0.848200 -3.964322e+06 -2.678169e+06  4.218080e+06  \n",
       "4  1.055020 -5.526456e+06 -4.930480e+05  3.145762e+06  "
      ]
     },
     "execution_count": 2,
     "metadata": {},
     "output_type": "execute_result"
    }
   ],
   "source": [
    "# Get the coordinates for locations with all coordinates\n",
    "location_df = pd.read_csv(\"../location_full_coords.txt\")\n",
    "location_df = location_df.rename(columns=lambda x: x.strip()) # strip excess white space from column names and values\n",
    "location_df.head()"
   ]
  },
  {
   "cell_type": "code",
   "execution_count": 3,
   "metadata": {},
   "outputs": [
    {
     "data": {
      "text/html": [
       "<div>\n",
       "<style scoped>\n",
       "    .dataframe tbody tr th:only-of-type {\n",
       "        vertical-align: middle;\n",
       "    }\n",
       "\n",
       "    .dataframe tbody tr th {\n",
       "        vertical-align: top;\n",
       "    }\n",
       "\n",
       "    .dataframe thead th {\n",
       "        text-align: right;\n",
       "    }\n",
       "</style>\n",
       "<table border=\"1\" class=\"dataframe\">\n",
       "  <thead>\n",
       "    <tr style=\"text-align: right;\">\n",
       "      <th></th>\n",
       "      <th>name</th>\n",
       "      <th>latitude</th>\n",
       "      <th>longitude</th>\n",
       "      <th>cart_x</th>\n",
       "      <th>cart_y</th>\n",
       "      <th>cart_z</th>\n",
       "      <th>rho</th>\n",
       "      <th>theta</th>\n",
       "      <th>phi</th>\n",
       "      <th>polar_x</th>\n",
       "      <th>polar_y</th>\n",
       "      <th>polar_z</th>\n",
       "    </tr>\n",
       "    <tr>\n",
       "      <th>name</th>\n",
       "      <th></th>\n",
       "      <th></th>\n",
       "      <th></th>\n",
       "      <th></th>\n",
       "      <th></th>\n",
       "      <th></th>\n",
       "      <th></th>\n",
       "      <th></th>\n",
       "      <th></th>\n",
       "      <th></th>\n",
       "      <th></th>\n",
       "      <th></th>\n",
       "    </tr>\n",
       "  </thead>\n",
       "  <tbody>\n",
       "    <tr>\n",
       "      <th>arecibo</th>\n",
       "      <td>arecibo</td>\n",
       "      <td>18.3441</td>\n",
       "      <td>-66.7527</td>\n",
       "      <td>0.374643</td>\n",
       "      <td>-0.872119</td>\n",
       "      <td>0.314723</td>\n",
       "      <td>1.0</td>\n",
       "      <td>-1.165054</td>\n",
       "      <td>1.250631</td>\n",
       "      <td>-5.562495e+06</td>\n",
       "      <td>2.389526e+06</td>\n",
       "      <td>2.007347e+06</td>\n",
       "    </tr>\n",
       "    <tr>\n",
       "      <th>boulder</th>\n",
       "      <td>boulder</td>\n",
       "      <td>40.0150</td>\n",
       "      <td>-105.2705</td>\n",
       "      <td>-0.201714</td>\n",
       "      <td>-0.738835</td>\n",
       "      <td>0.642988</td>\n",
       "      <td>1.0</td>\n",
       "      <td>1.304276</td>\n",
       "      <td>0.872403</td>\n",
       "      <td>-4.712394e+06</td>\n",
       "      <td>-1.286558e+06</td>\n",
       "      <td>4.101066e+06</td>\n",
       "    </tr>\n",
       "    <tr>\n",
       "      <th>boston</th>\n",
       "      <td>boston</td>\n",
       "      <td>42.3601</td>\n",
       "      <td>-71.0589</td>\n",
       "      <td>0.239852</td>\n",
       "      <td>-0.698914</td>\n",
       "      <td>0.673788</td>\n",
       "      <td>1.0</td>\n",
       "      <td>-1.240212</td>\n",
       "      <td>0.831473</td>\n",
       "      <td>-4.457769e+06</td>\n",
       "      <td>1.529809e+06</td>\n",
       "      <td>4.297512e+06</td>\n",
       "    </tr>\n",
       "    <tr>\n",
       "      <th>redwoods</th>\n",
       "      <td>redwoods</td>\n",
       "      <td>41.4017</td>\n",
       "      <td>-124.0417</td>\n",
       "      <td>-0.419898</td>\n",
       "      <td>-0.621549</td>\n",
       "      <td>0.661334</td>\n",
       "      <td>1.0</td>\n",
       "      <td>0.976657</td>\n",
       "      <td>0.848200</td>\n",
       "      <td>-3.964322e+06</td>\n",
       "      <td>-2.678169e+06</td>\n",
       "      <td>4.218080e+06</td>\n",
       "    </tr>\n",
       "    <tr>\n",
       "      <th>houston</th>\n",
       "      <td>houston</td>\n",
       "      <td>29.5518</td>\n",
       "      <td>-95.0982</td>\n",
       "      <td>-0.077303</td>\n",
       "      <td>-0.866469</td>\n",
       "      <td>0.493210</td>\n",
       "      <td>1.0</td>\n",
       "      <td>1.481816</td>\n",
       "      <td>1.055020</td>\n",
       "      <td>-5.526456e+06</td>\n",
       "      <td>-4.930480e+05</td>\n",
       "      <td>3.145762e+06</td>\n",
       "    </tr>\n",
       "  </tbody>\n",
       "</table>\n",
       "</div>"
      ],
      "text/plain": [
       "              name  latitude  longitude    cart_x    cart_y    cart_z  rho  \\\n",
       "name                                                                         \n",
       "arecibo    arecibo   18.3441   -66.7527  0.374643 -0.872119  0.314723  1.0   \n",
       "boulder    boulder   40.0150  -105.2705 -0.201714 -0.738835  0.642988  1.0   \n",
       "boston      boston   42.3601   -71.0589  0.239852 -0.698914  0.673788  1.0   \n",
       "redwoods  redwoods   41.4017  -124.0417 -0.419898 -0.621549  0.661334  1.0   \n",
       "houston    houston   29.5518   -95.0982 -0.077303 -0.866469  0.493210  1.0   \n",
       "\n",
       "             theta       phi       polar_x       polar_y       polar_z  \n",
       "name                                                                    \n",
       "arecibo  -1.165054  1.250631 -5.562495e+06  2.389526e+06  2.007347e+06  \n",
       "boulder   1.304276  0.872403 -4.712394e+06 -1.286558e+06  4.101066e+06  \n",
       "boston   -1.240212  0.831473 -4.457769e+06  1.529809e+06  4.297512e+06  \n",
       "redwoods  0.976657  0.848200 -3.964322e+06 -2.678169e+06  4.218080e+06  \n",
       "houston   1.481816  1.055020 -5.526456e+06 -4.930480e+05  3.145762e+06  "
      ]
     },
     "execution_count": 3,
     "metadata": {},
     "output_type": "execute_result"
    }
   ],
   "source": [
    "# Set index to the name column, this will make it easier to access each row\n",
    "location_df.index = location_df[\"name\"]\n",
    "location_df.head()"
   ]
  },
  {
   "cell_type": "markdown",
   "metadata": {},
   "source": [
    "## Distance Between Points on a Great Circle Arc\n",
    "\n",
    "We can determine the distance between two points A and B (for example, Cario and Hong Kong) both by hand mathematically and with Python packages like `pyproj` and `geopy`"
   ]
  },
  {
   "cell_type": "markdown",
   "metadata": {},
   "source": [
    "### Determine Distance Between Points Mathematically via Unit Sphere\n",
    "\n",
    "Unit sphere refers to a sphere with a radius of 1, for the purpose of this cookbook, when we are using a unit sphere to represent Earth, it is a perfect sphere that has been multiplied by 6378137 meters\n",
    "\n",
    "First, to measure the distance between point A (latA, lonA) and point B (latB, lonB) on a unit sphere (radius = 1)\n",
    "\n",
    "$$d=acos(sin(latA)*sin(latB)+cos(latA)*cos(latB)*cos(lonA-lonB))$$\n",
    "\n",
    "Because of the translation when working with radians and degrees, there is a mathematically equivalent formula that works better when working with shorter distances (to produce less rounding errors):\n",
    "\n",
    "$$d=2*asin(\\sqrt{sin(\\frac{latA-latB}{2})^2 + cos(latA)*cos(latB)*sin(\\frac{lonA-lonB}{2})^2})$$\n",
    "\n",
    "- [See more: Distance Between Points](https://edwilliams.org/avform147.htm#Dist)"
   ]
  },
  {
   "cell_type": "markdown",
   "metadata": {},
   "source": [
    "We can now translate these equations for measuring the distance between two points (the great circle arc distance) into Python and multiply the result by the Earth's radius. \n",
    "\n",
    "These equations use a locations's latitude/longtiude coordinates, which we can access in a `pandas` dataframe with the name of the location and which coordinate type we would like, for example:"
   ]
  },
  {
   "cell_type": "code",
   "execution_count": 4,
   "metadata": {},
   "outputs": [
    {
     "name": "stdout",
     "output_type": "stream",
     "text": [
      "Boulder latitude: 40.015\n",
      "Boulder longitude: -105.2705\n"
     ]
    }
   ],
   "source": [
    "print(f\"Boulder latitude: {location_df.loc[\"boulder\", \"latitude\"]}\")\n",
    "print(f\"Boulder longitude: {location_df.loc[\"boulder\", \"longitude\"]}\")"
   ]
  },
  {
   "cell_type": "markdown",
   "metadata": {},
   "source": [
    "Below, Equation 1 has become `distance_between_points_default` since this is the equation we will use for most equations, but Equation 2 has become `distance_between_points_small` for working with small distances that are less prone to rounding errors. We can call both equations to compare outputs to see how they are mathematically equivalent. By hand, Equation 1 is a faster calculation than Equation 2, but when working with Python both of these functions will run nearly as quickly."
   ]
  },
  {
   "cell_type": "code",
   "execution_count": 5,
   "metadata": {},
   "outputs": [],
   "source": [
    "def distance_between_points_default(start_point=None, end_point=None):\n",
    "    earth_radius = 6378137  # meters\n",
    "    latA = np.deg2rad(location_df.loc[start_point, \"latitude\"])\n",
    "    lonA = np.deg2rad(location_df.loc[start_point, \"longitude\"])\n",
    "    latB = np.deg2rad(location_df.loc[end_point, \"latitude\"])\n",
    "    lonB = np.deg2rad(location_df.loc[end_point, \"longitude\"])\n",
    "\n",
    "    distance_default = np.arccos(np.sin(latA)*np.sin(latB)+np.cos(latA)*np.cos(latB)*np.cos(lonA-lonB))\n",
    "    return distance_default * earth_radius"
   ]
  },
  {
   "cell_type": "code",
   "execution_count": 6,
   "metadata": {},
   "outputs": [],
   "source": [
    "def distance_between_points_small(start_point=None, end_point=None):\n",
    "    earth_radius = 6378137  # meters\n",
    "    latA = np.deg2rad(location_df.loc[start_point, \"latitude\"])\n",
    "    lonA = np.deg2rad(location_df.loc[start_point, \"longitude\"])\n",
    "    latB = np.deg2rad(location_df.loc[end_point, \"latitude\"])\n",
    "    lonB = np.deg2rad(location_df.loc[end_point, \"longitude\"])\n",
    "\n",
    "    distance_small = 2 * np.arcsin(np.sqrt((np.sin((latA-latB)/2))**2 + np.cos(latA)*np.cos(latB)*(np.sin((lonA-lonB)/2))**2))\n",
    "    return distance_small * earth_radius"
   ]
  },
  {
   "cell_type": "markdown",
   "metadata": {},
   "source": [
    "### Sidenote: Additional Formulas\n",
    "\n",
    "While we will be focusing on Equation 1 and Equation 2 for our calculations in the future, there are even more methods to calculate the distance between points on a sphere. Each formula has different degrees of precision based on which ellipsoid or sphere is used:\n",
    "\n",
    "- [Haversine Formula](https://en.wikipedia.org/wiki/Haversine_formula)\n",
    "- [Vincenty's Formula](https://en.wikipedia.org/wiki/Vincenty%27s_formulae)\n",
    "- [Meeus Great Circle Distance](https://search.r-project.org/CRAN/refmans/geosphere/html/distMeeus.html)\n",
    "- [Law of Cosines Great Circle Distance](https://www.rdocumentation.org/packages/geosphere/versions/1.5-20/topics/distCosine)\n"
   ]
  },
  {
   "cell_type": "markdown",
   "metadata": {},
   "source": [
    "### Determine Distance Points via Python Package `pyproj`\n",
    "\n",
    "While great circle distances can be determine mathematically, there are some Python packages that account for the fact that the Earth is not a perfect sphere that will be easier to work than relying entirely on the equations derived above. For example, `pyproj` treats the Earth as an ellipsoid, by default specifically `WGS-84`.\n",
    "\n",
    "[WGS-84 is the World Geodetic System](https://en.wikipedia.org/wiki/World_Geodetic_System) and considered to be the current standard for geodesy and working with satellite. It is an geocentric and is consistent to within 1 meter around the globe.\n",
    "\n",
    "To begin, let use use `pyproj` to set up an ellipsoid (`WGS-84`) that will represent the Earth."
   ]
  },
  {
   "cell_type": "code",
   "execution_count": 7,
   "metadata": {},
   "outputs": [],
   "source": [
    "def distance_pyproj(start_pt=None, end_pt=None):\n",
    "    geodesic = Geod(ellps=\"WGS84\") # setup ellipsoid\n",
    "\n",
    "    # Return the distance between two points (for example, Boulder and Boston)\n",
    "    _, _, distance_meter =  geodesic.inv(location_df.loc[start_pt, \"longitude\"],\n",
    "                                         location_df.loc[start_pt, \"latitude\"],\n",
    "                                         location_df.loc[end_pt, \"longitude\"],\n",
    "                                         location_df.loc[end_pt, \"latitude\"])\n",
    "    \n",
    "    return distance_meter"
   ]
  },
  {
   "cell_type": "code",
   "execution_count": 8,
   "metadata": {},
   "outputs": [
    {
     "name": "stdout",
     "output_type": "stream",
     "text": [
      "Distance between coordinates (ellipsoid)   = 2862.5974799145215 km\n"
     ]
    }
   ],
   "source": [
    "# Find the distance between Boulder and Boston\n",
    "distance_meter = distance_pyproj(\"boulder\", \"boston\")\n",
    "print(f\"Distance between coordinates (ellipsoid)   = {distance_meter/1000} km\")"
   ]
  },
  {
   "cell_type": "markdown",
   "metadata": {},
   "source": [
    "That is much easier! We can compare `pyproj` to the output from the equations (1 and 2) that we calculated above:"
   ]
  },
  {
   "cell_type": "code",
   "execution_count": 9,
   "metadata": {},
   "outputs": [
    {
     "name": "stdout",
     "output_type": "stream",
     "text": [
      "Distance between coordinates (unit sphere) = 2858.532213639344 km\n",
      "Distance between coordinates (unit sphere) = 2858.5322136393447 km\n"
     ]
    }
   ],
   "source": [
    "distance_unit_sphere_default = distance_between_points_default(\"boulder\", \"boston\")\n",
    "print(f\"Distance between coordinates (unit sphere) = {distance_unit_sphere_default/1000} km\")\n",
    "distance_unit_sphere_small = distance_between_points_small(\"boulder\", \"boston\")\n",
    "print(f\"Distance between coordinates (unit sphere) = {distance_unit_sphere_small/1000} km\")"
   ]
  },
  {
   "cell_type": "markdown",
   "metadata": {},
   "source": [
    "Both equations we calculated above slightly underestimate the distance between Boston and Boulder because they assume the Earth is a perfect sphere, `pyproj` accounts for ellipse."
   ]
  },
  {
   "cell_type": "markdown",
   "metadata": {},
   "source": [
    "## Convert Spherical Distance to Degrees\n",
    "\n",
    "Sometimes when you are working with a map, you don't always just need a distance in meters or kilometers. We can also convert the distances calculated back into degrees as needed. To convert a distance from meters to degrees, we will assume that the great circle is on a unit sphere with a constant spherical radius of ~6371 km (mean radius of Earth).\n",
    "\n",
    "Side note: The Python library `ObsPy` has a similar function built-in: [ObsPy `kilometer2degrees()`](https://docs.obspy.org/packages/autogen/obspy.geodetics.base.kilometer2degrees.html)"
   ]
  },
  {
   "cell_type": "code",
   "execution_count": 10,
   "metadata": {},
   "outputs": [],
   "source": [
    "earth_radius = 6378.137 # km\n",
    "\n",
    "def km_to_degree_distance(distance_km=None):\n",
    "    return distance_km / (2 * earth_radius * np.pi / 360)\n",
    "\n",
    "def degree_to_km_distance(distance_degree=None):\n",
    "    return distance_degree * (2 * earth_radius * np.pi / 360)"
   ]
  },
  {
   "cell_type": "code",
   "execution_count": 11,
   "metadata": {},
   "outputs": [
    {
     "name": "stdout",
     "output_type": "stream",
     "text": [
      "300 km to degrees = 2.6949458523585643 degrees\n",
      "2.6949458523585643 degree to km = 300.0 km\n"
     ]
    }
   ],
   "source": [
    "# We can convert back and form between kilometers and degrees\n",
    "print(f\"300 km to degrees = {km_to_degree_distance(300)} degrees\")\n",
    "print(f\"2.6949458523585643 degree to km = {degree_to_km_distance(2.6949458523585643)} km\")"
   ]
  },
  {
   "cell_type": "markdown",
   "metadata": {},
   "source": [
    "## Determine the Bearing of a Great Circle Arc\n",
    "\n",
    "Arcs are not just a distance, but a direction. Now, we can calculate the direction that an arc takes as it moves from Point A to Point B also known as the bearing."
   ]
  },
  {
   "cell_type": "markdown",
   "metadata": {},
   "source": [
    "### Determine the Bearing Mathematically via Unit Sphere\n",
    "\n",
    "The bearing between between Point A (latA, lonA) and Point B (latB, lonB) on a unit sphere can be calculated as:\n",
    "\n",
    "$$x = cos(latA) * sin(latB) - sin(latA) * cos(latB) * cos(lonB - lonA)$$\n",
    "$$y = sin(lonB - lonA) * cos(latB)$$\n",
    "$$θ = atan2(y, x)$$\n",
    "\n",
    "- [Movable Type: Bearing](https://www.movable-type.co.uk/scripts/latlong.html#bearing)\n",
    "\n",
    "This can be similarly converted to Python as:"
   ]
  },
  {
   "cell_type": "code",
   "execution_count": 12,
   "metadata": {},
   "outputs": [],
   "source": [
    "def bearing_between_points_unit_sphere(start_point=None, end_point=None):\n",
    "    latA = np.deg2rad(location_df.loc[start_point, \"latitude\"])\n",
    "    lonA = np.deg2rad(location_df.loc[start_point, \"longitude\"])\n",
    "    latB = np.deg2rad(location_df.loc[end_point, \"latitude\"])\n",
    "    lonB = np.deg2rad(location_df.loc[end_point, \"longitude\"])\n",
    "\n",
    "    x = np.cos(latA) * np.sin(latB) - np.sin(latA) * np.cos(latB) * np.cos(lonB - lonA)\n",
    "    y = np.sin(lonB - lonA) * np.cos(latB)\n",
    "    bearing = np.arctan2(y, x)\n",
    "    return np.rad2deg(bearing) % 360"
   ]
  },
  {
   "cell_type": "markdown",
   "metadata": {},
   "source": [
    "### Determine the Bearing via Python Package `pyproj`\n",
    "\n",
    "`pyproj` can also use the same `geodesic.inv()` function to calculate bearing. However, `pyproj` includes both the forward and reverse bearing. Forward bearing refers to the bearing from Point A to Point B, while the reverse bearing is the bearing from Point B to Point A. The reverse bearing is returned as a negative angle, but it can also be calculated as the `Forward Bearing - 360`.\n",
    "\n",
    "For example, to find the bearing from Boulder and Boston:"
   ]
  },
  {
   "cell_type": "code",
   "execution_count": 13,
   "metadata": {},
   "outputs": [
    {
     "name": "stdout",
     "output_type": "stream",
     "text": [
      "Forward Bearing: 73.51048829569022\n",
      "Reverse Bearing: -83.57035585674933 (276.4296441432507)\n"
     ]
    }
   ],
   "source": [
    "geodesic = Geod(ellps=\"WGS84\")\n",
    "fwd_bearing, rvs_bearing, _ =  geodesic.inv(location_df.loc[\"boulder\", \"longitude\"],\n",
    "                                             location_df.loc[\"boulder\", \"latitude\"],\n",
    "                                             location_df.loc[\"boston\", \"longitude\"],\n",
    "                                             location_df.loc[\"boston\", \"latitude\"])\n",
    "print(f\"Forward Bearing: {fwd_bearing}\")\n",
    "print(f\"Reverse Bearing: {rvs_bearing} ({rvs_bearing%360})\")"
   ]
  },
  {
   "cell_type": "markdown",
   "metadata": {},
   "source": [
    "When referring to bearing however, it is typically assumed to be referring to the forward bearing, so we will use the function below as we move forward."
   ]
  },
  {
   "cell_type": "code",
   "execution_count": 14,
   "metadata": {},
   "outputs": [],
   "source": [
    "def bearing_between_points_ellps(start_point=None, end_point=None):\n",
    "    geodesic = Geod(ellps=\"WGS84\")\n",
    "    fwd_bearing, _, _ =  geodesic.inv(location_df.loc[start_point, \"longitude\"],\n",
    "                                        location_df.loc[start_point, \"latitude\"],\n",
    "                                        location_df.loc[end_point, \"longitude\"],\n",
    "                                        location_df.loc[end_point, \"latitude\"])\n",
    "    return fwd_bearing"
   ]
  },
  {
   "cell_type": "markdown",
   "metadata": {},
   "source": [
    "Because of the slightly flattened shape of an ellipsoid compared to a sphere, the bearing can also vary depending on if you are calculating bearing on a unit sphere or a ellipsoid:"
   ]
  },
  {
   "cell_type": "code",
   "execution_count": 15,
   "metadata": {},
   "outputs": [
    {
     "name": "stdout",
     "output_type": "stream",
     "text": [
      "forward bearing between coordinates (ellipsoid)   = 73.51048829569022 Degrees\n",
      "forward bearing between coordinates (unit sphere) = 73.49180375272644 Degrees\n"
     ]
    }
   ],
   "source": [
    "### Compare Unit Sphere and Ellipsoid\n",
    "beaing_ellps = bearing_between_points_ellps(\"boulder\", \"boston\")\n",
    "print(f\"forward bearing between coordinates (ellipsoid)   = {beaing_ellps} Degrees\")\n",
    "bearing_us = bearing_between_points_unit_sphere(\"boulder\", \"boston\")\n",
    "print(f\"forward bearing between coordinates (unit sphere) = {bearing_us} Degrees\")"
   ]
  },
  {
   "cell_type": "markdown",
   "metadata": {},
   "source": [
    "## Generating a Great Circle Arc with Intermediates Points\n",
    "\n",
    "Now we have calculated both the length of a great circle arc as well as its bearing. Now we can begin to add additional points along the arc. These intermediate points will lie along the great circle arc and can be calculated as the fractional distance laong the arc (for example, a point for every 10th of the arc)."
   ]
  },
  {
   "cell_type": "markdown",
   "metadata": {},
   "source": [
    "### Determine Intermediate Points Mathemetically via Unit Sphere (Fractional Distance)\n",
    "\n",
    "Along a unit sphere, we can calculate each intermediate point as a fractional distance along the arc. We can determine the points as a given fraction of a distance (`d`) between a starting points A (latA, lonA) and the final point B (latB, lonB) where `f` is a fraction along the great circle arc. As a result, Point A is at`f=0` and Point B sits at`f=1` along the arc.\n",
    "\n",
    "> Note: The points must not lie on exact opposite sides of a sphere (antipodal), otherwise, the path is undefined because f=0=1\n",
    "\n",
    "Where, antipodal is defined by:\n",
    "$$latA + latB = 0$$\n",
    "$$abs(lonA - lonB) = pi$$\n",
    "\n",
    "Where the distance between two points is the angular distance:\n",
    "\n",
    "$$d = \\frac{\\text{total distance of arc}}{\\text{earth's radius}}$$\n",
    "\n",
    "The intermediate points (lat, lon) along a given path starting point to end point:\n",
    "\n",
    "$$A = sin(\\frac{(1-f) * d}{sin(d)}$$\n",
    "$$B = \\frac{sin(f*d)}{sin(d)}$$\n",
    "$$x = A * cos(latA) * cos(lonA) + B * cos(latB) * cos(lonB)$$\n",
    "$$y = A * cos(latA) * sin(lonA) + B * cos(latB) * sin(lonB)$$\n",
    "$$z = A * sin(latA) + B * sin(latB)$$\n",
    "$$lat = atan2(z, \\sqrt{x^2 + y^2})$$\n",
    "$$lon = atan2(y, x)$$\n",
    "\n",
    "- [Ed Williams: Intermediate Points on a Great Circle](https://edwilliams.org/avform147.htm#Intermediate)\n",
    "- [Moveable Type: Intermediate Point](https://www.movable-type.co.uk/scripts/latlong.html#intermediate-point)\n",
    "\n",
    "Let's translate this math into Python code:"
   ]
  },
  {
   "cell_type": "code",
   "execution_count": 16,
   "metadata": {},
   "outputs": [],
   "source": [
    "def intermediate_points(start_point=None, end_point=None,\n",
    "                        fraction=None, distance=None):\n",
    "    # Calculates the position of an intermediate point based on its fractional position along an arc defined from Point A to Point B\n",
    "    earth_radius = 6378137  # meters\n",
    "    total_distance = distance / earth_radius\n",
    "    latA = np.deg2rad(location_df.loc[start_point, \"latitude\"])\n",
    "    lonA = np.deg2rad(location_df.loc[start_point, \"longitude\"])\n",
    "    latB = np.deg2rad(location_df.loc[end_point, \"latitude\"])\n",
    "    lonB = np.deg2rad(location_df.loc[end_point, \"longitude\"])\n",
    "\n",
    "    A = np.sin((1-fraction) * total_distance) / np.sin(total_distance)\n",
    "    B = np.sin(fraction * total_distance) / np.sin(total_distance)\n",
    "    x = (A * np.cos(latA) * np.cos(lonA)) + (B * np.cos(latB) * np.cos(lonB))\n",
    "    y = (A * np.cos(latA) * np.sin(lonA)) + (B * np.cos(latB) * np.sin(lonB))\n",
    "    z = (A * np.sin(latA)) + (B * np.sin(latB))\n",
    "    lat = np.arctan2(z, np.sqrt(x**2 + y**2))\n",
    "    lon = np.arctan2(y, x)\n",
    "    return (float(np.rad2deg(lat)), float(np.rad2deg(lon)))\n",
    "\n",
    "def calculate_intermediate_pts(start_point=None, end_point=None,\n",
    "                               fraction=None, total_distance_meter=None):\n",
    "    # returns a list of intermediate points along the arc separated by a specific fraction\n",
    "    fractions = np.arange(0, 1+fraction, fraction)\n",
    "    intermediate_lat_lon = []\n",
    "    for fractional in fractions:\n",
    "        intermediate_pts = intermediate_points(start_point, end_point,\n",
    "                                                fractional, total_distance_meter)\n",
    "        intermediate_lat_lon.append(intermediate_pts)\n",
    "    return intermediate_lat_lon"
   ]
  },
  {
   "cell_type": "markdown",
   "metadata": {},
   "source": [
    "### Determine Intermediate Points via Python Package `pyproj` and `geopy`\n",
    "\n",
    "However, there is a strong advantage when you the Python libraries `pyproj` and `geopy`. Not only can you use an ellipsoid instead of a sphere, you can also interpolate points along an arc in additional ways:\n",
    "\n",
    "- A fractional distance laong the arc (for example, a point for every 10th of the arc)\n",
    "- A known distance along the arc (for example, a point ever 100 meters)\n",
    "- An equal amount of points (for example, adding 6 intermediate points which are equally spaced along the arc)\n",
    "\n",
    "Below you will see how we can use one function `interpolate_points_along_gc` to be able to solve for all three possible types of intermediate points. The function will use both the starting and ending coordinates (Point A to Point B) and a distance you'd like to have between each point."
   ]
  },
  {
   "cell_type": "code",
   "execution_count": 17,
   "metadata": {},
   "outputs": [],
   "source": [
    "def interpolate_points_along_gc(lat_start,\n",
    "                                lon_start,\n",
    "                                lat_end,\n",
    "                                lon_end,\n",
    "                                distance_between_points_meter): \n",
    "    # Interpolate intermediate points along an arc with a given distance between each point\n",
    "    lat_lon_points = [(float(lat_start), float(lon_start))]\n",
    "    \n",
    "    # move to next point when distance between points is less than the equal distance\n",
    "    move_to_next_point = True\n",
    "    while(move_to_next_point):\n",
    "        forward_bearing, _, distance_meters = geodesic.inv(lon_start,\n",
    "                                                            lat_start, \n",
    "                                                            lon_end,\n",
    "                                                            lat_end)\n",
    "        if distance_meters < distance_between_points_meter:\n",
    "            # ends before overshooting\n",
    "            move_to_next_point = False\n",
    "        else:\n",
    "            start_point = geopy.Point(lat_start, lon_start)\n",
    "            distance_to_move = geopy.distance.distance(\n",
    "                            kilometers=distance_between_points_meter /\n",
    "                            1000)  # distance to move towards the next point\n",
    "            final_position = distance_to_move.destination(\n",
    "                            start_point, bearing=forward_bearing)\n",
    "            lat_lon_points.append((float(final_position.latitude), float(final_position.longitude)))\n",
    "            # new starting position is newly found end position\n",
    "            lon_start, lat_start = final_position.longitude, final_position.latitude\n",
    "    lat_lon_points.append((float(lat_end), float(lon_end)))\n",
    "    return lat_lon_points"
   ]
  },
  {
   "cell_type": "markdown",
   "metadata": {},
   "source": [
    "#### Interpolate with N Total Equally Spaced Points\n",
    "\n",
    "Imagine we are flying a plane with a set amount of gas and will need to make 10 stops along our path to refuel from Boulder to Boston. If we need to stop 10 times (imagine that there is a refueling station wherever we stop) then we can interpolate along our path with 10 additional points"
   ]
  },
  {
   "cell_type": "code",
   "execution_count": 18,
   "metadata": {},
   "outputs": [
    {
     "name": "stdout",
     "output_type": "stream",
     "text": [
      "Total distance from Boulder to Boston = 2862.5974799145215 km\n",
      "Each of the 10 points will be separated by 260236.13453768377 meters (260.23613453768377 km)\n"
     ]
    }
   ],
   "source": [
    "n_total_points = 10 # total points (n points)\n",
    "\n",
    "# Calculate the distance between Point A (Boulder) and Point B (Boston)\n",
    "distance_meter = distance_pyproj(\"boulder\", \"boston\")\n",
    "print(f\"Total distance from Boulder to Boston = {distance_meter/1000} km\")\n",
    "\n",
    "distance_between_points_meter = distance_meter / (n_total_points + 1)\n",
    "print(f\"Each of the {n_total_points} points will be separated by {distance_between_points_meter} meters ({distance_between_points_meter/1000} km)\")"
   ]
  },
  {
   "cell_type": "markdown",
   "metadata": {},
   "source": [
    "Excellent! Now that we know the distances between each of the 10 equally spaced points we can use `interpolate_points_along_gc` to find a list of interpolated points. Note that will be 12 total points, 10 intermediate points and 1 for each the starting and ending position."
   ]
  },
  {
   "cell_type": "code",
   "execution_count": 19,
   "metadata": {},
   "outputs": [
    {
     "name": "stdout",
     "output_type": "stream",
     "text": [
      "12 Total Points\n",
      "List of Interpolated Points:\n",
      "[(40.015, -105.2705), (40.64283438472448, -102.32002071588883), (41.19386139956729, -99.31719425393653), (41.665293789240074, -96.2672998277903), (42.05464865958041, -93.17653047007545), (42.35980367525435, -90.05192021556942), (42.579048241302566, -86.9012334462751), (42.71112689737456, -83.73281874084786), (42.75527239726804, -80.5554326250441), (42.711226442193585, -77.37804142647055), (42.579246749547636, -74.20961159223961), (42.3601, -71.0589)]\n"
     ]
    }
   ],
   "source": [
    "lat_start, lon_start = location_df.loc[[\"boulder\"]][\"latitude\"].iloc[0], location_df.loc[[\"boulder\"]][\"longitude\"].iloc[0]\n",
    "lat_end, lon_end = location_df.loc[[\"boston\"]][\"latitude\"].iloc[0], location_df.loc[[\"boston\"]][\"longitude\"].iloc[0]\n",
    "\n",
    "interpolated_pts = interpolate_points_along_gc(lat_start,\n",
    "                                          lon_start,\n",
    "                                          lat_end,\n",
    "                                          lon_end,\n",
    "                                          distance_between_points_meter)\n",
    "print(f\"{len(interpolated_pts)} Total Points\")\n",
    "print(f\"List of Interpolated Points:\\n{interpolated_pts}\")"
   ]
  },
  {
   "cell_type": "markdown",
   "metadata": {},
   "source": [
    "### Plot Arcs as Points on a World Map\n",
    "\n",
    "The easiest way to understand how these interpolated points will look along an arc is to plot them. To be able to reuse this plotting structure in multiple examples below we will encompass the plot into a simple function which takes in a string for the plot's title and a list of coordinates (which will include Point A at the start and Point B at the end)"
   ]
  },
  {
   "cell_type": "code",
   "execution_count": 20,
   "metadata": {},
   "outputs": [],
   "source": [
    "def plot_coordinate(lst_of_coords=None, title=None):\n",
    "    # Set up world map plot on the United States\n",
    "    fig = plt.subplots(figsize=(15, 10))\n",
    "    projection_map = ccrs.PlateCarree()\n",
    "    ax = plt.axes(projection=projection_map)\n",
    "    lon_west, lon_east, lat_south, lat_north = -130, -60, 20, 60\n",
    "    ax.set_extent([lon_west, lon_east, lat_south, lat_north], crs=projection_map)\n",
    "    ax.coastlines(color=\"black\")\n",
    "    ax.add_feature(cfeature.STATES, edgecolor=\"black\")\n",
    "    \n",
    "    # Plot Latitude/Longitude Coordinates\n",
    "    longitudes = [x[1] for x in lst_of_coords] # longitude\n",
    "    latitudes = [x[0] for x in lst_of_coords] # latitude\n",
    "    plt.plot(longitudes, latitudes)\n",
    "    plt.scatter(longitudes, latitudes)\n",
    "    \n",
    "    # Setup Axis Limits and Title/Labels\n",
    "    plt.title(title)\n",
    "    plt.show()"
   ]
  },
  {
   "cell_type": "markdown",
   "metadata": {},
   "source": [
    "Now, let's plot those 10 equally spaced points!"
   ]
  },
  {
   "cell_type": "code",
   "execution_count": 21,
   "metadata": {},
   "outputs": [
    {
     "ename": "NameError",
     "evalue": "name 'intermediate_geodesic' is not defined",
     "output_type": "error",
     "traceback": [
      "\u001b[31m---------------------------------------------------------------------------\u001b[39m",
      "\u001b[31mNameError\u001b[39m                                 Traceback (most recent call last)",
      "\u001b[36mCell\u001b[39m\u001b[36m \u001b[39m\u001b[32mIn[21]\u001b[39m\u001b[32m, line 1\u001b[39m\n\u001b[32m----> \u001b[39m\u001b[32m1\u001b[39m plot_coordinate(\u001b[43mintermediate_geodesic\u001b[49m,\n\u001b[32m      2\u001b[39m                 title=\u001b[33mf\u001b[39m\u001b[33m\"\u001b[39m\u001b[33mInterpolate \u001b[39m\u001b[38;5;132;01m{\u001b[39;00mn_total_points\u001b[38;5;132;01m}\u001b[39;00m\u001b[33m Equally Spaced Points\u001b[39m\u001b[33m\"\u001b[39m)\n",
      "\u001b[31mNameError\u001b[39m: name 'intermediate_geodesic' is not defined"
     ]
    }
   ],
   "source": [
    "plot_coordinate(intermediate_geodesic,\n",
    "                title=f\"Interpolate {n_total_points} Equally Spaced Points\")"
   ]
  },
  {
   "cell_type": "markdown",
   "metadata": {},
   "source": [
    "Looking good! Alright, let's move along to interpolate based on a known distance"
   ]
  },
  {
   "cell_type": "markdown",
   "metadata": {},
   "source": [
    "#### Interpolate every N meters\n",
    "\n",
    "A plane has a fuel tank that can hold a known amount of gas, what if instead we wanted to known how far we need to refuel, but now in meters? Let's say we hold a gas tank that can hold enough fuel to get 112 km, how many times will we need to stop and where along would those stops appear?"
   ]
  },
  {
   "cell_type": "code",
   "execution_count": null,
   "metadata": {},
   "outputs": [],
   "source": [
    "distance_between_points_meter = 112000 # 122.0 km\n",
    "print(f\"Each point will be separated by {distance_between_points_meter} meters ({distance_between_points_meter/1000} km)\")"
   ]
  },
  {
   "cell_type": "code",
   "execution_count": null,
   "metadata": {},
   "outputs": [],
   "source": [
    "lat_start, lon_start = location_df.loc[\"boulder\", \"latitude\"], location_df.loc[\"boulder\", \"longitude\"]\n",
    "lat_end, lon_end = location_df.loc[\"boston\", \"latitude\"], location_df.loc[\"boston\", \"longitude\"]\n",
    "\n",
    "interpolated_pts = interpolate_points_along_gc(lat_start,\n",
    "                                          lon_start,\n",
    "                                          lat_end,\n",
    "                                          lon_end,\n",
    "                                          distance_between_points_meter)\n",
    "print(f\"{len(interpolated_pts)} Total Points\")\n",
    "print(f\"List of Interpolated Points:\\n{interpolated_pts}\")"
   ]
  },
  {
   "cell_type": "code",
   "execution_count": null,
   "metadata": {},
   "outputs": [],
   "source": [
    "plot_coordinate(interpolated_pts,\n",
    "                title=f\"Interpolate every {distance_between_points_meter/1000} km\")"
   ]
  },
  {
   "cell_type": "markdown",
   "metadata": {},
   "source": [
    "That's a lot of stop! Ok, now we can return to a familiar system. We can use this same system to also determine fractional distances as well!"
   ]
  },
  {
   "cell_type": "markdown",
   "metadata": {},
   "source": [
    "#### Interpolate a fractional distance along arc\n",
    "\n",
    "[Above](#determine-intermediate-points-mathemetically-via-unit-sphere-fractional-distance) we calculated how to find intermediate points as a fractional distance along an arc. We can now return to this, but with the advantages of using an ellipsoid! Let's try this method and interpolate points every 10th of an arc."
   ]
  },
  {
   "cell_type": "code",
   "execution_count": null,
   "metadata": {},
   "outputs": [],
   "source": [
    "fraction = 1/10"
   ]
  },
  {
   "cell_type": "code",
   "execution_count": null,
   "metadata": {},
   "outputs": [],
   "source": [
    "distance_between_points_meter = fraction * distance_meter\n",
    "print(f\"Interpolate for every {fraction} of the arc\")\n",
    "print(f\"Each point will be separated by {distance_between_points_meter} meters ({distance_between_points_meter/1000} km)\")"
   ]
  },
  {
   "cell_type": "code",
   "execution_count": null,
   "metadata": {},
   "outputs": [],
   "source": [
    "lat_start, lon_start = location_df.loc[\"boulder\", \"latitude\"], location_df.loc[\"boulder\", \"longitude\"]\n",
    "lat_end, lon_end = location_df.loc[\"boston\", \"latitude\"], location_df.loc[\"boston\", \"longitude\"]\n",
    "\n",
    "interpolated_pts = interpolate_points_along_gc(lat_start,\n",
    "                                          lon_start,\n",
    "                                          lat_end,\n",
    "                                          lon_end,\n",
    "                                          distance_between_points_meter)\n",
    "print(f\"{len(interpolated_pts)} Total Points\")\n",
    "print(f\"List of Interpolated Points:\\n{interpolated_pts}\")"
   ]
  },
  {
   "cell_type": "code",
   "execution_count": null,
   "metadata": {},
   "outputs": [],
   "source": [
    "plot_coordinate(interpolated_pts,\n",
    "                title=f\"(Ellipsoid) Interpolate every {fraction}th of the arc\")"
   ]
  },
  {
   "cell_type": "markdown",
   "metadata": {},
   "source": [
    "We can now compare both the ellipsoid and spherical model. First, let's plot the same fractional distance along the unit sphere:"
   ]
  },
  {
   "cell_type": "code",
   "execution_count": null,
   "metadata": {},
   "outputs": [],
   "source": [
    "distance_unit_sphere_default = distance_between_points_default(\"boulder\", \"boston\")\n",
    "intermediate_unit_sphere = calculate_intermediate_pts(\"boulder\", \"boston\",\n",
    "                                               fraction, distance_unit_sphere_default)\n",
    "print(f\"{len(intermediate_unit_sphere)} Total Points\")\n",
    "print(f\"List of Interpolated Points:\\n{intermediate_unit_sphere}\")"
   ]
  },
  {
   "cell_type": "code",
   "execution_count": null,
   "metadata": {},
   "outputs": [],
   "source": [
    "plot_coordinate(intermediate_unit_sphere,\n",
    "                title=f\"(Unit Sphere) Interpolate every {fraction}th of the arc\")"
   ]
  },
  {
   "cell_type": "markdown",
   "metadata": {},
   "source": [
    "The difference between the ellipsoid and the sphere will become more apparently as intermediate points along the arc are shifted to new positions based on whether or not it is a sphere."
   ]
  },
  {
   "cell_type": "code",
   "execution_count": null,
   "metadata": {},
   "outputs": [],
   "source": [
    "# Compare Unit Sphere and Ellipsoid\n",
    "for i in range(len(interpolated_pts)):\n",
    "    _, _, distance_m = geodesic.inv(interpolated_pts[i][0], interpolated_pts[i][1],\n",
    "                                   intermediate_unit_sphere[i][0], intermediate_unit_sphere[i][1])\n",
    "    if np.isnan(distance_m): distance_m = 0\n",
    "    print(f\"Difference in distance between ellipsoid/unit sphere at point {i}: {distance_m} meters\")"
   ]
  },
  {
   "cell_type": "markdown",
   "metadata": {},
   "source": [
    "## Determine the Midpoint of a Great Circle Arc\n",
    "\n",
    "The advantage of using fractional distances it is make it simple to find the midpoint along the arc. The midpoint of an arc can be determined as a fractional distance along an arc where `f = 0.5`."
   ]
  },
  {
   "cell_type": "code",
   "execution_count": null,
   "metadata": {},
   "outputs": [],
   "source": [
    "distance_meter = distance_pyproj(\"boulder\", \"boston\")\n",
    "\n",
    "# Distance along the arc where the midpoint lies:\n",
    "midpoint = distance_meter / 2"
   ]
  },
  {
   "cell_type": "code",
   "execution_count": null,
   "metadata": {},
   "outputs": [],
   "source": [
    "lat_start, lon_start = location_df.loc[\"boulder\", \"latitude\"], location_df.loc[\"boulder\", \"longitude\"]\n",
    "lat_end, lon_end = location_df.loc[\"boston\", \"latitude\"], location_df.loc[\"boston\", \"longitude\"]\n",
    "\n",
    "interpolated_pts = interpolate_points_along_gc(lat_start,\n",
    "                                          lon_start,\n",
    "                                          lat_end,\n",
    "                                          lon_end,\n",
    "                                          midpoint)\n",
    "print(f\"{len(interpolated_pts)} Total Points\")\n",
    "print(f\"List of Interpolated Points:\\n{interpolated_pts}\")\n",
    "print(f\"Midpoint = {intermediate_geodesic[1]}\")"
   ]
  },
  {
   "cell_type": "markdown",
   "metadata": {},
   "source": [
    "Ok, let's compare the midpoint along the ellipsoid and the unit sphere:"
   ]
  },
  {
   "cell_type": "code",
   "execution_count": null,
   "metadata": {},
   "outputs": [],
   "source": [
    "distance_unit_sphere_default = distance_between_points_default(\"boulder\", \"boston\")\n",
    "intermediate_unit_sphere = calculate_intermediate_pts(\"boulder\", \"boston\",\n",
    "                                               1/2, distance_unit_sphere_default)\n",
    "print(f\"{len(intermediate_unit_sphere)} Total Points\")\n",
    "print(intermediate_unit_sphere)\n",
    "print(f\"Midpoint = {intermediate_unit_sphere[1]}\")"
   ]
  },
  {
   "cell_type": "code",
   "execution_count": null,
   "metadata": {},
   "outputs": [],
   "source": [
    "# Compare geodesic and unit sphere\n",
    "_, _, distance_m = geodesic.inv(intermediate_geodesic[1][0], intermediate_geodesic[1][1],\n",
    "                                   intermediate_unit_sphere[1][0], intermediate_unit_sphere[1][1])\n",
    "print(f\"Distance between unit sphere and ellipsoid's midpoints = {distance_m} meters\")"
   ]
  },
  {
   "cell_type": "markdown",
   "metadata": {},
   "source": [
    "132 meters isn't very far when you are working with something as large as the Earth, but that is more than an entire football field away from each other!"
   ]
  },
  {
   "cell_type": "markdown",
   "metadata": {},
   "source": [
    "## Generate a Great Circle Path\n",
    "\n",
    "A great circle arc is the arc formed between two points along the surface of a sphere. So far, this is all we've focused on. However, imagine if you extending that arc in the same bearing all the way around the globe until you returned back to your starting position. This is known as a great circle path.\n",
    "\n",
    "The great circle path can be used to determine where (at what latitude/longtiude) a great circle would cross a given parallel as well as illustrate how the plane cutting through the globe that is used to form a great circle.\n",
    "\n",
    "Because a great circle path will move from -180 degrees to 180 degrees longitude, then all we need to know is what the latitude at each point would be. A a valid great circle path only exists if:\n",
    "\n",
    "- Point A and Point B are not meridians (at the same longitude, directly above or below each other)\n",
    "- Point A and Point B are not Antipodal (exactly on opposite sides of the globe)\n",
    "\n",
    "Otherwise, the great circle path is considered undefined.\n",
    "\n",
    "To do this, we will generate a list of longitude points from -180 to 180 degrees. By default, this will be 360 total points, 1 point for each degree longitude. Then, since we know the starting and ending point, we can determine the latitude for any longitude point (`lon`) along the great circle path generated from a great circle arc (from Point A to Point B):\n",
    "\n",
    "$$\\text{latitude} = atan(\\frac{sin(latA)*cos(latB)*sin(lon-lonB)-sin(latB)*cos(latA)*sin(lon-lon1)}{cos(latA)*cos(latB)*sin(lonA-lonB)})$$\n",
    "\n",
    "[See more: Latitude of point on GC](https://edwilliams.org/avform147.htm#Int)"
   ]
  },
  {
   "cell_type": "code",
   "execution_count": null,
   "metadata": {},
   "outputs": [],
   "source": [
    "# Find Latitude Coordinate based on a Longitude Coordinate and a Great Circle Arc formed by Point A (start) to Point B (end)\n",
    "def generate_latitude_along_gc(start_point=None, end_point=None, number_of_lon_pts=360):\n",
    "    # Generate a list of latitude coordinates for the great circle path\n",
    "\n",
    "    # First convert each point to radians (to work with sin/cos)\n",
    "    lat1 = np.deg2rad(location_df.loc[start_point, \"latitude\"])\n",
    "    lon1 = np.deg2rad(location_df.loc[start_point, \"longitude\"])\n",
    "    lat2 = np.deg2rad(location_df.loc[end_point, \"latitude\"])\n",
    "    lon2 = np.deg2rad(location_df.loc[end_point, \"longitude\"])\n",
    "\n",
    "    # Verify not meridian (longitude passes through the poles)\n",
    "    # If points lie at the same longitude, alert user and return a totally linear path\n",
    "    if np.sin(lon1 - lon2) == 0:\n",
    "        print(\"Invalid inputs: start/end points are meridians\")\n",
    "        # plotting meridians at 0 longitude through all latitudes\n",
    "        meridian_lat = np.arange(-90, 90, 180/len(longitude_lst)) # split in n number\n",
    "        meridians = []\n",
    "        for lat in meridian_lat:\n",
    "            meridians.append((lat, 0))\n",
    "        return meridians\n",
    "\n",
    "    # verify not antipodal (diametrically opposite points)\n",
    "    if lat1 + lat2 == 0 and abs(lon1-lon2) == np.pi:\n",
    "        # if points are anitpodal, alert user and return empty list\n",
    "        print(\"Invalid inputs: start/end points are antipodal\")\n",
    "        return []\n",
    "\n",
    "    # generate N total number of longitude points along the great circle\n",
    "    # Similar code in R: https://github.com/rspatial/geosphere/blob/master/R/greatCircle.R#L18C3-L18C7\n",
    "    gc_lon_lst = []\n",
    "    for lon in range(1, number_of_lon_pts+1):\n",
    "        new_lon = (lon  * (360/number_of_lon_pts) - 180)\n",
    "        gc_lon_lst.append(np.deg2rad(new_lon))\n",
    "\n",
    "    # Intermediate points on a great circle: https://edwilliams.org/avform147.htm#Int\n",
    "    # Equation 22\n",
    "    gc_lat_lon = []\n",
    "    for gc_lon in gc_lon_lst:\n",
    "        num = np.sin(lat1)*np.cos(lat2)*np.sin(gc_lon-lon2)-np.sin(lat2)*np.cos(lat1)*np.sin(gc_lon-lon1)\n",
    "        den = np.cos(lat1)*np.cos(lat2)*np.sin(lon1-lon2)\n",
    "        new_lat = np.arctan(num/den)\n",
    "        # convert back to degrees and save latitude/longitude pair\n",
    "        gc_lat_lon.append((np.rad2deg(new_lat), np.rad2deg(gc_lon)))\n",
    "    return gc_lat_lon"
   ]
  },
  {
   "cell_type": "markdown",
   "metadata": {},
   "source": [
    "Now we have a great circle arc (formed from Point A to Point B) and a list of possible longitude values (from -180 to 180 degrees). With `generate_latitude_along_gc` we can generate a full list of latitude/longitude pairs for the entire great circle path!\n",
    "\n",
    "To plot both the great circle arc and the great circle path, we will use `arc_points` to get a list of the great circle arc positions and `generate_latitude_along_gc` to get a list of the points along the great circle path. There will be obvious overlap for the small section of the path that contains the arc. "
   ]
  },
  {
   "cell_type": "code",
   "execution_count": null,
   "metadata": {},
   "outputs": [],
   "source": [
    "def arc_points(start_lat=None,\n",
    "               start_lon=None,\n",
    "               end_lat=None,\n",
    "               end_lon=None,\n",
    "               n_total_points=10):\n",
    "    _, _, distance_meter =  geodesic.inv(start_lon,\n",
    "                                        start_lat,\n",
    "                                        end_lon,\n",
    "                                        end_lat)\n",
    "        \n",
    "    distance_between_points_meter = distance_meter / (n_total_points + 1)\n",
    "\n",
    "    \n",
    "    points_along_arc = interpolate_points_along_gc(start_lat,\n",
    "                                              start_lon,\n",
    "                                              end_lat,\n",
    "                                              end_lon,\n",
    "                                              distance_between_points_meter)\n",
    "    return points_along_arc"
   ]
  },
  {
   "cell_type": "markdown",
   "metadata": {},
   "source": [
    "Time to plot! To keep it simple `plot_coordinates` will take in a list of points along the great circle path with a starting and ending point (Point A and B) and internally generate a list of points for the great circle arc."
   ]
  },
  {
   "cell_type": "code",
   "execution_count": null,
   "metadata": {},
   "outputs": [],
   "source": [
    "def plot_coordinate(lat_lon_lst=None,\n",
    "                    start_point=None, end_point=None,\n",
    "                    title=None):\n",
    "    # Set up world map plot\n",
    "    fig = plt.subplots(figsize=(15, 10))\n",
    "    projection_map = ccrs.PlateCarree()\n",
    "    ax = plt.axes(projection=projection_map)\n",
    "    lon_west, lon_east, lat_south, lat_north = -180, 180, -90, 90\n",
    "    ax.set_extent([lon_west, lon_east, lat_south, lat_north], crs=projection_map)\n",
    "    ax.coastlines(color=\"black\")\n",
    "    ax.add_feature(cfeature.BORDERS, edgecolor='grey')\n",
    "    ax.add_feature(cfeature.STATES, edgecolor=\"grey\")\n",
    "        \n",
    "    # Get list of points along the great circle path (in blue)\n",
    "    longitudes = [x[1] for x in lat_lon_lst] # longitude\n",
    "    latitudes = [x[0] for x in lat_lon_lst] # latitude\n",
    "    plt.plot(longitudes, latitudes, c=\"cornflowerblue\")\n",
    "    plt.scatter(longitudes, latitudes, c=\"cornflowerblue\")\n",
    "\n",
    "    # Generate a great circle arc from the starting to ending point (in red)\n",
    "    start_end_lat_lon = arc_points(location_df.loc[start_point, \"latitude\"],\n",
    "                                   location_df.loc[start_point, \"longitude\"],\n",
    "                                   location_df.loc[end_point, \"latitude\"],\n",
    "                                   location_df.loc[end_point, \"longitude\"],\n",
    "                                   n_total_points=20)\n",
    "    longitudes = [x[1] for x in start_end_lat_lon] # longitude\n",
    "    latitudes = [x[0] for x in start_end_lat_lon] # latitude\n",
    "    plt.plot(longitudes, latitudes, c=\"red\")\n",
    "    plt.scatter(longitudes, latitudes, c=\"red\")\n",
    "    \n",
    "    # Setup Axis Limits and Title/Labels\n",
    "    plt.title(title)\n",
    "    plt.show()"
   ]
  },
  {
   "cell_type": "markdown",
   "metadata": {},
   "source": [
    "Let's see how this look! First, let's see how the great circle path and arc from Boulder to Boston looks:"
   ]
  },
  {
   "cell_type": "code",
   "execution_count": null,
   "metadata": {},
   "outputs": [],
   "source": [
    "start_pt = \"boulder\"\n",
    "end_pt = \"boston\"\n",
    "n_pts = 360 # number of points along the longitude (resolution for 360 is one point for each 1 degree)\n",
    "lat_lon_pts = generate_latitude_along_gc(start_pt, end_pt, number_of_lon_pts=n_pts)\n",
    "plot_coordinate(lat_lon_pts, start_pt, end_pt,\n",
    "                f\"Plot Great Circle, made from the arc {start_pt.title()} to {end_pt.title()}\")"
   ]
  },
  {
   "cell_type": "markdown",
   "metadata": {},
   "source": [
    "How about a longer arc? Let's start at the Arceibo Telescope and move up to Greenwich (the Prime Meridian)"
   ]
  },
  {
   "cell_type": "code",
   "execution_count": null,
   "metadata": {},
   "outputs": [],
   "source": [
    "start_pt = \"arecibo\"\n",
    "end_pt = \"greenwich\"\n",
    "n_pts = 360 # number of points along the longitude (resolution for 360 is one point for each 1 degree)\n",
    "lat_lon_pts = generate_latitude_along_gc(start_pt, end_pt, number_of_lon_pts=n_pts)\n",
    "plot_coordinate(lat_lon_pts, start_pt, end_pt,\n",
    "                f\"Plot Great Circle, made from the arc {start_pt.title()} to {end_pt.title()}\")"
   ]
  },
  {
   "cell_type": "markdown",
   "metadata": {},
   "source": [
    "Excellent! And now a very extreme example, starting all the way down in Zambezi and all the way up to Svalbard"
   ]
  },
  {
   "cell_type": "code",
   "execution_count": null,
   "metadata": {},
   "outputs": [],
   "source": [
    "start_pt = \"zambezi\"\n",
    "end_pt = \"svalbard\"\n",
    "n_pts = 360\n",
    "lat_lon_pts = generate_latitude_along_gc(start_pt, end_pt, number_of_lon_pts=n_pts)\n",
    "plot_coordinate(lat_lon_pts, start_pt, end_pt,\n",
    "                f\"Plot Great Circle, made from the arc {start_pt.title()} to {end_pt.title()}\")"
   ]
  },
  {
   "cell_type": "markdown",
   "metadata": {},
   "source": [
    "#### Wait! Wasn't a Great Circle Suppose to be a Line?\n",
    "\n",
    "You are right! Great circle paths will appear like a straight line that cuts the globe in half. However, on a flat projection, a perfectly straight path will appear curved."
   ]
  },
  {
   "cell_type": "markdown",
   "metadata": {},
   "source": [
    "## Determine an Antipodal Point\n",
    "\n",
    "Imagine you could directly down below your feet through the Earth and all the way to the otherside of the planet. Where would that be? This exactly opposite position is known as a antipodal point. \n",
    "\n",
    "The latitude is simple, it is simply the inverse of your current latitude. So, standing at 40 degrees in Boulder, my antipodal latitude will sit at -40 degrees, we can defined this as:\n",
    "\n",
    "$$\\text{antipodal latitude} = -1 * \\text{latitude}$$\n",
    "\n",
    "Antipodal longitude is a little more complicated. This will depend on if you are standing to the East (positive) or West (negative) of the Prime Meridian (0 degrees longitude)\n",
    "\n",
    "$$\\text{anitpodal longitude} = (\\text{longitude} + 180) \\text{ if longitude} \\le 0$$\n",
    "$$\\text{anitpodal longitude} = (\\text{longitude} - 180) \\text{ if longitude} \\gt 0$$"
   ]
  },
  {
   "cell_type": "code",
   "execution_count": null,
   "metadata": {},
   "outputs": [],
   "source": [
    "def antipodal(start_point=None):\n",
    "    # return the antipodal (latitude/longitude) point from a starting position\n",
    "    anti_lat = -1 * location_df.loc[start_point, \"latitude\"]\n",
    "    ref_lon = location_df.loc[start_point, \"longitude\"]\n",
    "    if ref_lon > 0:\n",
    "        anti_lon = ref_lon - 180\n",
    "    else:\n",
    "        anti_lon = ref_lon + 180\n",
    "    return (float(anti_lat), float(anti_lon))"
   ]
  },
  {
   "cell_type": "code",
   "execution_count": null,
   "metadata": {},
   "outputs": [],
   "source": [
    "def is_antipodal(start_point=None, end_point=None):\n",
    "    # return true is a point is antipodal from another point\n",
    "    lon1 = np.deg2rad(location_df.loc[start_point, \"longitude\"])\n",
    "    lat1 = np.deg2rad(location_df.loc[start_point, \"latitude\"])\n",
    "    lon2 = np.deg2rad(location_df.loc[end_point, \"longitude\"])\n",
    "    lat2 = np.deg2rad(location_df.loc[end_point, \"latitude\"])\n",
    "    return lat1 + lat2 == 0 and abs(lon1-lon2) == np.pi"
   ]
  },
  {
   "cell_type": "markdown",
   "metadata": {},
   "source": [
    "[See for yourself on this antipodes map](https://www.antipodesmap.com/), but we can also plot this in Python."
   ]
  },
  {
   "cell_type": "code",
   "execution_count": null,
   "metadata": {},
   "outputs": [],
   "source": [
    "def plot_antipodal(start_point=None):\n",
    "    # Set up world map plot\n",
    "    fig = plt.subplots(figsize=(15, 10))\n",
    "    projection_map = ccrs.PlateCarree()\n",
    "    ax = plt.axes(projection=projection_map)\n",
    "    lon_west, lon_east, lat_south, lat_north = -180, 180, -90, 90\n",
    "    ax.set_extent([lon_west, lon_east, lat_south, lat_north], crs=projection_map)\n",
    "    ax.coastlines(color=\"black\")\n",
    "    ax.add_feature(cfeature.BORDERS, edgecolor='grey')\n",
    "    ax.add_feature(cfeature.STATES, edgecolor=\"grey\")\n",
    "        \n",
    "    # Plot Start point (in blue)\n",
    "    plt.scatter(location_df.loc[start_point, \"longitude\"],\n",
    "                location_df.loc[start_point, \"latitude\"],\n",
    "                s=100, c=\"cornflowerblue\", label=start_point.title())\n",
    "\n",
    "    # Plot Antipodal Point (in red)\n",
    "    antipodal_point = antipodal(start_point)\n",
    "    plt.scatter(antipodal_point[1], antipodal_point[0], s=100, c=\"red\", label=\"Antipodal\")\n",
    "    \n",
    "    # Setup Axis Limits and Title/Labels\n",
    "    plt.title(f\"{start_point.title()} and Antipodal Point {antipodal_point}\")\n",
    "    plt.legend(loc=\"lower right\")\n",
    "    plt.show()"
   ]
  },
  {
   "cell_type": "markdown",
   "metadata": {},
   "source": [
    "Let's see how this looks. Where does the antipodal point from Boulder lie?"
   ]
  },
  {
   "cell_type": "code",
   "execution_count": null,
   "metadata": {},
   "outputs": [],
   "source": [
    "plot_antipodal(\"boulder\")"
   ]
  },
  {
   "cell_type": "markdown",
   "metadata": {},
   "source": [
    "Ah, the middle of the ocean. What about Svalbard?"
   ]
  },
  {
   "cell_type": "code",
   "execution_count": null,
   "metadata": {},
   "outputs": [],
   "source": [
    "plot_antipodal(\"svalbard\")"
   ]
  },
  {
   "cell_type": "markdown",
   "metadata": {},
   "source": [
    "Just off the coast of Antartica! And the city of Cairo?"
   ]
  },
  {
   "cell_type": "code",
   "execution_count": null,
   "metadata": {},
   "outputs": [],
   "source": [
    "plot_antipodal(\"cairo\")"
   ]
  },
  {
   "cell_type": "markdown",
   "metadata": {},
   "source": [
    "We are back in the ocean, but that isn't strange. The Earth is mostly water, so don't be surprised if the point on the opposite of the globe from you is lying in the middle of the ocean."
   ]
  },
  {
   "cell_type": "markdown",
   "metadata": {},
   "source": [
    "---"
   ]
  },
  {
   "cell_type": "markdown",
   "metadata": {},
   "source": [
    "## Summary\n",
    "\n",
    "This notebook covered how to generate and plot great circle arcs and paths with just a starting and ending position. This also included how to calculate the bearing of a great circle arc as well interpolating along the great circle and even how to find the antipodal point to any point on the globe. You were able to see how the difference between treating the Earth as a sphere or as an ellipsoid impacts the final precision.\n",
    "\n",
    "\n",
    "### What's next?\n",
    "\n",
    "With a great circle arc defined, it's time to start using the great circle arc as part of a large question. Next, we will determine if a third point is along the arc or at what distance it sits from the great circle arc and path."
   ]
  },
  {
   "cell_type": "markdown",
   "metadata": {},
   "source": [
    "## Resources and references"
   ]
  },
  {
   "cell_type": "markdown",
   "metadata": {},
   "source": [
    "- [Ed Williams \"Avitation Formulary\"](https://edwilliams.org/avform147.htm)\n",
    "- [Movable Type Scripts](https://www.movable-type.co.uk/scripts/latlong.html)"
   ]
  }
 ],
 "metadata": {
  "kernelspec": {
   "display_name": "Python 3 (ipykernel)",
   "language": "python",
   "name": "python3"
  },
  "language_info": {
   "codemirror_mode": {
    "name": "ipython",
    "version": 3
   },
   "file_extension": ".py",
   "mimetype": "text/x-python",
   "name": "python",
   "nbconvert_exporter": "python",
   "pygments_lexer": "ipython3",
   "version": "3.13.5"
  },
  "nbdime-conflicts": {
   "local_diff": [
    {
     "diff": [
      {
       "diff": [
        {
         "key": 0,
         "op": "addrange",
         "valuelist": [
          "Python 3"
         ]
        },
        {
         "key": 0,
         "length": 1,
         "op": "removerange"
        }
       ],
       "key": "display_name",
       "op": "patch"
      }
     ],
     "key": "kernelspec",
     "op": "patch"
    }
   ],
   "remote_diff": [
    {
     "diff": [
      {
       "diff": [
        {
         "key": 0,
         "op": "addrange",
         "valuelist": [
          "Python3"
         ]
        },
        {
         "key": 0,
         "length": 1,
         "op": "removerange"
        }
       ],
       "key": "display_name",
       "op": "patch"
      }
     ],
     "key": "kernelspec",
     "op": "patch"
    }
   ]
  },
  "toc-autonumbering": false
 },
 "nbformat": 4,
 "nbformat_minor": 4
}
