{
 "cells": [
  {
   "cell_type": "markdown",
   "metadata": {},
   "source": [
    "<img src=\"https://i.pinimg.com/originals/3a/40/f9/3a40f906233af4665ddce02948013da5.gif\" alt=\"Air traffic gif\"></img>"
   ]
  },
  {
   "cell_type": "markdown",
   "metadata": {},
   "source": [
    "# Intersections of Great Circles"
   ]
  },
  {
   "cell_type": "markdown",
   "metadata": {},
   "source": [
    "---"
   ]
  },
  {
   "cell_type": "markdown",
   "metadata": {},
   "source": [
    "## Overview\n",
    "A great circle path crosses the entire planet and as a result, any two (valid) great circle paths will always intersect at exactly two points around the globe.\n",
    "\n",
    "In this notebook, we will:\n",
    "\n",
    "1. Find the intersection of two great circle paths "
   ]
  },
  {
   "cell_type": "markdown",
   "metadata": {},
   "source": [
    "## Prerequisites\n",
    "\n",
    "| Concepts | Importance | Notes |\n",
    "| --- | --- | --- |\n",
    "| [Numpy](https://foundations.projectpythia.org/core/numpy/) | Necessary | Used to work with large arrays |\n",
    "| [Pandas](https://foundations.projectpythia.org/core/pandas) | Necessary | Used to read in and organize data (in particular dataframes) |\n",
    "| [Intro to Cartopy](https://foundations.projectpythia.org/core/cartopy) | Helpful | Will be used for adding maps to plotting |\n",
    "| [Matplotlib](https://foundations.projectpythia.org/core/matplotlib/) | Helpful | Will be used for plotting |\n",
    "\n",
    "- **Time to learn**: 30 minutes"
   ]
  },
  {
   "cell_type": "markdown",
   "metadata": {},
   "source": [
    "---"
   ]
  },
  {
   "cell_type": "markdown",
   "metadata": {},
   "source": [
    "## Imports\n",
    "\n",
    "- Import Packages\n",
    "- Setup location dataframe with coordinates"
   ]
  },
  {
   "cell_type": "code",
   "execution_count": null,
   "metadata": {},
   "outputs": [],
   "source": [
    "import pandas as pd       # reading in data for location information from text file\n",
    "import numpy as np        # working with arrays, vectors, cross/dot products, and radians\n",
    "\n",
    "from pyproj import Geod   # working with the Earth as an ellipsod (WGS-84)\n",
    "import geopy.distance     # working with the Earth as an ellipsod\n",
    "\n",
    "import matplotlib.pyplot as plt                        # plotting a graph\n",
    "from cartopy import crs as ccrs, feature as cfeature   # plotting a world map"
   ]
  },
  {
   "cell_type": "code",
   "execution_count": null,
   "metadata": {},
   "outputs": [],
   "source": [
    "# Get all Coordinates for Locations\n",
    "location_df = pd.read_csv(\"../location_full_coords.txt\")\n",
    "location_df = location_df.rename(columns=lambda x: x.strip()) # strip excess white space from column names and values\n",
    "location_df.head()"
   ]
  },
  {
   "cell_type": "code",
   "execution_count": null,
   "metadata": {},
   "outputs": [],
   "source": [
    "location_df.index = location_df[\"name\"]"
   ]
  },
  {
   "cell_type": "markdown",
   "metadata": {},
   "source": [
    "## Find the intersection of two great circle paths\n",
    "\n",
    "The intersection of two great circle paths always exists at two positions on the globe."
   ]
  },
  {
   "cell_type": "markdown",
   "metadata": {},
   "source": [
    "### Math of intersection\n",
    "\n",
    "We can determine the intersections of two great circle paths as a the normal of two planes containing the great circles. Where the two planes intersect will represent the intersections on the surface of the globe.\n",
    "\n",
    "First, we find the cross product of the vectors for the position's cartesian coordinates. Then, we find the cross product of the two normal planes. This will result in two intersection points, one for each side of the planet.\n",
    "\n",
    "- [See more: Intersecting Radials](edwilliams.org/avform147.htm#Intersection)"
   ]
  },
  {
   "cell_type": "code",
   "execution_count": null,
   "metadata": {},
   "outputs": [],
   "source": [
    "def intersection_of_gc(start_gc1=None, end_gc1=None,\n",
    "                      start_gc2=None, end_gc2=None):\n",
    "    # determine the normal of planes containing great circles\n",
    "\n",
    "    # cross product of vectors\n",
    "    normal_one = np.cross([location_df.loc[start_gc1, \"cart_x\"],\n",
    "                           location_df.loc[start_gc1, \"cart_y\"],\n",
    "                           location_df.loc[start_gc1, \"cart_z\"]],\n",
    "                          [location_df.loc[end_gc1, \"cart_x\"],\n",
    "                           location_df.loc[end_gc1, \"cart_y\"],\n",
    "                           location_df.loc[end_gc1, \"cart_z\"]])\n",
    "    normal_two = np.cross([location_df.loc[start_gc2, \"cart_x\"],\n",
    "                           location_df.loc[start_gc2, \"cart_y\"],\n",
    "                           location_df.loc[start_gc2, \"cart_z\"]],\n",
    "                          [location_df.loc[end_gc2, \"cart_x\"],\n",
    "                           location_df.loc[end_gc2, \"cart_y\"],\n",
    "                           location_df.loc[end_gc2, \"cart_z\"]])\n",
    "\n",
    "    # intersection of planes, normal to the poles of each plane\n",
    "    line_of_intersection = np.cross(normal_one, normal_two)\n",
    "\n",
    "    # intersection points (one on each side of the earth)\n",
    "    x1 = line_of_intersection /  np.sqrt(line_of_intersection[0]**2 + line_of_intersection[1]**2 + line_of_intersection[2]**2) \n",
    "    x2 = -x1\n",
    "    lat1 = np.rad2deg(np.arctan2(x1[2], np.sqrt(pow(x1[0],2)+pow(x1[1],2))))\n",
    "    lon1 = np.rad2deg(np.arctan2(x1[1], x1[0]))\n",
    "    lat2 = np.rad2deg(np.arctan2(x2[2], np.sqrt(pow(x2[0],2)+pow(x2[1],2))))\n",
    "    lon2 = np.rad2deg(np.arctan2(x2[1], x2[0]))\n",
    "    return [(float(lat1), float(lon1)), (float(lat2), float(lon2))]"
   ]
  },
  {
   "cell_type": "code",
   "execution_count": null,
   "metadata": {},
   "outputs": [],
   "source": [
    "intersect_pts = intersection_of_gc(\"boulder\", \"boston\", \"greenwich\", \"cairo\")\n",
    "print(f\"Intersection points for Great Circle Arc A (Boulder to Boston) an B (Greenwich to Cairo) = {intersect_pts}\")"
   ]
  },
  {
   "cell_type": "markdown",
   "metadata": {},
   "source": [
    "### Plot Intersections with Great Circle Paths\n",
    "\n",
    "The intersection points will be easier to understand when plotted on a map, so let's plot the two great circle paths and highlight where they intersect."
   ]
  },
  {
   "cell_type": "code",
   "execution_count": null,
   "metadata": {
    "jupyter": {
     "source_hidden": true
    }
   },
   "outputs": [],
   "source": [
    "# See Previous Notebooks to see how we generated a list of points to represent the great circle path\n",
    "\n",
    "def generate_latitude_along_gc(start_point=None, end_point=None, number_of_lon_pts=360):\n",
    "    lon1 = np.deg2rad(location_df.loc[start_point, \"longitude\"])\n",
    "    lat1 = np.deg2rad(location_df.loc[start_point, \"latitude\"])\n",
    "    lon2 = np.deg2rad(location_df.loc[end_point, \"longitude\"])\n",
    "    lat2 = np.deg2rad(location_df.loc[end_point, \"latitude\"])\n",
    "\n",
    "    # Verify not meridian (longitude passes through the poles)\n",
    "    if np.sin(lon1 - lon2) == 0:\n",
    "        print(\"Invalid inputs: start/end points are meridians\")\n",
    "        # plotting meridians at 0 longitude through all latitudes\n",
    "        meridian_lat = np.arange(-90, 90, 180/len(longitude_lst)) # split in n number\n",
    "        meridians = []\n",
    "        for lat in meridian_lat:\n",
    "            meridians.append((lat, 0))\n",
    "        return meridians\n",
    "\n",
    "    # verify not anitpodal (diametrically opposite, points)\n",
    "    if lat1 + lat2 == 0 and abs(lon1-lon2) == np.pi:\n",
    "        print(\"Invalid inputs: start/end points are antipodal\")\n",
    "        return []\n",
    "\n",
    "    # note: can be expanded to handle input of np arrays by filter out antipodal/merdiain points\n",
    "\n",
    "    # generate n total number of longitude points along the great circle\n",
    "    # https://github.com/rspatial/geosphere/blob/master/R/greatCircle.R#L18C3-L18C7\n",
    "    gc_lon_lst = []\n",
    "    for lon in range(1, number_of_lon_pts+1):\n",
    "        new_lon = (lon  * (360/number_of_lon_pts) - 180)\n",
    "        gc_lon_lst.append(np.deg2rad(new_lon))\n",
    "\n",
    "    # Intermediate points on a great circle: https://edwilliams.org/avform147.htm\"\n",
    "    gc_lat_lon = []\n",
    "    for gc_lon in gc_lon_lst:\n",
    "        num = np.sin(lat1)*np.cos(lat2)*np.sin(gc_lon-lon2)-np.sin(lat2)*np.cos(lat1)*np.sin(gc_lon-lon1)\n",
    "        den = np.cos(lat1)*np.cos(lat2)*np.sin(lon1-lon2)\n",
    "        new_lat = np.arctan(num/den)\n",
    "        gc_lat_lon.append((np.rad2deg(new_lat), np.rad2deg(gc_lon)))\n",
    "    return gc_lat_lon\n",
    "\n",
    "def interpolate_points_along_gc(start_point=None, end_point=None,\n",
    "                                distance_between_points_meter=0): \n",
    "    geodesic = Geod(ellps=\"WGS84\")\n",
    "    \n",
    "    lat_start = location_df.loc[start_point, \"latitude\"]\n",
    "    lon_start = location_df.loc[start_point, \"longitude\"]\n",
    "    lat_end = location_df.loc[end_point, \"latitude\"]\n",
    "    lon_end = location_df.loc[end_point, \"longitude\"]\n",
    "\n",
    "    lat_lon_points = [(lat_start, lon_start)]\n",
    "    \n",
    "    # move to next point when distance between points is less than the equal distance\n",
    "    move_to_next_point = True\n",
    "    while(move_to_next_point):\n",
    "        forward_bearing, _, distance_meters = geodesic.inv(lon_start,\n",
    "                                                            lat_start, \n",
    "                                                            lon_end,\n",
    "                                                            lat_end)\n",
    "        if distance_meters < distance_between_points_meter:\n",
    "            # ends before overshooting\n",
    "            move_to_next_point = False\n",
    "        else:\n",
    "            start_point = geopy.Point(lat_start, lon_start)\n",
    "            distance_to_move = geopy.distance.distance(\n",
    "                            kilometers=distance_between_points_meter /\n",
    "                            1000)  # distance to move towards the next point\n",
    "            final_position = distance_to_move.destination(\n",
    "                            start_point, bearing=forward_bearing)\n",
    "            lat_lon_points.append((final_position.latitude, final_position.longitude))\n",
    "            # new starting position is newly found end position\n",
    "            lon_start, lat_start = final_position.longitude, final_position.latitude\n",
    "    lat_lon_points.append((lat_end, lon_end))\n",
    "    return lat_lon_points\n",
    "\n",
    "def arc_points(start_point=None, end_point=None,\n",
    "               n_total_points=10):\n",
    "    start_lat = location_df.loc[start_point, \"latitude\"]\n",
    "    start_lon = location_df.loc[start_point, \"longitude\"]\n",
    "    end_lat = location_df.loc[end_point, \"latitude\"]\n",
    "    end_lon = location_df.loc[end_point, \"longitude\"]\n",
    "\n",
    "    geodesic = Geod(ellps=\"WGS84\")\n",
    "\n",
    "    _, _, distance_meter =  geodesic.inv(start_lon,\n",
    "                                        start_lat,\n",
    "                                        end_lon,\n",
    "                                        end_lat)\n",
    "        \n",
    "    distance_between_points_meter = distance_meter / (n_total_points + 1)\n",
    "\n",
    "    \n",
    "    points_along_arc = interpolate_points_along_gc(start_point, end_point,\n",
    "                                              distance_between_points_meter)\n",
    "    return points_along_arc"
   ]
  },
  {
   "cell_type": "code",
   "execution_count": null,
   "metadata": {},
   "outputs": [],
   "source": [
    "def plot_gc_with_intersection(start_gc1=None, end_gc1=None,\n",
    "                             start_gc2=None, end_gc2=None,\n",
    "                             lon_west=-180, lon_east=180,\n",
    "                             lat_south=-90, lat_north=90):\n",
    "    # Set up world map plot\n",
    "    fig = plt.subplots(figsize=(15, 10))\n",
    "    projection_map = ccrs.PlateCarree()\n",
    "    ax = plt.axes(projection=projection_map)\n",
    "    ax.set_extent([lon_west, lon_east, lat_south, lat_north], crs=projection_map)\n",
    "    ax.coastlines(color=\"black\")\n",
    "    ax.add_feature(cfeature.STATES, edgecolor=\"black\")\n",
    "\n",
    "    # Plot Great Circle Path for Path A and B\n",
    "    gc_one_lat_pts = generate_latitude_along_gc(start_gc1, end_gc1)\n",
    "    longitudes = [x[1] for x in gc_one_lat_pts] # longitude\n",
    "    latitudes = [x[0] for x in gc_one_lat_pts] # latitude\n",
    "    plt.plot(longitudes, latitudes, c=\"cornflowerblue\", label=\"GC Path A\")\n",
    "    gc_two_lat_pts = generate_latitude_along_gc(start_gc2, end_gc2)\n",
    "    longitudes = [x[1] for x in gc_two_lat_pts] # longitude\n",
    "    latitudes = [x[0] for x in gc_two_lat_pts] # latitude\n",
    "    plt.plot(longitudes, latitudes, c=\"orange\", label=\"GC Path B\")\n",
    "\n",
    "    # Plot intersection points between two paths in purple\n",
    "    intersection_point = intersection_of_gc(start_gc1, end_gc1,\n",
    "                                            start_gc2, end_gc2)\n",
    "    longitudes = [x[1] for x in intersection_point] # longitude\n",
    "    latitudes = [x[0] for x in intersection_point] # latitude\n",
    "    plt.scatter(longitudes, latitudes, s=200, c=\"purple\", label=\"intersection\")\n",
    "\n",
    "    # Plot Great Circle Arc 1 in red\n",
    "    gc_one_arc_pts = arc_points(start_gc1, end_gc1)\n",
    "    longitudes = [x[1] for x in gc_one_arc_pts] # longitude\n",
    "    latitudes = [x[0] for x in gc_one_arc_pts] # latitude\n",
    "    plt.plot(longitudes, latitudes, c=\"red\", label=\"GC Arc A\")\n",
    "\n",
    "    # Plot Great Circle Arc 2 in light blue-green (cyan)\n",
    "    gc_two_arc_pts = arc_points(start_gc2, end_gc2)\n",
    "    longitudes = [x[1] for x in gc_two_arc_pts] # longitude\n",
    "    latitudes = [x[0] for x in gc_two_arc_pts] # latitude\n",
    "    plt.plot(longitudes, latitudes, c=\"cyan\", label=\"GC Arc B\")\n",
    "\n",
    "    plt.legend(loc=\"lower left\")\n",
    "    plt.title(f\"Intersection Point = {intersection_point}\")\n",
    "    plt.show()"
   ]
  },
  {
   "cell_type": "code",
   "execution_count": null,
   "metadata": {},
   "outputs": [],
   "source": [
    "plot_gc_with_intersection(\"boulder\", \"boston\", \"greenwich\", \"cairo\")"
   ]
  },
  {
   "cell_type": "code",
   "execution_count": null,
   "metadata": {},
   "outputs": [],
   "source": [
    "plot_gc_with_intersection(\"arecibo\", \"zambezi\", \"johannesburg\", \"reykjavík\")"
   ]
  },
  {
   "cell_type": "markdown",
   "metadata": {},
   "source": [
    "---"
   ]
  },
  {
   "cell_type": "markdown",
   "metadata": {},
   "source": [
    "## Summary\n",
    "\n",
    "In this notebook, we determined the position where two great circle paths interact on the globe.\n",
    "\n",
    "### What's next?\n",
    "\n",
    "Next, we will calculate the internal angles associated with multiple great circles."
   ]
  },
  {
   "cell_type": "markdown",
   "metadata": {},
   "source": [
    "## Resources and references"
   ]
  },
  {
   "cell_type": "markdown",
   "metadata": {},
   "source": [
    "- [Aviation Formulary V1.47](https://edwilliams.org/avform147.htm)\n",
    "- [Moveable Type Script](https://www.movable-type.co.uk/scripts/latlong.html)"
   ]
  }
 ],
 "metadata": {
  "kernelspec": {
   "display_name": "Python 3 (ipykernel)",
   "language": "python",
   "name": "python3"
  },
  "language_info": {
   "codemirror_mode": {
    "name": "ipython",
    "version": 3
   },
   "file_extension": ".py",
   "mimetype": "text/x-python",
   "name": "python",
   "nbconvert_exporter": "python",
   "pygments_lexer": "ipython3",
   "version": "3.13.5"
  },
  "nbdime-conflicts": {
   "local_diff": [
    {
     "diff": [
      {
       "diff": [
        {
         "key": 0,
         "op": "addrange",
         "valuelist": [
          "Python 3"
         ]
        },
        {
         "key": 0,
         "length": 1,
         "op": "removerange"
        }
       ],
       "key": "display_name",
       "op": "patch"
      }
     ],
     "key": "kernelspec",
     "op": "patch"
    }
   ],
   "remote_diff": [
    {
     "diff": [
      {
       "diff": [
        {
         "key": 0,
         "op": "addrange",
         "valuelist": [
          "Python3"
         ]
        },
        {
         "key": 0,
         "length": 1,
         "op": "removerange"
        }
       ],
       "key": "display_name",
       "op": "patch"
      }
     ],
     "key": "kernelspec",
     "op": "patch"
    }
   ]
  },
  "toc-autonumbering": false
 },
 "nbformat": 4,
 "nbformat_minor": 4
}
