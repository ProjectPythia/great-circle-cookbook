{
 "cells": [
  {
   "cell_type": "markdown",
   "metadata": {
    "editable": true,
    "slideshow": {
     "slide_type": ""
    },
    "tags": []
   },
   "source": [
    "<img src=\"https://d9-wret.s3.us-west-2.amazonaws.com/assets/palladium/production/s3fs-public/media/images/great%20circle.gif\" alt=\"Great Circle USGS\"></img>"
   ]
  },
  {
   "cell_type": "markdown",
   "metadata": {},
   "source": [
    "# Great Circle Terminology"
   ]
  },
  {
   "cell_type": "markdown",
   "metadata": {},
   "source": [
    "---"
   ]
  },
  {
   "cell_type": "markdown",
   "metadata": {},
   "source": [
    "## Overview\n",
    "Great Circles are powerful tools used in navigation like ships and planes as well as in geoscience for working with and understnading remote sensing via satellites. Great Circle mathematics make use of spherical geometry, where, rather than lines, shapes on a sphere are formed by the intersection of arcs along the curved surface.\n",
    "\n",
    "While spherical geoemtry played an important role historically in the fields of astronomy and navigation, its teaching has largely fallen out of favor since the 1950's making finding comphrenshive resources difficult.\n",
    "\n",
    "This notebook will cover some of the important and unqiue terminology used when working with Great Circles and spherical geometry\n",
    "\n",
    "1. Spherical Geometry\n",
    "1. Great Circles\n",
    "1. Ellipsoids vs. Spheres\n",
    "1. Geodesy\n",
    "1. A Note on Resources"
   ]
  },
  {
   "cell_type": "markdown",
   "metadata": {},
   "source": [
    "## Prerequisites\n",
    "\n",
    "Label the importance of each concept explicitly as **helpful/necessary**.\n",
    "\n",
    "| Concepts | Importance | Notes |\n",
    "| --- | --- | --- |\n",
    "| [Understanding of NetCDF](https://foundations.projectpythia.org/core/data-formats/netcdf-cf.html) | Helpful | Familiarity with metadata structure |\n",
    "| Project management | Helpful | |\n",
    "\n",
    "- **Time to learn**: 20 minutes"
   ]
  },
  {
   "cell_type": "markdown",
   "metadata": {},
   "source": [
    "---"
   ]
  },
  {
   "cell_type": "markdown",
   "metadata": {},
   "source": [
    "## Spherical Geometry\n",
    "\n",
    "### Spherical Trigonometry\n",
    "\n",
    "Spherical geometry (and one of it important branches: spherical trigonometry) provide for solutions for relationshsips between sides and angles that are commonly solved for with trigonometric functions for right-angled triangles. Spherical trigonometry is unique from traidtional right-angle triangles in many ways, but for example, a triangle on a sphere can easily have internal angles that add up to more than 180 degrees.\n",
    "\n",
    "> The sum of the angles of a spherical triangle is not equal to 180°. A sphere is a curved surface, but locally the laws of the flat (planar) Euclidean geometry are good approximations. In a small triangle on the face of the earth, the sum of the angles is only slightly more than 180 degrees\n",
    "> \n",
    "> [Wikipedia: Spherical geometry](https://en.wikipedia.org/wiki/Spherical_geometry)\n",
    "\n",
    "<img src=\"https://upload.wikimedia.org/wikipedia/commons/thumb/9/97/Triangles_%28spherical_geometry%29.jpg/1094px-Triangles_%28spherical_geometry%29.jpg\" alt=\"Great Circle USGS\" width=400></img>\n",
    "\n",
    "### Spherical Triangles\n",
    "TODO: via Spherical trigonometry (Fajardo)\n",
    "\n",
    "### Napier's Rules\n",
    "TODO: via Spherical trigonometry (Fajardo)\n",
    "\n",
    "### Law of Cosines\n",
    "> \"The cosine rule is the fundamental identity of spherical trigonometry: all other identities, including the sine rule, may be derived from the cosine rule\" [(Wikiepedia)](https://en.wikipedia.org/wiki/Spherical_trigonometry)\n",
    "\n",
    "Where the angles A, B, C are opposite of sides a, b, c, where:\n",
    "\n",
    "$$cos(a) = cos(b)cos(c) + sin(b)sin(c)cos(A)$$\n",
    "$$cos(b) = cos(c)cos(a) + sin(c)sin(a)cos(B)$$\n",
    "$$cos(c) = cos(a)cos(b) + sin(a)sin(b)cos(C)$$\n",
    "### Law of Sines\n",
    "\n",
    "The spherical law of sines states that angles A, B, and C be the angles opposite of the sides a, b, c, where\n",
    "\n",
    "$$\\frac{sin(A)}{sin(a)} = \\frac{sin(B)}{sin(b)} = \\frac{sin(C)}{sin(c)}$$\n",
    "\n",
    "[Proof of Spherical Law of Sines](https://en.wikipedia.org/wiki/Law_of_sines#The_spherical_law_of_sines)"
   ]
  },
  {
   "cell_type": "markdown",
   "metadata": {},
   "source": [
    "## Great Circles\n",
    "\n",
    "### Great Circle Path vs. Great Circle Arc\n",
    "\n",
    "A great circle is the largest circle that can be formed on the surface of a sphere created b the intersection of a plane that also passes through the center of the sphere\n",
    "\n",
    "For example, the equator is an example of a great circle, which can be imaged as a plane cutting directly through the center of the planet and intersecting the center.\n",
    "\n",
    "A great circle path is a closed  path (-180 to 180 degrees longitude) that a great circle formed around the entire planet. A great circle path can be defined by a shorter great circle arc which can be formed by:\n",
    "- At least two points\n",
    "- One point, a bearing, and a distance"
   ]
  },
  {
   "cell_type": "markdown",
   "metadata": {},
   "source": [
    "## Ellipsoids vs. Spheres\n",
    "\n",
    "The earth is not round, instead it is an irregular ellipsoid known as a an oblate spheroid where the poles are slightly flatter. Spherical trigonomeyry assumes a unit sphere, so working on Earth, without additional corrections, spherical measurements will contain up to 0.3% (22 km) when assuming the Earth is a perfect sphere\n",
    "\n",
    "> TODO: https://gis.stackexchange.com/questions/25494/how-accurate-is-approximating-earth-as-sphere\n",
    "\n",
    "To account for the error when assuming the Earth is a sphere, there are various geodetic systems and ellipsoids to include in calculations.\n",
    "\n",
    "### Geodesic and Python\n",
    "\n",
    "For the purpose of this notebook we will be taking advantage of two geodesic Python packages:\n",
    "\n",
    "- [`pyproj`: Python interface to PROJ (catographic projections and coordinate transformations library)](https://pyproj4.github.io/pyproj/stable/)\n",
    "- `geopy`:\n",
    "\n",
    "`pyproj` and `geopy` both take advantage of different types of (optional) ellipsoids"
   ]
  },
  {
   "cell_type": "code",
   "execution_count": 40,
   "metadata": {},
   "outputs": [
    {
     "data": {
      "text/plain": [
       "dict_keys(['MERIT', 'SGS85', 'GRS80', 'IAU76', 'airy', 'APL4.9', 'NWL9D', 'mod_airy', 'andrae', 'danish', 'aust_SA', 'GRS67', 'GSK2011', 'bessel', 'bess_nam', 'clrk66', 'clrk80', 'clrk80ign', 'CPM', 'delmbr', 'engelis', 'evrst30', 'evrst48', 'evrst56', 'evrst69', 'evrstSS', 'fschr60', 'fschr60m', 'fschr68', 'helmert', 'hough', 'intl', 'krass', 'kaula', 'lerch', 'mprts', 'new_intl', 'plessis', 'PZ90', 'SEasia', 'walbeck', 'WGS60', 'WGS66', 'WGS72', 'WGS84', 'sphere'])"
      ]
     },
     "execution_count": 40,
     "metadata": {},
     "output_type": "execute_result"
    }
   ],
   "source": [
    "import pyproj\n",
    "pyproj.list.get_ellps_map().keys()"
   ]
  },
  {
   "cell_type": "code",
   "execution_count": 45,
   "metadata": {},
   "outputs": [
    {
     "data": {
      "text/plain": [
       "dict_keys(['WGS-84', 'GRS-80', 'Airy (1830)', 'Intl 1924', 'Clarke (1880)', 'GRS-67'])"
      ]
     },
     "execution_count": 45,
     "metadata": {},
     "output_type": "execute_result"
    }
   ],
   "source": [
    "from geopy import distance\n",
    "distance.ELLIPSOIDS.keys()"
   ]
  },
  {
   "cell_type": "markdown",
   "metadata": {},
   "source": [
    "**The standard reference ellipsoid for working with Earth is WGS-84**\n",
    "\n",
    "`geopy` by default makes use of WGS-84 where \"the mean earth radius as defined by the International Union of Geodesy and Geophysics, (2a + b)/3 = 6371.0087714150598 kilometers approx 6371.009 km (for WGS-84), resulting in an error of up to about 0.5%\" ([geopy](https://geopy.readthedocs.io/en/stable/))\n",
    "\n",
    "WGS-84 is a unified global ellipsoid model that is used for GPS collected from GPS satellites to calculate extremely preise measurements of the Earth. For the purpose of this notebook, this is the ellipsoid model we will be working with"
   ]
  },
  {
   "cell_type": "code",
   "execution_count": 47,
   "metadata": {},
   "outputs": [
    {
     "name": "stdout",
     "output_type": "stream",
     "text": [
      "{'a': 6378137.0, 'rf': 298.257223563, 'description': 'WGS 84'}\n",
      "(6378.137, 6356.7523142, 0.0033528106647474805)\n"
     ]
    }
   ],
   "source": [
    "print(pyproj.list.get_ellps_map()[\"WGS84\"])\n",
    "print(distance.ELLIPSOIDS[\"WGS-84\"])"
   ]
  },
  {
   "cell_type": "markdown",
   "metadata": {},
   "source": [
    "WGS-84 is an ellipsoid with a semi-major axis of `6378137.0` meters, an inverse flattening feature of `298.257223563`, and a flattening factor of `0.0033528106647474805`\n",
    "\n",
    "[Learn more!](https://gisgeography.com/wgs84-world-geodetic-system/)"
   ]
  },
  {
   "cell_type": "markdown",
   "metadata": {},
   "source": [
    "## Geodesy\n",
    "\n",
    "Geodesy is the complex science of measuring the Earth's \"geometric shape, orientation in space, and gravity field\"\n",
    "\n",
    "[Learn more!](https://oceanservice.noaa.gov/facts/geodesy.html)\n",
    "\n",
    "### Geodesic\n",
    "\n",
    "A geodesic is the shortest curved path between any two points on a surface. A \"straight line\" on the surface of a curved surface like a sphere form an arc\n",
    "\n",
    "> If an insect is placed on a surface and continually walks \"forward\", by definition it will trace out a geodesic\n",
    ">\n",
    "> [Wikipedia - Geodesic](https://en.wikipedia.org/wiki/Geodesic)\n",
    "\n",
    "<img src=\"https://upload.wikimedia.org/wikipedia/commons/6/6a/Insect_on_a_torus_tracing_out_a_non-trivial_geodesic.gif\" alt=\"Straight Line on a curved surface\" width=400></img>\n",
    "\n",
    "This is espeically apparent when working with satellite data where the apparent \"straight path\" that a satellite will trace across the the surface of a planet \n",
    "\n",
    "<img src=\"https://www.earthdata.nasa.gov/s3fs-public/styles/small_third_320px_/public/2021-12/Aqua%20orbit%20resize.jpg?VersionId=jEIj8OggQelV01yl3SaAffu1hOWFbKvt&itok=8JY0VP7Y\" alt=\"Straight Line on a curved surface\" width=400></img>\n",
    "\n",
    "[Image Source: EarthData](https://www.earthdata.nasa.gov/learn/backgrounders/remote-sensing)\n"
   ]
  },
  {
   "cell_type": "markdown",
   "metadata": {},
   "source": [
    "## An Important Note on Resources\n",
    "\n",
    "Spherical geometry and resources associated with working with great circles can be difficult to find\n",
    "\n",
    "Here are a list of some for working mathematically with great circles:\n",
    "- [Ed Williams \"Avitation Formulary\"](https://edwilliams.org/avform147.htm)\n",
    "- [Movable Type Scripts](https://www.movable-type.co.uk/scripts/latlong.html)\n",
    "- \"Heavenly Mathematics: The Forgotten Art of SPherical Trigonometry\" by Glen Van Brummelen\n",
    "- \"SPherical Trigonometry: A Comphrehensive Approach\" by Ira Arevalo Fajardo"
   ]
  },
  {
   "cell_type": "markdown",
   "metadata": {},
   "source": [
    "---"
   ]
  },
  {
   "cell_type": "markdown",
   "metadata": {},
   "source": [
    "## Summary\n",
    "\n",
    "A great circle is formed by a plane intersecting a sphere and the center, like the equator\n",
    "\n",
    "\n",
    "Great Circles make use of spherical geometry to measure features on the curved surface of a unit sphere. However, planets like Earth are not perfect spheres and to account for the error are combined with geodesic calculations to reduce the error in final calculations\n",
    "\n",
    "### What's next?\n",
    "\n",
    "Coordinates and Great Circles\n"
   ]
  },
  {
   "cell_type": "code",
   "execution_count": null,
   "metadata": {},
   "outputs": [],
   "source": []
  }
 ],
 "metadata": {
  "kernelspec": {
   "display_name": "Python 3 (ipykernel)",
   "language": "python",
   "name": "python3"
  },
  "language_info": {
   "codemirror_mode": {
    "name": "ipython",
    "version": 3
   },
   "file_extension": ".py",
   "mimetype": "text/x-python",
   "name": "python",
   "nbconvert_exporter": "python",
   "pygments_lexer": "ipython3",
   "version": "3.11.8"
  },
  "nbdime-conflicts": {
   "local_diff": [
    {
     "diff": [
      {
       "diff": [
        {
         "key": 0,
         "op": "addrange",
         "valuelist": [
          "Python 3"
         ]
        },
        {
         "key": 0,
         "length": 1,
         "op": "removerange"
        }
       ],
       "key": "display_name",
       "op": "patch"
      }
     ],
     "key": "kernelspec",
     "op": "patch"
    }
   ],
   "remote_diff": [
    {
     "diff": [
      {
       "diff": [
        {
         "key": 0,
         "op": "addrange",
         "valuelist": [
          "Python3"
         ]
        },
        {
         "key": 0,
         "length": 1,
         "op": "removerange"
        }
       ],
       "key": "display_name",
       "op": "patch"
      }
     ],
     "key": "kernelspec",
     "op": "patch"
    }
   ]
  },
  "toc-autonumbering": false
 },
 "nbformat": 4,
 "nbformat_minor": 4
}
