{
 "cells": [
  {
   "cell_type": "markdown",
   "metadata": {},
   "source": [
    "<img src=\"https://upload.wikimedia.org/wikipedia/commons/f/f2/Sphere5tesselation.gif\" alt=\"Tiling of the sphere by spherical triangles\"></img>"
   ]
  },
  {
   "cell_type": "markdown",
   "metadata": {},
   "source": [
    "# Spherical Polygons and Areas"
   ]
  },
  {
   "cell_type": "markdown",
   "metadata": {},
   "source": [
    "---"
   ]
  },
  {
   "cell_type": "markdown",
   "metadata": {},
   "source": [
    "## Overview\n",
    "In this notebook, we will calculate how to use spherical polygons on a unit sphere to determine areas and perimeters.\n",
    "\n",
    "- Calculate area and permieter of quadrilateral patch on a unit sphere\n",
    "- Determine if a given point is within a spherical polygon\n",
    "- Mean center of spherical polygon"
   ]
  },
  {
   "cell_type": "markdown",
   "metadata": {},
   "source": [
    "## Prerequisites\n",
    "\n",
    "| Concepts | Importance | Notes |\n",
    "| --- | --- | --- |\n",
    "| [Numpy](https://foundations.projectpythia.org/core/numpy/) | Necessary | Used to work with large arrays |\n",
    "| [Pandas](https://foundations.projectpythia.org/core/pandas) | Necessary | Used to read in and organize data (in particular dataframes) |\n",
    "| [Intro to Cartopy](https://foundations.projectpythia.org/core/cartopy) | Helpful | Will be used for adding maps to plotting |\n",
    "| [Matplotlib](https://foundations.projectpythia.org/core/matplotlib/) | Helpful | Will be used for plotting |\n",
    "\n",
    "- **Time to learn**: 20 minutes"
   ]
  },
  {
   "cell_type": "markdown",
   "metadata": {},
   "source": [
    "---"
   ]
  },
  {
   "cell_type": "markdown",
   "metadata": {},
   "source": [
    "## Imports\n",
    "\n",
    "- Import Packages\n",
    "- Setup location dataframe with coordinates"
   ]
  },
  {
   "cell_type": "code",
   "execution_count": null,
   "metadata": {},
   "outputs": [],
   "source": [
    "import pandas as pd       # reading in data for location information from text file\n",
    "import numpy as np        # working with arrays, vectors, cross/dot products, and radians\n",
    "\n",
    "from pyproj import Geod   # working with the Earth as an ellipsod (WGS-84)\n",
    "\n",
    "from shapely.geometry import Point\n",
    "from shapely.geometry.polygon import Polygon\n",
    "\n",
    "import matplotlib.pyplot as plt                        # plotting a graph\n",
    "from cartopy import crs as ccrs, feature as cfeature   # plotting a world map"
   ]
  },
  {
   "cell_type": "code",
   "execution_count": null,
   "metadata": {},
   "outputs": [],
   "source": [
    "# Get all Coordinates for Locations\n",
    "location_df = pd.read_csv(\"../location_full_coords.txt\")\n",
    "location_df = location_df.rename(columns=lambda x: x.strip()) # strip excess white space from column names and values\n",
    "location_df.head()"
   ]
  },
  {
   "cell_type": "code",
   "execution_count": null,
   "metadata": {},
   "outputs": [],
   "source": [
    "location_df.index = location_df[\"name\"]"
   ]
  },
  {
   "cell_type": "markdown",
   "metadata": {},
   "source": [
    "## Area and Perimeter of quadrilateral patch\n",
    "\n",
    "We can make use of the `pyproj` Python package to calculate the area and perimeter of a patch formed by a list of latitude and longitude coordinates for an ellipsoid or a unit sphere."
   ]
  },
  {
   "cell_type": "code",
   "execution_count": null,
   "metadata": {},
   "outputs": [],
   "source": [
    "def area_of_polygon_ellps(poly_pts=None):\n",
    "    geod = Geod(ellps=\"WGS84\")\n",
    "    longitudes = [location_df.loc[pt, \"longitude\"] for pt in poly_pts]\n",
    "    latitudes = [location_df.loc[pt, \"latitude\"] for pt in poly_pts]\n",
    "    poly_area_m, poly_perimeter_m = geod.polygon_area_perimeter(longitudes, latitudes)\n",
    "    return abs(poly_area_m) * 1e-6, poly_perimeter_m/1000 # km^2 and km\n",
    "\n",
    "def area_of_polygon_unit_sphere(poly_pts=None):\n",
    "    geod = Geod(ellps=\"sphere\") # 'sphere': {'a': 6370997.0, 'b': 6370997.0, 'description': 'Normal Sphere (r=6370997)'\n",
    "    longitudes = [location_df.loc[pt, \"longitude\"] for pt in poly_pts]\n",
    "    latitudes = [location_df.loc[pt, \"latitude\"] for pt in poly_pts]\n",
    "    poly_area_m, poly_perimeter_m = geod.polygon_area_perimeter(longitudes, latitudes)\n",
    "    return abs(poly_area_m) * 1e-6, poly_perimeter_m/1000 # km^2 and km"
   ]
  },
  {
   "cell_type": "markdown",
   "metadata": {},
   "source": [
    "Let's compare how area and perimeter vary based on whether you use an ellpsoid like  WGS-84 and a unit sphere. The changes will become more pronounced as you move further towards the poles."
   ]
  },
  {
   "cell_type": "code",
   "execution_count": null,
   "metadata": {},
   "outputs": [],
   "source": [
    "area_ellps, perimeter_ellps = area_of_polygon_ellps([\"boulder\", \"boston\",\n",
    "                                             \"arecibo\", \"houston\"])\n",
    "area_us, perimeter_us = area_of_polygon_unit_sphere([\"boulder\", \"boston\",\n",
    "                                             \"arecibo\", \"houston\"])\n",
    "print(f\"Area Ellipsoid   = {area_ellps} km^2\")\n",
    "print(f\"Area Unit Sphere = {area_us} km^2\")\n",
    "print(f\"Perimeter Ellipsoid = {perimeter_ellps} km\")\n",
    "print(f\"Perimeter Unit SPhere = {perimeter_us} km\")\n",
    "print(f\"Roughly {(area_ellps/509600000)*100:.2f}% of the Earth's Surface\")\n",
    "print(f\"Roughly {(area_us/509600000)*100:.2f}% of the Earth's Surface\")"
   ]
  },
  {
   "cell_type": "markdown",
   "metadata": {},
   "source": [
    "### Plot Area of Quadrilateral Patch\n",
    "\n",
    "Let's see what spherical polygons looks like on a world map!"
   ]
  },
  {
   "cell_type": "code",
   "execution_count": null,
   "metadata": {},
   "outputs": [],
   "source": [
    "def plot_area(pt_lst=None,\n",
    "                   lon_west=-180, lon_east=180,\n",
    "                   lat_south=-90, lat_north=90):\n",
    "    # Set up world map plot\n",
    "    fig = plt.subplots(figsize=(15, 10))\n",
    "    projection_map = ccrs.PlateCarree()\n",
    "    ax = plt.axes(projection=projection_map)\n",
    "    ax.set_extent([lon_west, lon_east, lat_south, lat_north], crs=projection_map)\n",
    "    ax.coastlines(color=\"black\")\n",
    "    ax.add_feature(cfeature.STATES, edgecolor=\"black\")\n",
    "\n",
    "   # plot points\n",
    "    longitudes = [location_df.loc[x, \"longitude\"] for x in pt_lst] # longitude\n",
    "    latitudes = [location_df.loc[y, \"latitude\"] for y in pt_lst] # latitude\n",
    "    plt.scatter(longitudes, latitudes, s=100, c=\"red\")\n",
    "    plt.fill(longitudes, latitudes, alpha=0.5)\n",
    "\n",
    "    # determine the area and perimeter\n",
    "    area_ellps, perimeter_ellps = area_of_polygon_ellps(pt_lst)\n",
    "    area_us, perimeter_us = area_of_polygon_unit_sphere(pt_lst)\n",
    "    print(f\"Ellipsoid Area   = {area_ellps} km^2\")\n",
    "    print(f\"Unit Sphere Area = {area_us} km^2\")\n",
    "    plt.title(f\"Roughly {(area_ellps/509600000)*100:.2f}% ({(area_us/509600000)*100:.2f}%) of the Earth's Surface\")\n",
    "    plt.show()"
   ]
  },
  {
   "cell_type": "code",
   "execution_count": null,
   "metadata": {},
   "outputs": [],
   "source": [
    "plot_area([\"boulder\", \"boston\", \"greenwich\", \"cairo\", \"arecibo\", \"houston\"])"
   ]
  },
  {
   "cell_type": "code",
   "execution_count": null,
   "metadata": {},
   "outputs": [],
   "source": [
    "plot_area([\"redwoods\", \"rockford\", \"boston\", \"houston\",], -130, -60, 20, 60)"
   ]
  },
  {
   "cell_type": "code",
   "execution_count": null,
   "metadata": {},
   "outputs": [],
   "source": [
    "plot_area([\"redwoods\", \"boston\", \"houston\"], -130, -60, 20, 60)"
   ]
  },
  {
   "cell_type": "markdown",
   "metadata": {},
   "source": [
    "> [!IMPORTANT]\n",
    "> Make sure that the points that form the polygon are in a clockwise or counterclockwise order. Otherwise, the polygon formed will have overlapping portions and the area will not be valid"
   ]
  },
  {
   "cell_type": "code",
   "execution_count": null,
   "metadata": {},
   "outputs": [],
   "source": [
    "# For example: here is a list of unordered points\n",
    "plot_area([\"boulder\", \"boston\", \"houston\", \"boston\", \"cairo\", \"arecibo\", \"greenwich\"])"
   ]
  },
  {
   "cell_type": "markdown",
   "metadata": {},
   "source": [
    "## Determine if a given point is within a spherical polygon\n",
    "\n",
    "Now that we have a spherical polygon, how can be determine if a new point lies within the area of the polygon? The `shapely` Python package makes this quite easy, let's give it a shot!"
   ]
  },
  {
   "cell_type": "code",
   "execution_count": null,
   "metadata": {},
   "outputs": [],
   "source": [
    "def polygon_contains_points(pt_lst=None, polygon_pts=None):\n",
    "    longitudes = [location_df.loc[pt, \"longitude\"] for pt in polygon_pts]\n",
    "    latitudes = [location_df.loc[pt, \"latitude\"] for pt in polygon_pts]\n",
    "    lat_lon_coords = tuple(zip(longitudes, latitudes))\n",
    "    # setup polygon\n",
    "    polygon = Polygon(lat_lon_coords)\n",
    "    # check if new point lies within the polygon\n",
    "    contains = np.vectorize(lambda pt: polygon.contains(Point((location_df.loc[pt, \"longitude\"],\n",
    "                                                               location_df.loc[pt, \"latitude\"]))))\n",
    "    contained_by_polygon = contains(np.array(pt_lst))\n",
    "    return contained_by_polygon"
   ]
  },
  {
   "cell_type": "code",
   "execution_count": null,
   "metadata": {},
   "outputs": [],
   "source": [
    "polygon_contains_points([\"boulder\"], [\"redwoods\", \"boston\", \"houston\"])"
   ]
  },
  {
   "cell_type": "markdown",
   "metadata": {},
   "source": [
    "### Plot and See if New Point within Polygon\n",
    "\n",
    "On a map, it can be fairly intuitive to see if a point lies within a polygon or not. Let's give it a shot! "
   ]
  },
  {
   "cell_type": "code",
   "execution_count": null,
   "metadata": {},
   "outputs": [],
   "source": [
    "def plot_polygon_pts(pt_lst=None, polygon_pts=None,\n",
    "                   lon_west=-180, lon_east=180,\n",
    "                   lat_south=-90, lat_north=90):\n",
    "    # Set up world map plot\n",
    "    fig = plt.subplots(figsize=(15, 10))\n",
    "    projection_map = ccrs.PlateCarree()\n",
    "    ax = plt.axes(projection=projection_map)\n",
    "    ax.set_extent([lon_west, lon_east, lat_south, lat_north], crs=projection_map)\n",
    "    ax.coastlines(color=\"black\")\n",
    "    ax.add_feature(cfeature.STATES, edgecolor=\"black\")\n",
    "\n",
    "    # plot polygon points\n",
    "    longitudes = [location_df.loc[x, \"longitude\"] for x in polygon_pts] # longitude\n",
    "    latitudes = [location_df.loc[y, \"latitude\"] for y in polygon_pts] # latitude\n",
    "    plt.scatter(longitudes, latitudes, s=50, c=\"blue\")\n",
    "    plt.fill(longitudes, latitudes, alpha=0.5)\n",
    "\n",
    "    # plot check points\n",
    "    pt_lst = np.array(pt_lst)\n",
    "    contains_pts = polygon_contains_points(pt_lst, polygon_pts)\n",
    "    longitudes = [location_df.loc[x, \"longitude\"] for x in pt_lst[contains_pts]] # longitude\n",
    "    latitudes = [location_df.loc[y, \"latitude\"] for y in pt_lst[contains_pts]] # latitude\n",
    "    plt.scatter(longitudes, latitudes, s=100, c=\"green\", label=\"Within Polygon\")\n",
    "    longitudes = [location_df.loc[x, \"longitude\"] for x in pt_lst[~contains_pts]] # longitude\n",
    "    latitudes = [location_df.loc[y, \"latitude\"] for y in pt_lst[~contains_pts]] # latitude\n",
    "    plt.scatter(longitudes, latitudes, s=100, c=\"red\", label=\"Not within Polygon\")\n",
    "\n",
    "    plt.legend(loc=\"lower left\")\n",
    "    plt.title(f\"Points contained within polygon = {pt_lst[contains_pts]}, not contained = {pt_lst[~contains_pts]}\")\n",
    "    plt.show()"
   ]
  },
  {
   "cell_type": "code",
   "execution_count": null,
   "metadata": {},
   "outputs": [],
   "source": [
    "polygon_contains_points([\"boulder\"], [\"redwoods\", \"boston\", \"houston\"])"
   ]
  },
  {
   "cell_type": "code",
   "execution_count": null,
   "metadata": {},
   "outputs": [],
   "source": [
    "plot_polygon_pts([\"boulder\"], [\"redwoods\", \"boston\", \"houston\"],\n",
    "               -130, -60, 20, 60)"
   ]
  },
  {
   "cell_type": "code",
   "execution_count": null,
   "metadata": {},
   "outputs": [],
   "source": [
    "polygon_contains_points([\"cape canaveral\"], [\"redwoods\", \"boston\", \"houston\"])"
   ]
  },
  {
   "cell_type": "code",
   "execution_count": null,
   "metadata": {},
   "outputs": [],
   "source": [
    "plot_polygon_pts([\"cape canaveral\"], [\"redwoods\", \"boston\", \"houston\"],\n",
    "               -130, -60, 20, 60)"
   ]
  },
  {
   "cell_type": "code",
   "execution_count": null,
   "metadata": {},
   "outputs": [],
   "source": [
    "plot_polygon_pts([\"boulder\", \"cape canaveral\"], [\"redwoods\", \"boston\", \"houston\"],\n",
    "               -130, -60, 20, 60)"
   ]
  },
  {
   "cell_type": "code",
   "execution_count": null,
   "metadata": {},
   "outputs": [],
   "source": [
    "plot_polygon_pts([\"boulder\", \"redwoods\"], [\"rockford\", \"boston\", \"cape canaveral\"],\n",
    "               -130, -60, 20, 60)"
   ]
  },
  {
   "cell_type": "markdown",
   "metadata": {},
   "source": [
    "## Mean center of spherical polygon\n",
    "\n",
    "A spherical polygon can have a fairly regular shape, especially as more points are added. But it is fairly simple using the `shapley` Python package to determine the mean center."
   ]
  },
  {
   "cell_type": "code",
   "execution_count": null,
   "metadata": {},
   "outputs": [],
   "source": [
    "def polygon_centroid(polygon_pts=None):\n",
    "    longitudes = [location_df.loc[x, \"longitude\"] for x in polygon_pts]\n",
    "    latitudes = [location_df.loc[y, \"latitude\"] for y in polygon_pts]\n",
    "    lat_lon_coords = tuple(zip(longitudes, latitudes))\n",
    "    polygon = Polygon(lat_lon_coords)\n",
    "    return (polygon.centroid.y, polygon.centroid.x)"
   ]
  },
  {
   "cell_type": "code",
   "execution_count": null,
   "metadata": {},
   "outputs": [],
   "source": [
    "polygon_centroid([\"boulder\", \"boston\", \"houston\"])"
   ]
  },
  {
   "cell_type": "markdown",
   "metadata": {},
   "source": [
    "### Plot Centroid\n",
    "\n",
    "The center of a polygon can be fairly apparently on a map, let's give it a look!"
   ]
  },
  {
   "cell_type": "code",
   "execution_count": null,
   "metadata": {},
   "outputs": [],
   "source": [
    "def plot_centroid(polygon_pts=None,\n",
    "                   lon_west=-180, lon_east=180,\n",
    "                   lat_south=-90, lat_north=90):\n",
    "    # Set up world map plot\n",
    "    fig = plt.subplots(figsize=(15, 10))\n",
    "    projection_map = ccrs.PlateCarree()\n",
    "    ax = plt.axes(projection=projection_map)\n",
    "    ax.set_extent([lon_west, lon_east, lat_south, lat_north], crs=projection_map)\n",
    "    ax.coastlines(color=\"black\")\n",
    "    ax.add_feature(cfeature.STATES, edgecolor=\"black\")\n",
    "\n",
    "   # plot polygon points\n",
    "    longitudes = [location_df.loc[x, \"longitude\"] for x in polygon_pts] # longitude\n",
    "    latitudes = [location_df.loc[y, \"latitude\"] for y in polygon_pts] # latitude\n",
    "    plt.scatter(longitudes, latitudes, s=50, c=\"blue\")\n",
    "    plt.fill(longitudes, latitudes, alpha=0.5)\n",
    "\n",
    "    # plot check point\n",
    "    centeroid = polygon_centroid(polygon_pts)\n",
    "    plt.scatter(centeroid[1], centeroid[0], s=100, c=\"red\")\n",
    "    plt.title(f\"Centroid = {centeroid}\")\n",
    "    plt.show()"
   ]
  },
  {
   "cell_type": "code",
   "execution_count": null,
   "metadata": {},
   "outputs": [],
   "source": [
    "plot_centroid([\"boulder\", \"boston\", \"houston\"],\n",
    "               -130, -60, 20, 60)"
   ]
  },
  {
   "cell_type": "code",
   "execution_count": null,
   "metadata": {},
   "outputs": [],
   "source": [
    "plot_centroid([\"redwoods\", \"boulder\", \"cape canaveral\", \"houston\"],\n",
    "               -130, -60, 20, 60)"
   ]
  },
  {
   "cell_type": "markdown",
   "metadata": {},
   "source": [
    "---"
   ]
  },
  {
   "cell_type": "markdown",
   "metadata": {},
   "source": [
    "## Summary\n",
    "\n",
    "This notebook covers working with spherical polygons to determine the ordering of coordinates, center of polygons, and whether or not a point lies within a spherical polygon"
   ]
  },
  {
   "cell_type": "markdown",
   "metadata": {},
   "source": [
    "## Resources and references\n"
   ]
  },
  {
   "cell_type": "markdown",
   "metadata": {},
   "source": [
    "- [Aviation Formulary V1.47](https://edwilliams.org/avform147.htm)\n",
    "- [Moveable Type Script](https://www.movable-type.co.uk/scripts/latlong.html)"
   ]
  }
 ],
 "metadata": {
  "kernelspec": {
   "display_name": "Python 3 (ipykernel)",
   "language": "python",
   "name": "python3"
  },
  "language_info": {
   "codemirror_mode": {
    "name": "ipython",
    "version": 3
   },
   "file_extension": ".py",
   "mimetype": "text/x-python",
   "name": "python",
   "nbconvert_exporter": "python",
   "pygments_lexer": "ipython3",
   "version": "3.13.5"
  },
  "nbdime-conflicts": {
   "local_diff": [
    {
     "diff": [
      {
       "diff": [
        {
         "key": 0,
         "op": "addrange",
         "valuelist": [
          "Python 3"
         ]
        },
        {
         "key": 0,
         "length": 1,
         "op": "removerange"
        }
       ],
       "key": "display_name",
       "op": "patch"
      }
     ],
     "key": "kernelspec",
     "op": "patch"
    }
   ],
   "remote_diff": [
    {
     "diff": [
      {
       "diff": [
        {
         "key": 0,
         "op": "addrange",
         "valuelist": [
          "Python3"
         ]
        },
        {
         "key": 0,
         "length": 1,
         "op": "removerange"
        }
       ],
       "key": "display_name",
       "op": "patch"
      }
     ],
     "key": "kernelspec",
     "op": "patch"
    }
   ]
  },
  "toc-autonumbering": false
 },
 "nbformat": 4,
 "nbformat_minor": 4
}
