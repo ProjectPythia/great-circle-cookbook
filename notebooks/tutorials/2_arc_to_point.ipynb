{
 "cells": [
  {
   "cell_type": "markdown",
   "metadata": {},
   "source": [
    "<img src=\"https://sites.science.oregonstate.edu/~mcintyre/coriolis/Images/LonWest.GIF\" alt=\"A hockey puck is launched from London toward the west, on a stationary earth. The natural great circle motion of the puck takes it toward the equator, not along the original line of latitude, which we might normally call west. The great circle path also coincides with the line of sight toward the west (projected radially down to the earth'surface). Thus we must conclude that Costa Rica is due west of London. Credit: Oregon State (https://sites.science.oregonstate.edu/~mcintyre/coriolis/Curvilinear_GIF.html)\"></img>"
   ]
  },
  {
   "cell_type": "markdown",
   "metadata": {},
   "source": [
    "# Great Circles and a Point"
   ]
  },
  {
   "cell_type": "markdown",
   "metadata": {},
   "source": [
    "---"
   ]
  },
  {
   "cell_type": "markdown",
   "metadata": {},
   "source": [
    "## Overview\n",
    "Oh no! A plane traveling across the country suddenly discovers it is low on fuel! It can no longer make it to the planned airport, instead it has to find the closest airport to its current position that it can make it with its remaining fuel.\n",
    "\n",
    "In great circle terms, we want to determine how far a point (let's say, the next closest airport) is from a great circle arc (the flight's path). In this notebook we will:\n",
    "\n",
    "1. Determine the distance of a point to a great circle arc (cross-track and along-track distance)\n",
    "1. Determine if a point lies on a great circle arc and path (with and without tolerances)"
   ]
  },
  {
   "cell_type": "markdown",
   "metadata": {},
   "source": [
    "## Prerequisites\n",
    "\n",
    "| Concepts | Importance | Notes |\n",
    "| --- | --- | --- |\n",
    "| [Numpy](https://foundations.projectpythia.org/core/numpy/) | Necessary | Used to work with large arrays |\n",
    "| [Pandas](https://foundations.projectpythia.org/core/pandas) | Necessary | Used to read in and organize data (in particular dataframes) |\n",
    "| [Intro to Cartopy](https://foundations.projectpythia.org/core/cartopy) | Helpful | Will be used for adding maps to plotting |\n",
    "| [Matplotlib](https://foundations.projectpythia.org/core/matplotlib/) | Helpful | Will be used for plotting |\n",
    "\n",
    "- **Time to learn**: 20 minutes"
   ]
  },
  {
   "cell_type": "markdown",
   "metadata": {},
   "source": [
    "---"
   ]
  },
  {
   "cell_type": "markdown",
   "metadata": {},
   "source": [
    "## Imports\n",
    "\n",
    "- Import Packages\n",
    "- Setup location dataframe with coordinates"
   ]
  },
  {
   "cell_type": "code",
   "execution_count": null,
   "metadata": {},
   "outputs": [],
   "source": [
    "import pandas as pd                                    # read in data text file\n",
    "import numpy as np                                     # working with degrees and radians\n",
    "\n",
    "from pyproj import Geod                                # working with the Earth as an ellipsod (WGS-84)\n",
    "import geopy.distance                                  # moving along a known distance on the Earth's ellipsoid surface\n",
    "\n",
    "import matplotlib.pyplot as plt                        # plotting a graph\n",
    "from cartopy import crs as ccrs, feature as cfeature   # plotting a world map"
   ]
  },
  {
   "cell_type": "code",
   "execution_count": null,
   "metadata": {},
   "outputs": [],
   "source": [
    "# Get all Coordinates for Locations\n",
    "location_df = pd.read_csv(\"../location_full_coords.txt\")\n",
    "location_df = location_df.rename(columns=lambda x: x.strip()) # strip excess white space from column names and values\n",
    "location_df.index = location_df[\"name\"]\n",
    "location_df.head()"
   ]
  },
  {
   "cell_type": "markdown",
   "metadata": {},
   "source": [
    "## Determine the distance of a point to a great circle arc\n",
    "\n",
    "The distance from a point to a great circle arc is known as the cross track distance (sometimes known as cross track error). For example, how far would a plane have to fly from its path to get to an unscheduled airport for refueling? Meantime, the along track distance measures how far along the great arc a point lies. For instance, what is your new position (latitude/longitude) when you've traveled 250 km into your 2000 km plane ride?\n",
    "\n",
    "- Cross track distance: angular distance from point P to great circle path\n",
    "- Along track distance: angular distance along the great circle path from A to B before hitting a point that is closest to point P"
   ]
  },
  {
   "cell_type": "code",
   "execution_count": null,
   "metadata": {},
   "outputs": [],
   "source": [
    "geodesic = Geod(ellps=\"WGS84\")\n",
    "earth_radius = 6378137  # meters"
   ]
  },
  {
   "cell_type": "markdown",
   "metadata": {},
   "source": [
    "### Cross Track Distance\n",
    "Distance of a point to a great circle arc is defined as:\n",
    "\n",
    "$$dxt = asin( sin(δ13) ⋅ sin(θ13 − θ12) ) * R$$\n",
    "\n",
    "Where, \n",
    "\n",
    "- δ13 (delta_13) is (angular) distance from start point to third point\n",
    "- θ13 (theta_13) is (initial) bearing from start point to third point\n",
    "- θ12 (theta_12) is (initial) bearing from start point to end point\n",
    "- R is the earth’s radius\n",
    "\n",
    "Then,\n",
    "\n",
    "$$d_xt = np.arcsin(np.sin(delta_13)*np.sin(theta_13 - theta_12)) * R$$\n",
    "\n",
    "$$XTD =asin(sin(dist_AD)*sin(crs_AD-crs_AB))$$\n",
    "\n",
    "Where,\n",
    "\n",
    "- Positive Cross-Track Distance: Point lies in the hemisphere to the left of the great circle\n",
    "- Negative Cross-Track Distance: Point lies in the hemiphere to the right of the great circle\n",
    "\n",
    "> Note: If the point A is the North or South Pole replace `crs_AD-crs_AB` with \n",
    "`lon_D-lon_B` or `lon_B-lon_D`, respectively\n",
    "\n",
    "- [See more: Cross track error](https://edwilliams.org/avform147.htm#XTE)\n",
    "\n",
    "That was a lot of math, let's see how that translates into a Python function. For the purpose of this example, let's determine the forward bearing and distance between the great circle arc and the new point on an ellipsoid.\n",
    "\n",
    "We will be creating two sides of a spherical triangle. Side 1 will be the great circle arc formed from Point A to Point B, while Side 2 will be a new great circle arc we will create from Point A to the new point C. We can use the angle—angular distance—between these two legs to determine the cross track distance:"
   ]
  },
  {
   "cell_type": "code",
   "execution_count": null,
   "metadata": {},
   "outputs": [],
   "source": [
    "def cross_track_distance(start_point=None, end_point=None, new_point=None):\n",
    "    # Determine the forward bearing from Point A (start) to Point B (end)\n",
    "    fwd_bearing_start_end, _, _ = geodesic.inv(location_df.loc[start_point, \"longitude\"],\n",
    "                                               location_df.loc[start_point, \"latitude\"],\n",
    "                                               location_df.loc[end_point, \"longitude\"],\n",
    "                                               location_df.loc[end_point, \"latitude\"])\n",
    "    \n",
    "    # Determine the forward bearing (angle) and distance from Point A (start) to new Point C\n",
    "    fwd_bearing_start_new, _, distance_m_start_new = geodesic.inv(location_df.loc[start_point, \"longitude\"],\n",
    "                                                                  location_df.loc[start_point, \"latitude\"],\n",
    "                                                                  location_df.loc[new_point, \"longitude\"],\n",
    "                                                                  location_df.loc[new_point, \"latitude\"]) \n",
    "\n",
    "    # Determine the Angular Distance from Point A to Point C\n",
    "    angular_distance_start_new = distance_m_start_new / earth_radius\n",
    "    ct_distance = np.arcsin(np.sin(angular_distance_start_new) * np.sin(np.deg2rad(fwd_bearing_start_new - fwd_bearing_start_end))) * earth_radius\n",
    "    return ct_distance"
   ]
  },
  {
   "cell_type": "markdown",
   "metadata": {},
   "source": [
    "### Along Track Distance\n",
    "\n",
    "Imagine a great circle arc that will appear like: A -------- C -------------------B, where the distance along the great circle arc (created from Point A to B) from Point A to Point C is the along-track distance.\n",
    "\n",
    "This is defined as:\n",
    "\n",
    "$$dat = acos(\\frac{cos(δ13)}{cos(δxt)}) * R$$\n",
    "\n",
    "- δ13 (delta_13) is (angular) distance from start point to third point\n",
    "- δxt (delta_xt) is (angular) cross-track distance\n",
    "- R is the earth’s radius\n",
    "\n",
    "So,\n",
    "\n",
    "$$d_at = np.arccos(\\frac{np.cos(delta_13)}{np.cos(d_xt/R)} * R$$\n",
    "\n",
    "$$ATD=acos(\\frac{cos(dist_AD)}{cos(XTD)})$$\n",
    "\n",
    "However, for very short distances we can also use a new equation that is less susceptible to rounding errors:\n",
    "\n",
    "$$ATD=asin(\\sqrt{\\frac{sin(dist_AD))^2 - (sin(XTD))^2 )}{cos(XTD)}}$$\n",
    "\n",
    "- [See more: Along track distance](https://edwilliams.org/avform147.htm#XTE)\n",
    "\n",
    "To similarly convert into a Python function, we will need to know the total length of the great circle arc from Point A to Point B. We will also measure the distance from the Point A to the new Point C along the great circle arc from Point A to Point B."
   ]
  },
  {
   "cell_type": "code",
   "execution_count": null,
   "metadata": {},
   "outputs": [],
   "source": [
    "def along_track_distance(start_point=None, end_point=None, new_point=None):\n",
    "    # Determine the cross track distance from Point A to Point B from Point C\n",
    "    crosst_distance = cross_track_distance(start_point, end_point, new_point)\n",
    "\n",
    "    # Determine the total distance of a great circle arc from Point A to Point C\n",
    "    _, _, distance_m_start_new = geodesic.inv(location_df.loc[start_point, \"longitude\"],\n",
    "                                              location_df.loc[start_point, \"latitude\"],\n",
    "                                              location_df.loc[new_point, \"longitude\"],\n",
    "                                              location_df.loc[new_point, \"latitude\"])  \n",
    "    \n",
    "    # Determine the Along-Track Distance using the Cross Track Distance Distance \n",
    "    angular_distance_start_new = distance_m_start_new / earth_radius\n",
    "    at_distance = np.arccos(np.cos(angular_distance_start_new) / np.cos(crosst_distance / earth_radius)) * earth_radius\n",
    "    return at_distance"
   ]
  },
  {
   "cell_type": "markdown",
   "metadata": {},
   "source": [
    "### Determine Closest Point along Great Circle Arc\n",
    "\n",
    "To be able to plot a cross track distance we need to find the point on the great circle that is closest to the new Point C. To do this we need to find the closest point from Point C to the arc and measure the along track distance that the intersection lies"
   ]
  },
  {
   "cell_type": "code",
   "execution_count": null,
   "metadata": {},
   "outputs": [],
   "source": [
    "# Distance point along great circle path\n",
    "def point_along_path(start_point=None, end_point=None, distance_m=None):\n",
    "    fwd_bearing, _, _ = geodesic.inv(location_df.loc[start_point, \"longitude\"],\n",
    "                                     location_df.loc[start_point, \"latitude\"],\n",
    "                                     location_df.loc[end_point, \"longitude\"],\n",
    "                                     location_df.loc[end_point, \"latitude\"])  \n",
    "    origin = geopy.Point(location_df.loc[start_point, \"latitude\"],\n",
    "                         location_df.loc[start_point, \"longitude\"])\n",
    "    distance_to_move = geopy.distance.distance(\n",
    "                            kilometers=distance_m / 1000)  # distance to move towards the next point\n",
    "    final_position = distance_to_move.destination(origin, bearing=fwd_bearing)\n",
    "    return (final_position.latitude, final_position.longitude)"
   ]
  },
  {
   "cell_type": "markdown",
   "metadata": {},
   "source": [
    "Let's see how of this looks on a map! Let's plot!\n",
    "\n",
    "In the previous notebook, we determined how to interpolate points along the great circle arc (`interpolate_points_along_gc` and `arc_points`). We will repeat the functions below to be able to use them to plot the great circle arc with the new information about cross-track and along-track distances"
   ]
  },
  {
   "cell_type": "code",
   "execution_count": null,
   "metadata": {
    "jupyter": {
     "source_hidden": true
    }
   },
   "outputs": [],
   "source": [
    "# See Previous Notebook for how these functions were defined\n",
    "\n",
    "def interpolate_points_along_gc(lat_start,\n",
    "                                lon_start,\n",
    "                                lat_end,\n",
    "                                lon_end,\n",
    "                                distance_between_points_meter): \n",
    "    lat_lon_points = [(lat_start, lon_start)]\n",
    "    \n",
    "    # move to next point when distance between points is less than the equal distance\n",
    "    move_to_next_point = True\n",
    "    while(move_to_next_point):\n",
    "        forward_bearing, reverse_bearing, distance_meters = geodesic.inv(lon_start,\n",
    "                                                                         lat_start, \n",
    "                                                                         lon_end,\n",
    "                                                                         lat_end)\n",
    "        if distance_meters < distance_between_points_meter:\n",
    "            # ends before overshooting\n",
    "            move_to_next_point = False\n",
    "        else:\n",
    "            start_point = geopy.Point(lat_start, lon_start)\n",
    "            distance_to_move = geopy.distance.distance(\n",
    "                            kilometers=distance_between_points_meter /\n",
    "                            1000)  # distance to move towards the next point\n",
    "            final_position = distance_to_move.destination(\n",
    "                            start_point, bearing=forward_bearing)\n",
    "            lat_lon_points.append((final_position.latitude, final_position.longitude))\n",
    "            # new starting position is newly found end position\n",
    "            lon_start, lat_start = final_position.longitude, final_position.latitude\n",
    "    lat_lon_points.append((lat_end, lon_end))\n",
    "    return lat_lon_points\n",
    "\n",
    "def arc_points(start_lat=None,\n",
    "               start_lon=None,\n",
    "               end_lat=None,\n",
    "               end_lon=None,\n",
    "               n_total_points=10):\n",
    "    _, _, distance_meter =  geodesic.inv(start_lon,\n",
    "                                        start_lat,\n",
    "                                        end_lon,\n",
    "                                        end_lat)\n",
    "        \n",
    "    distance_between_points_meter = distance_meter / (n_total_points + 1)\n",
    "\n",
    "    \n",
    "    new_points_lst = interpolate_points_along_gc(start_lat,\n",
    "                                              start_lon,\n",
    "                                              end_lat,\n",
    "                                              end_lon,\n",
    "                                              distance_between_points_meter)\n",
    "    return new_points_lst"
   ]
  },
  {
   "cell_type": "markdown",
   "metadata": {},
   "source": [
    "To begin, we will plot the cross track distance. This will look like a map with two arcs: one from Point A to Point B (the primary great circle arc) and a second that will show the angular distance between the great circle arc and a new point"
   ]
  },
  {
   "cell_type": "code",
   "execution_count": null,
   "metadata": {},
   "outputs": [],
   "source": [
    "def plot_cross_track(start_point=None, end_point=None, new_point=None,\n",
    "                     lon_west=-130, lon_east=-60,\n",
    "                     lat_south=20, lat_north=60):\n",
    "    # Set up world map plot\n",
    "    fig = plt.subplots(figsize=(16, 10))\n",
    "    projection_map = ccrs.PlateCarree()\n",
    "    ax = plt.axes(projection=projection_map)\n",
    "    ax.set_extent([lon_west, lon_east, lat_south, lat_north], crs=projection_map)\n",
    "    ax.coastlines(color=\"black\")\n",
    "    ax.add_feature(cfeature.BORDERS, edgecolor='grey')\n",
    "    ax.add_feature(cfeature.STATES, edgecolor=\"grey\")\n",
    "\n",
    "    # Cross-Track and Along-Track Distances\n",
    "    ct_distance = cross_track_distance(start_point, end_point, new_point)\n",
    "    print(f\"Cross Track Distance: \\n{ct_distance} meters ({ct_distance/1000} km)\")\n",
    "\n",
    "    at_distance = along_track_distance(start_point, end_point, new_point)\n",
    "    print(f\"Along Track Distance: \\n{at_distance} meters ({at_distance/1000} km)\\n\")\n",
    "\n",
    "    closest_point = point_along_path(start_point, end_point, at_distance)\n",
    "    print(f\"Closest Point To Point Along Great Circle Path:\\n{closest_point}\") \n",
    "\n",
    "    # Plot Latitude/Longitude Points of the Great Circle Arc (with 10 interpolate points)\n",
    "    great_circle_arc_pts = arc_points(location_df.loc[start_point, \"latitude\"],\n",
    "                                      location_df.loc[start_point, \"longitude\"],\n",
    "                                      location_df.loc[end_point, \"latitude\"],\n",
    "                                      location_df.loc[end_point, \"longitude\"],\n",
    "                                      10)\n",
    "    longitudes = [x[1] for x in great_circle_arc_pts] # longitude\n",
    "    latitudes = [x[0] for x in great_circle_arc_pts] # latitude\n",
    "    plt.plot(longitudes, latitudes, c=\"purple\")\n",
    "    plt.scatter(longitudes, latitudes, c=\"purple\")\n",
    "\n",
    "    # Plot the Cross Track Distance as an Arc from Point C to the closest point on the arc (Point D) (with 10 intrpolated points)\n",
    "    cross_track_arc = arc_points(closest_point[0],\n",
    "                                 closest_point[1],\n",
    "                                 location_df.loc[new_point, \"latitude\"],\n",
    "                                 location_df.loc[new_point, \"longitude\"],\n",
    "                                   10)\n",
    "    longitudes = [x[1] for x in cross_track_arc] # longitude\n",
    "    latitudes = [x[0] for x in cross_track_arc] # latitude\n",
    "    plt.plot(longitudes, latitudes, c=\"green\")\n",
    "    plt.scatter(longitudes, latitudes, c=\"green\")\n",
    "\n",
    "    # Plot the Closest Point on the Arc in Red (to see easier)\n",
    "    plt.scatter(closest_point[1], closest_point[0], c=\"red\")\n",
    "\n",
    "    plt.title(f\"Closest Point {closest_point} from {start_point.title()}->{end_point.title()} to {new_point.title()}, Cross-Track Distance = {ct_distance/1000:4f} km\")\n",
    "    plt.show()"
   ]
  },
  {
   "cell_type": "markdown",
   "metadata": {},
   "source": [
    "- Positive Cross-Track Distance: Point lies in the hemisphere to the left of the great circle\n",
    "- Negative Cross-Track Distance: Point lies in the hemiphere to the right of the great circle"
   ]
  },
  {
   "cell_type": "code",
   "execution_count": null,
   "metadata": {},
   "outputs": [],
   "source": [
    "plot_cross_track(start_point=\"boulder\", end_point=\"boston\", new_point=\"cape canaveral\")"
   ]
  },
  {
   "cell_type": "markdown",
   "metadata": {},
   "source": [
    "## Determine if a point lies on a great circle arc and path\n",
    "\n",
    "Does a given Point C lie on a great circle arc? Does it lie on the great circle path? We can check if a point lies on a great circle path/arc if:\n",
    "\n",
    "- Check if the latitude/longtiude matches the expected latitude that the same longitude position would have produced on the great circle path\n",
    "\n",
    "This is possible with and without tolerances (in meters) to allow for some grace based on your precision."
   ]
  },
  {
   "cell_type": "code",
   "execution_count": null,
   "metadata": {},
   "outputs": [],
   "source": [
    "def is_point_on_arc(start_point=None, end_point=None,\n",
    "                check_point=None, tolerance=0):\n",
    "    # tolerance in meters\n",
    "    lon1 = np.deg2rad(location_df.loc[start_point, \"longitude\"])\n",
    "    lat1 = np.deg2rad(location_df.loc[start_point, \"latitude\"])\n",
    "    lon2 = np.deg2rad(location_df.loc[end_point, \"longitude\"])\n",
    "    lat2 = np.deg2rad(location_df.loc[end_point, \"latitude\"])\n",
    "    check_lon = np.deg2rad(location_df.loc[check_point, \"longitude\"])\n",
    "    check_lat = np.deg2rad(location_df.loc[check_point, \"latitude\"])\n",
    "\n",
    "    # Verify not meridian (longitude passes through the poles)\n",
    "    if np.sin(lon1 - lon2) == 0:\n",
    "        print(\"Invalid inputs: start/end points are meridians\")\n",
    "        return np.nan\n",
    "    \n",
    "    # verify not antipodal (diametrically opposite, points)\n",
    "    if lat1 + lat2 == 0 and abs(lon1-lon2) == np.pi:\n",
    "        print(\"Invalid inputs: start/end points are antipodal\")\n",
    "        return np.nan\n",
    "\n",
    "    # account for tolerance based on cross-track distance from arc\n",
    "    ct_distance = cross_track_distance(start_point, end_point, check_point)\n",
    "    print(f\"Cross-Track Distance = {ct_distance} meters\")\n",
    "    if np.abs(ct_distance) <= tolerance:\n",
    "        return True\n",
    "\n",
    "    # determine expected latitude\n",
    "    num = np.sin(lat1)*np.cos(lat2)*np.sin(check_lon-lon2)-np.sin(lat2)*np.cos(lat1)*np.sin(check_lon-lon1)\n",
    "    den = np.cos(lat1)*np.cos(lat2)*np.sin(lon1-lon2)\n",
    "    new_lat = np.arctan(num/den)\n",
    "    expected_lat = np.rad2deg(new_lat)\n",
    "    return bool(check_lat == expected_lat)"
   ]
  },
  {
   "cell_type": "markdown",
   "metadata": {},
   "source": [
    "#### Check if a point lies on a great circle arc\n",
    "\n",
    "Let's see this for ourselves. Does the city of Rockford lie on the great circle arc from Boulder to Boston?"
   ]
  },
  {
   "cell_type": "code",
   "execution_count": null,
   "metadata": {},
   "outputs": [],
   "source": [
    "is_point_on_arc(\"boulder\", \"boston\", \"rockford\", tolerance=0) # with no tolerance (0 meters)"
   ]
  },
  {
   "cell_type": "markdown",
   "metadata": {},
   "source": [
    "Rockford is sitting about 18 km away from the great circle arc that is formed by Boulder and Boston. Let's give it a look on a map:"
   ]
  },
  {
   "cell_type": "code",
   "execution_count": null,
   "metadata": {},
   "outputs": [],
   "source": [
    "plot_cross_track(start_point=\"boulder\", end_point=\"boston\", new_point=\"rockford\")"
   ]
  },
  {
   "cell_type": "markdown",
   "metadata": {},
   "source": [
    "Hard to see, right? Let's zoom in:"
   ]
  },
  {
   "cell_type": "code",
   "execution_count": null,
   "metadata": {},
   "outputs": [],
   "source": [
    "plot_cross_track(start_point=\"boulder\", end_point=\"boston\", new_point=\"rockford\", \n",
    "                 lon_west=-95, lon_east=-85,\n",
    "                 lat_south=40, lat_north=45)"
   ]
  },
  {
   "cell_type": "markdown",
   "metadata": {},
   "source": [
    "18 km is far, but for the sake of clarity, maybe it serves our purposes as \"on the arc\". If so, we can increase the tolerance of the function to about 18 km to encompass the town:"
   ]
  },
  {
   "cell_type": "code",
   "execution_count": null,
   "metadata": {},
   "outputs": [],
   "source": [
    "# increase tolerance to capture point\n",
    "print(\"tolerance = 0\")\n",
    "print(is_point_on_arc(\"boulder\", \"boston\", \"rockford\", tolerance=0))\n",
    "print(\"\\ntolerance >= cross-track distance\")\n",
    "print(is_point_on_arc(\"boulder\", \"boston\", \"rockford\", tolerance=18202))"
   ]
  },
  {
   "cell_type": "markdown",
   "metadata": {},
   "source": [
    "### (Optional) Additional Python Package: `UXarray`\n",
    "\n",
    "`UXarray` acts as an `Xarray` extension for unstructured data (commonly used in climate and weather analysis). This includes multiple functions for working with [great circles](https://uxarray.readthedocs.io/en/latest/api.html#spherical-geometry):\n",
    "\n",
    "- [`uxarray.grid.intersections.gca_const_lat_intersection`](https://uxarray.readthedocs.io/en/latest/generated/uxarray.grid.intersections.gca_const_lat_intersection.html#uxarray.grid.intersections.gca_const_lat_intersection): Calculate the intersection point(s) of a Great Circle Arc (GCA) and a constant latitude line in a Cartesian coordinate system\n",
    "- [`grid.arcs.point_within_gca`](https://uxarray.readthedocs.io/en/latest/generated/uxarray.grid.arcs.point_within_gca.html#uxarray.grid.arcs.point_within_gca): Check if a point lies on a given Great Circle Arc (GCA) interval, considering the smaller arc of the circle. Handles the anti-meridian case as well\n",
    "- [`uxarray.grid.arcs.extreme_gca_latitude`](https://uxarray.readthedocs.io/en/latest/generated/uxarray.grid.arcs.extreme_gca_latitude.html#uxarray.grid.arcs.extreme_gca_latitude): Calculate the maximum or minimum latitude of a great circle arc defined by two 3D points\n",
    "\n",
    "`UXarray` makes use of Cartesian coordinates and includes a very narrow built-in tolerance, but can be a simple solution if needed.\n",
    "\n",
    "For example: Let's check if a point lies on a great circle arc with `UXarray` ([see example](https://ncar.github.io/geocat-applications/ncl/ncl_entries/great_circle.html#gc-onarc))"
   ]
  },
  {
   "cell_type": "code",
   "execution_count": null,
   "metadata": {},
   "outputs": [],
   "source": [
    "# Check if Boulder is on a great circle arc created by a point directly above (+latitude) and below (-latitude)\n",
    "\n",
    "# Convert latitude and longitude points to Cartesian Points\n",
    "def latlon_to_cart(lat, lon):\n",
    "    from astropy.coordinates.representation import UnitSphericalRepresentation\n",
    "    from astropy import units\n",
    "\n",
    "    spherical_coords = UnitSphericalRepresentation(\n",
    "        lat=lat * units.deg, lon=lon * units.deg\n",
    "    )\n",
    "    cart_coords = spherical_coords.to_cartesian()\n",
    "    return np.array([cart_coords.x, cart_coords.y, cart_coords.z])\n",
    "\n",
    "\n",
    "pt_within = latlon_to_cart(location_df.loc[\"boulder\", \"latitude\"], location_df.loc[\"boulder\", \"longitude\"]) # Boulder\n",
    "vertex_a = latlon_to_cart(location_df.loc[\"boulder\", \"latitude\"]+10, location_df.loc[\"boulder\", \"longitude\"])  # Point exactly 10 degrees above Boulder\n",
    "vertex_b = latlon_to_cart(location_df.loc[\"boulder\", \"latitude\"]-10, location_df.loc[\"boulder\", \"longitude\"])  # Point exactly 10 degrees below Boulder\n",
    "\n",
    "# Determine if point lies along great circle arc\n",
    "from uxarray.grid.arcs import point_within_gca\n",
    "\n",
    "print(\n",
    "    f\"Boulder lies within the great circle arc = {point_within_gca(pt_within, vertex_a, vertex_b)}\"\n",
    ")"
   ]
  },
  {
   "cell_type": "markdown",
   "metadata": {},
   "source": [
    "---"
   ]
  },
  {
   "cell_type": "markdown",
   "metadata": {},
   "source": [
    "## Summary\n",
    "In this notebook, we calculated and plotted the cross track and along track distance for points around a great circle arc\n",
    "\n",
    "### What's next?\n",
    "\n",
    "Next, we will determine when a great circle path crosses a given parallel and the maximum and minimum latitude coordinates of a great circle path."
   ]
  },
  {
   "cell_type": "markdown",
   "metadata": {},
   "source": [
    "## Resources and references"
   ]
  },
  {
   "cell_type": "markdown",
   "metadata": {},
   "source": [
    "- [Aviation Formulary V1.47](https://edwilliams.org/avform147.htm)\n",
    "- [Moveable Type Script](https://www.movable-type.co.uk/scripts/latlong.html)"
   ]
  }
 ],
 "metadata": {
  "kernelspec": {
   "display_name": "Python 3 (ipykernel)",
   "language": "python",
   "name": "python3"
  },
  "language_info": {
   "codemirror_mode": {
    "name": "ipython",
    "version": 3
   },
   "file_extension": ".py",
   "mimetype": "text/x-python",
   "name": "python",
   "nbconvert_exporter": "python",
   "pygments_lexer": "ipython3",
   "version": "3.13.5"
  },
  "nbdime-conflicts": {
   "local_diff": [
    {
     "diff": [
      {
       "diff": [
        {
         "key": 0,
         "op": "addrange",
         "valuelist": [
          "Python 3"
         ]
        },
        {
         "key": 0,
         "length": 1,
         "op": "removerange"
        }
       ],
       "key": "display_name",
       "op": "patch"
      }
     ],
     "key": "kernelspec",
     "op": "patch"
    }
   ],
   "remote_diff": [
    {
     "diff": [
      {
       "diff": [
        {
         "key": 0,
         "op": "addrange",
         "valuelist": [
          "Python3"
         ]
        },
        {
         "key": 0,
         "length": 1,
         "op": "removerange"
        }
       ],
       "key": "display_name",
       "op": "patch"
      }
     ],
     "key": "kernelspec",
     "op": "patch"
    }
   ]
  },
  "toc-autonumbering": false
 },
 "nbformat": 4,
 "nbformat_minor": 4
}
