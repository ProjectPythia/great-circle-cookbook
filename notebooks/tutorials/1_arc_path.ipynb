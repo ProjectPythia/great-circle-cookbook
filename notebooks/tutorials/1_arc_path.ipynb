{
 "cells": [
  {
   "cell_type": "markdown",
   "metadata": {},
   "source": [
    "<img src=\"https://j.gifs.com/vO2k6P.gif\" alt=\"Indiana Jones Plane Flying Gif\"></img>"
   ]
  },
  {
   "cell_type": "markdown",
   "metadata": {},
   "source": [
    "# Great Circle Arcs and Path"
   ]
  },
  {
   "cell_type": "markdown",
   "metadata": {},
   "source": [
    "---"
   ]
  },
  {
   "cell_type": "markdown",
   "metadata": {},
   "source": [
    "## Overview\n",
    "\n",
    "Imagine you are on a plane flying from Cario to Hong Kong. As a passenger, the plane appears to travel a straight path from one airport to the next. However, in reality, as the plane travels it actually curves along the surface of Earth held down by the gravity of the planet.\n",
    "\n",
    "The \"straight line\" has become an arc connecting Cario and Hong Kong on a map. This arc is a great circle arc, just one small subsection of the great circle path.\n",
    "\n",
    "1. Distance between Points on a Great Circle Arc\n",
    "1. Convert Spherical Distance to Degrees\n",
    "1. Determine the Bearing of a Great Circle Arc\n",
    "1. Generate a Great Circle Arc with Intermediate Points\n",
    "1. Determine the Midpoint of a Great Circle Arc\n",
    "1. Generate a Great Circle Path\n",
    "1. Determine an Antipodal Point\n",
    "1. _Compare Great Circle Arc to Rhumb Line (TODO)_"
   ]
  },
  {
   "cell_type": "markdown",
   "metadata": {},
   "source": [
    "## Prerequisites\n",
    "\n",
    "| Concepts | Importance | Notes |\n",
    "| --- | --- | --- |\n",
    "| [Numpy](https://foundations.projectpythia.org/core/numpy/) | Necessary | Used to work with large arrays |\n",
    "| [Pandas](https://foundations.projectpythia.org/core/pandas) | Necessary | Used to read in and organize data (in particular dataframes) |\n",
    "| [Intro to Cartopy](https://foundations.projectpythia.org/core/cartopy) | Helpful | Will be used for adding maps to plotting |\n",
    "| [Matplotlib](https://foundations.projectpythia.org/core/matplotlib/) | Helpful | Will be used for plotting |\n",
    "\n",
    "- **Time to learn**: 40 minutes"
   ]
  },
  {
   "cell_type": "markdown",
   "metadata": {},
   "source": [
    "---"
   ]
  },
  {
   "cell_type": "markdown",
   "metadata": {},
   "source": [
    "## Imports\n",
    "\n",
    "To begin, let's import the packages we will need in this notebook and collect the list of locations coordinates"
   ]
  },
  {
   "cell_type": "code",
   "execution_count": 1,
   "metadata": {},
   "outputs": [],
   "source": [
    "import pandas as pd       # reading in data for location information from text file\n",
    "import numpy as np        # working with arrays, vectors, cross/dot products, and radians\n",
    "\n",
    "from pyproj import Geod   # working with the Earth as an ellipsod (WGS-84)\n",
    "import geopy.distance     # working with the Earth as an ellipsod (WGS-84)"
   ]
  },
  {
   "cell_type": "code",
   "execution_count": 2,
   "metadata": {},
   "outputs": [
    {
     "data": {
      "text/html": [
       "<div>\n",
       "<style scoped>\n",
       "    .dataframe tbody tr th:only-of-type {\n",
       "        vertical-align: middle;\n",
       "    }\n",
       "\n",
       "    .dataframe tbody tr th {\n",
       "        vertical-align: top;\n",
       "    }\n",
       "\n",
       "    .dataframe thead th {\n",
       "        text-align: right;\n",
       "    }\n",
       "</style>\n",
       "<table border=\"1\" class=\"dataframe\">\n",
       "  <thead>\n",
       "    <tr style=\"text-align: right;\">\n",
       "      <th></th>\n",
       "      <th>name</th>\n",
       "      <th>latitude</th>\n",
       "      <th>longitude</th>\n",
       "      <th>cart_x</th>\n",
       "      <th>cart_y</th>\n",
       "      <th>cart_z</th>\n",
       "      <th>rho</th>\n",
       "      <th>theta</th>\n",
       "      <th>phi</th>\n",
       "      <th>polar_x</th>\n",
       "      <th>polar_y</th>\n",
       "      <th>polar_z</th>\n",
       "    </tr>\n",
       "  </thead>\n",
       "  <tbody>\n",
       "    <tr>\n",
       "      <th>0</th>\n",
       "      <td>arecibo</td>\n",
       "      <td>18.3441</td>\n",
       "      <td>-66.7527</td>\n",
       "      <td>2.389526e+06</td>\n",
       "      <td>-5.562495e+06</td>\n",
       "      <td>2.007347e+06</td>\n",
       "      <td>6378137.0</td>\n",
       "      <td>-1.165054</td>\n",
       "      <td>1.250631</td>\n",
       "      <td>-5.562495e+06</td>\n",
       "      <td>2.389526e+06</td>\n",
       "      <td>2.007347e+06</td>\n",
       "    </tr>\n",
       "    <tr>\n",
       "      <th>1</th>\n",
       "      <td>boulder</td>\n",
       "      <td>40.0150</td>\n",
       "      <td>-105.2705</td>\n",
       "      <td>-1.286558e+06</td>\n",
       "      <td>-4.712394e+06</td>\n",
       "      <td>4.101066e+06</td>\n",
       "      <td>6378137.0</td>\n",
       "      <td>1.304276</td>\n",
       "      <td>0.872403</td>\n",
       "      <td>-4.712394e+06</td>\n",
       "      <td>-1.286558e+06</td>\n",
       "      <td>4.101066e+06</td>\n",
       "    </tr>\n",
       "    <tr>\n",
       "      <th>2</th>\n",
       "      <td>boston</td>\n",
       "      <td>42.3601</td>\n",
       "      <td>-71.0589</td>\n",
       "      <td>1.529809e+06</td>\n",
       "      <td>-4.457769e+06</td>\n",
       "      <td>4.297512e+06</td>\n",
       "      <td>6378137.0</td>\n",
       "      <td>-1.240212</td>\n",
       "      <td>0.831473</td>\n",
       "      <td>-4.457769e+06</td>\n",
       "      <td>1.529809e+06</td>\n",
       "      <td>4.297512e+06</td>\n",
       "    </tr>\n",
       "    <tr>\n",
       "      <th>3</th>\n",
       "      <td>redwoods</td>\n",
       "      <td>41.4017</td>\n",
       "      <td>-124.0417</td>\n",
       "      <td>-2.678169e+06</td>\n",
       "      <td>-3.964322e+06</td>\n",
       "      <td>4.218080e+06</td>\n",
       "      <td>6378137.0</td>\n",
       "      <td>0.976657</td>\n",
       "      <td>0.848200</td>\n",
       "      <td>-3.964322e+06</td>\n",
       "      <td>-2.678169e+06</td>\n",
       "      <td>4.218080e+06</td>\n",
       "    </tr>\n",
       "    <tr>\n",
       "      <th>4</th>\n",
       "      <td>houston</td>\n",
       "      <td>29.5518</td>\n",
       "      <td>-95.0982</td>\n",
       "      <td>-4.930480e+05</td>\n",
       "      <td>-5.526456e+06</td>\n",
       "      <td>3.145762e+06</td>\n",
       "      <td>6378137.0</td>\n",
       "      <td>1.481816</td>\n",
       "      <td>1.055020</td>\n",
       "      <td>-5.526456e+06</td>\n",
       "      <td>-4.930480e+05</td>\n",
       "      <td>3.145762e+06</td>\n",
       "    </tr>\n",
       "  </tbody>\n",
       "</table>\n",
       "</div>"
      ],
      "text/plain": [
       "       name  latitude  longitude        cart_x        cart_y        cart_z  \\\n",
       "0   arecibo   18.3441   -66.7527  2.389526e+06 -5.562495e+06  2.007347e+06   \n",
       "1   boulder   40.0150  -105.2705 -1.286558e+06 -4.712394e+06  4.101066e+06   \n",
       "2    boston   42.3601   -71.0589  1.529809e+06 -4.457769e+06  4.297512e+06   \n",
       "3  redwoods   41.4017  -124.0417 -2.678169e+06 -3.964322e+06  4.218080e+06   \n",
       "4   houston   29.5518   -95.0982 -4.930480e+05 -5.526456e+06  3.145762e+06   \n",
       "\n",
       "         rho     theta       phi       polar_x       polar_y       polar_z  \n",
       "0  6378137.0 -1.165054  1.250631 -5.562495e+06  2.389526e+06  2.007347e+06  \n",
       "1  6378137.0  1.304276  0.872403 -4.712394e+06 -1.286558e+06  4.101066e+06  \n",
       "2  6378137.0 -1.240212  0.831473 -4.457769e+06  1.529809e+06  4.297512e+06  \n",
       "3  6378137.0  0.976657  0.848200 -3.964322e+06 -2.678169e+06  4.218080e+06  \n",
       "4  6378137.0  1.481816  1.055020 -5.526456e+06 -4.930480e+05  3.145762e+06  "
      ]
     },
     "execution_count": 2,
     "metadata": {},
     "output_type": "execute_result"
    }
   ],
   "source": [
    "# Get the coordinates for locations with all coordinates\n",
    "location_df = pd.read_csv(\"../location_full_coords.txt\")\n",
    "location_df = location_df.rename(columns=lambda x: x.strip()) # strip excess white space from column names and values\n",
    "location_df.head()"
   ]
  },
  {
   "cell_type": "code",
   "execution_count": 3,
   "metadata": {},
   "outputs": [
    {
     "data": {
      "text/html": [
       "<div>\n",
       "<style scoped>\n",
       "    .dataframe tbody tr th:only-of-type {\n",
       "        vertical-align: middle;\n",
       "    }\n",
       "\n",
       "    .dataframe tbody tr th {\n",
       "        vertical-align: top;\n",
       "    }\n",
       "\n",
       "    .dataframe thead th {\n",
       "        text-align: right;\n",
       "    }\n",
       "</style>\n",
       "<table border=\"1\" class=\"dataframe\">\n",
       "  <thead>\n",
       "    <tr style=\"text-align: right;\">\n",
       "      <th></th>\n",
       "      <th>name</th>\n",
       "      <th>latitude</th>\n",
       "      <th>longitude</th>\n",
       "      <th>cart_x</th>\n",
       "      <th>cart_y</th>\n",
       "      <th>cart_z</th>\n",
       "      <th>rho</th>\n",
       "      <th>theta</th>\n",
       "      <th>phi</th>\n",
       "      <th>polar_x</th>\n",
       "      <th>polar_y</th>\n",
       "      <th>polar_z</th>\n",
       "    </tr>\n",
       "    <tr>\n",
       "      <th>name</th>\n",
       "      <th></th>\n",
       "      <th></th>\n",
       "      <th></th>\n",
       "      <th></th>\n",
       "      <th></th>\n",
       "      <th></th>\n",
       "      <th></th>\n",
       "      <th></th>\n",
       "      <th></th>\n",
       "      <th></th>\n",
       "      <th></th>\n",
       "      <th></th>\n",
       "    </tr>\n",
       "  </thead>\n",
       "  <tbody>\n",
       "    <tr>\n",
       "      <th>arecibo</th>\n",
       "      <td>arecibo</td>\n",
       "      <td>18.3441</td>\n",
       "      <td>-66.7527</td>\n",
       "      <td>2.389526e+06</td>\n",
       "      <td>-5.562495e+06</td>\n",
       "      <td>2.007347e+06</td>\n",
       "      <td>6378137.0</td>\n",
       "      <td>-1.165054</td>\n",
       "      <td>1.250631</td>\n",
       "      <td>-5.562495e+06</td>\n",
       "      <td>2.389526e+06</td>\n",
       "      <td>2.007347e+06</td>\n",
       "    </tr>\n",
       "    <tr>\n",
       "      <th>boulder</th>\n",
       "      <td>boulder</td>\n",
       "      <td>40.0150</td>\n",
       "      <td>-105.2705</td>\n",
       "      <td>-1.286558e+06</td>\n",
       "      <td>-4.712394e+06</td>\n",
       "      <td>4.101066e+06</td>\n",
       "      <td>6378137.0</td>\n",
       "      <td>1.304276</td>\n",
       "      <td>0.872403</td>\n",
       "      <td>-4.712394e+06</td>\n",
       "      <td>-1.286558e+06</td>\n",
       "      <td>4.101066e+06</td>\n",
       "    </tr>\n",
       "    <tr>\n",
       "      <th>boston</th>\n",
       "      <td>boston</td>\n",
       "      <td>42.3601</td>\n",
       "      <td>-71.0589</td>\n",
       "      <td>1.529809e+06</td>\n",
       "      <td>-4.457769e+06</td>\n",
       "      <td>4.297512e+06</td>\n",
       "      <td>6378137.0</td>\n",
       "      <td>-1.240212</td>\n",
       "      <td>0.831473</td>\n",
       "      <td>-4.457769e+06</td>\n",
       "      <td>1.529809e+06</td>\n",
       "      <td>4.297512e+06</td>\n",
       "    </tr>\n",
       "    <tr>\n",
       "      <th>redwoods</th>\n",
       "      <td>redwoods</td>\n",
       "      <td>41.4017</td>\n",
       "      <td>-124.0417</td>\n",
       "      <td>-2.678169e+06</td>\n",
       "      <td>-3.964322e+06</td>\n",
       "      <td>4.218080e+06</td>\n",
       "      <td>6378137.0</td>\n",
       "      <td>0.976657</td>\n",
       "      <td>0.848200</td>\n",
       "      <td>-3.964322e+06</td>\n",
       "      <td>-2.678169e+06</td>\n",
       "      <td>4.218080e+06</td>\n",
       "    </tr>\n",
       "    <tr>\n",
       "      <th>houston</th>\n",
       "      <td>houston</td>\n",
       "      <td>29.5518</td>\n",
       "      <td>-95.0982</td>\n",
       "      <td>-4.930480e+05</td>\n",
       "      <td>-5.526456e+06</td>\n",
       "      <td>3.145762e+06</td>\n",
       "      <td>6378137.0</td>\n",
       "      <td>1.481816</td>\n",
       "      <td>1.055020</td>\n",
       "      <td>-5.526456e+06</td>\n",
       "      <td>-4.930480e+05</td>\n",
       "      <td>3.145762e+06</td>\n",
       "    </tr>\n",
       "  </tbody>\n",
       "</table>\n",
       "</div>"
      ],
      "text/plain": [
       "              name  latitude  longitude        cart_x        cart_y  \\\n",
       "name                                                                  \n",
       "arecibo    arecibo   18.3441   -66.7527  2.389526e+06 -5.562495e+06   \n",
       "boulder    boulder   40.0150  -105.2705 -1.286558e+06 -4.712394e+06   \n",
       "boston      boston   42.3601   -71.0589  1.529809e+06 -4.457769e+06   \n",
       "redwoods  redwoods   41.4017  -124.0417 -2.678169e+06 -3.964322e+06   \n",
       "houston    houston   29.5518   -95.0982 -4.930480e+05 -5.526456e+06   \n",
       "\n",
       "                cart_z        rho     theta       phi       polar_x  \\\n",
       "name                                                                  \n",
       "arecibo   2.007347e+06  6378137.0 -1.165054  1.250631 -5.562495e+06   \n",
       "boulder   4.101066e+06  6378137.0  1.304276  0.872403 -4.712394e+06   \n",
       "boston    4.297512e+06  6378137.0 -1.240212  0.831473 -4.457769e+06   \n",
       "redwoods  4.218080e+06  6378137.0  0.976657  0.848200 -3.964322e+06   \n",
       "houston   3.145762e+06  6378137.0  1.481816  1.055020 -5.526456e+06   \n",
       "\n",
       "               polar_y       polar_z  \n",
       "name                                  \n",
       "arecibo   2.389526e+06  2.007347e+06  \n",
       "boulder  -1.286558e+06  4.101066e+06  \n",
       "boston    1.529809e+06  4.297512e+06  \n",
       "redwoods -2.678169e+06  4.218080e+06  \n",
       "houston  -4.930480e+05  3.145762e+06  "
      ]
     },
     "execution_count": 3,
     "metadata": {},
     "output_type": "execute_result"
    }
   ],
   "source": [
    "# Set index to the name column, this will make it easier to access each row\n",
    "location_df.index = location_df[\"name\"]\n",
    "location_df.head()"
   ]
  },
  {
   "cell_type": "markdown",
   "metadata": {},
   "source": [
    "## Distance Between Points on a Great Circle Arc\n",
    "\n",
    "We can determine the distance between two points A and B (for example, Cario and Hong Kong) both by hand mathematically and with Python packages like `pyproj` and `geopy`"
   ]
  },
  {
   "cell_type": "markdown",
   "metadata": {},
   "source": [
    "### Determine Distance Between Points Mathematically via Unit Sphere\n",
    "\n",
    "Unit sphere refers to a sphere with a radius of 1, for the purpose of this cookbook, when we are using a unit sphere to represent Earth, it is a perfect sphere that has been multiplied by 6378137 meters\n",
    "\n",
    "First, to measure the distance between point A (latA, lonA) and point B (latB, lonB) on a unit sphere (radius = 1)\n",
    "\n",
    "$$d=acos(sin(latA)*sin(latB)+cos(latA)*cos(latB)*cos(lonA-lonB))$$\n",
    "\n",
    "Because of the translation when working with radians and degrees, there is a mathematically equivalent formula that works better when working with shorter distances (to produce less rounding errors):\n",
    "\n",
    "$$d=2*asin(\\sqrt{sin(\\frac{latA-latB}{2})^2 + cos(latA)*cos(latB)*sin(\\frac{lonA-lonB}{2})^2})$$\n",
    "\n",
    "- [See more: Distance Between Points](https://edwilliams.org/avform147.htm#Dist)"
   ]
  },
  {
   "cell_type": "markdown",
   "metadata": {},
   "source": [
    "We can now translate these equations for measuring the distance between two points (the great circle arc distance) into Python and multiply the result by the Earth's radius. \n",
    "\n",
    "These equations use a locations's latitude/longtiude coordinates, which we can access in a `pandas` dataframe with the name of the location and which coordinate type we would like, for example:"
   ]
  },
  {
   "cell_type": "code",
   "execution_count": 6,
   "metadata": {},
   "outputs": [
    {
     "name": "stdout",
     "output_type": "stream",
     "text": [
      "Boulder latitude: 40.015\n",
      "Boulder longitude: -105.2705\n"
     ]
    }
   ],
   "source": [
    "print(f\"Boulder latitude: {location_df.loc[\"boulder\", \"latitude\"]}\")\n",
    "print(f\"Boulder longitude: {location_df.loc[\"boulder\", \"longitude\"]}\")"
   ]
  },
  {
   "cell_type": "markdown",
   "metadata": {},
   "source": [
    "Below, Equation 1 has become `distance_between_points_default` since this is the equation we will use for most equations, but Equation 2 has become `distance_between_points_small` for working with small distances that are less prone to rounding errors. We can call both equations to compare outputs to see how they are mathematically equivalent. By hand, Equation 1 is a faster calculation than Equation 2, but when working with Python both of these functions will run nearly as quickly."
   ]
  },
  {
   "cell_type": "code",
   "execution_count": 7,
   "metadata": {},
   "outputs": [],
   "source": [
    "def distance_between_points_default(start_point=None, end_point=None):\n",
    "    earth_radius = 6378137  # meters\n",
    "    latA = np.deg2rad(location_df.loc[start_point, \"latitude\"])\n",
    "    lonA = np.deg2rad(location_df.loc[start_point, \"longitude\"])\n",
    "    latB = np.deg2rad(location_df.loc[end_point, \"latitude\"])\n",
    "    lonB = np.deg2rad(location_df.loc[end_point, \"longitude\"])\n",
    "\n",
    "    distance_default = np.arccos(np.sin(latA)*np.sin(latB)+np.cos(latA)*np.cos(latB)*np.cos(lonA-lonB))\n",
    "    return distance_default * earth_radius"
   ]
  },
  {
   "cell_type": "code",
   "execution_count": 8,
   "metadata": {},
   "outputs": [],
   "source": [
    "def distance_between_points_small(start_point=None, end_point=None):\n",
    "    earth_radius = 6378137  # meters\n",
    "    latA = np.deg2rad(location_df.loc[start_point, \"latitude\"])\n",
    "    lonA = np.deg2rad(location_df.loc[start_point, \"longitude\"])\n",
    "    latB = np.deg2rad(location_df.loc[end_point, \"latitude\"])\n",
    "    lonB = np.deg2rad(location_df.loc[end_point, \"longitude\"])\n",
    "\n",
    "    distance_small = 2 * np.arcsin(np.sqrt((np.sin((latA-latB)/2))**2 + np.cos(latA)*np.cos(latB)*(np.sin((lonA-lonB)/2))**2))\n",
    "    return distance_small * earth_radius"
   ]
  },
  {
   "cell_type": "markdown",
   "metadata": {},
   "source": [
    "### Sidenote: Additional Formulas\n",
    "\n",
    "While we will be focusing on Equation 1 and Equation 2 for our calculations in the future, there are even more methods to calculate the distance between points on a sphere. Each formula has different degrees of precision based on which ellipsoid or sphere is used:\n",
    "\n",
    "##### Haversine Formula (TODO)\n",
    "\n",
    "The Haversine Formula determines the great circle distance between two latitude/longtidue points on a sphere, originally conceived in the early 1800's. Haversine makes use of the central angle θ between two points, measured from the center of the sphere where:\n",
    "\n",
    "$$θ = \\frac{d}{r}$$\n",
    "\n",
    "Where `d` is the distance between the two latitude/longitude coordinates on the spehre and `r` is the radius of the sphere. Then, to solve for the distance between the two points (`d`):\n",
    "\n",
    "$$\\text{difference in latitude} = (\\text{latB} - \\text{latA})$$\n",
    "$$\\text{difference in longitude} = (\\text{lonB} - \\text{lonA})$$\n",
    "\n",
    "Where the difference in latitude (`dlat`) and longitude (`dlon`) can then be used to calculate:\n",
    "\n",
    "$$a = sin(\\frac{dlat}{2})^2 + cos(latA) * cos(latB) * sin(\\frac{dlon}{2})^2$$\n",
    "$$c = 2 * arcsin(min(1, sqrt(a)))$$\n",
    "$$\\text{haversine distance} = R * c$$\n",
    "\n",
    "Where R is the radius of the Earth.\n",
    "\n",
    "[See more](https://en.wikipedia.org/wiki/Haversine_formula)\n",
    "\n",
    "See also: [reference](https://cs.nyu.edu/~visual/home/proj/tiger/gisfaq.html) (R.W. Sinnott, \"Virtues of the Haversine\", Sky and Telescope, vol. 68, no. 2, 1984, pg. 159) (TODO)\n",
    "\n",
    "##### Vincenty's Formula (TODO)\n",
    "\n",
    "Vincenty's formula is an interative method to calculate the distance between two points on the surface of a spheroid, which has the advantage that it assumpes that the Earth is not a perfect spehre. Instead, it assumes the Earth is an oblate spheroid, which can make it more accurate that typical great circle methods that assume the planet is a sphere\n",
    "\n",
    "- Vincenty Sphere Great Circle Distance\n",
    "- Vincenty Ellipsoid Great Circle Distance\n",
    "\n",
    "[See more](https://en.wikipedia.org/wiki/Vincenty%27s_formulae)\n",
    "\n",
    "##### Meeus Great Circle Distance\n",
    "\n",
    "Meeus is a calculation for determining the distance between two points on an ellipsoid from J. Meeus _Astronomical Algorithms_ (1991, 2nd Edition, pg. 477) which is [used in R (`distMeeus`)](https://rdrr.io/cran/geosphere/man/distMeeus.html). This calculations includes input values for both the radius and the inverse flattening value (but still defaults to WGS-84)\n",
    "\n",
    "##### Law of Cosines Great Circle Distance (TODO)\n",
    "\n",
    "There is a method to use the law of cosines to determine the shortest distance between two points on a sphere, [which is used in R](https://www.rdocumentation.org/packages/geosphere/versions/1.5-20/topics/distCosine)\n"
   ]
  },
  {
   "cell_type": "markdown",
   "metadata": {},
   "source": [
    "### Determine Distance Points via Python Package `pyproj`\n",
    "\n",
    "While great circle distances can be determine mathematically, there are some Python packages that account for the fact that the Earth is not a perfect sphere that will be easier to work than relying entirely on the equations derived above. For example, `pyproj` treats the Earth as an ellipsoid, by default specifically `WGS-84`.\n",
    "\n",
    "[WGS-84 is the World Geodetic System](https://en.wikipedia.org/wiki/World_Geodetic_System) and considered to be the current standard for geodesy and working with satellite. It is an geocentric and is consistent to within 1 meter around the globe.\n",
    "\n",
    "To begin, let use use `pyproj` to set up an ellipsoid (`WGS-84`) that will represent the Earth."
   ]
  },
  {
   "cell_type": "code",
   "execution_count": 9,
   "metadata": {},
   "outputs": [
    {
     "name": "stdout",
     "output_type": "stream",
     "text": [
      "Distance between coordinates (ellipsoid)   = 2862.5974799145215 km\n"
     ]
    }
   ],
   "source": [
    "geodesic = Geod(ellps=\"WGS84\") # setup ellipsoid\n",
    "\n",
    "# Return the distance between two points (for example, Boulder and Boston)\n",
    "_, _, distance_meter =  geodesic.inv(location_df.loc[\"boulder\", \"longitude\"],\n",
    "                                     location_df.loc[\"boulder\", \"latitude\"],\n",
    "                                     location_df.loc[\"boston\", \"longitude\"],\n",
    "                                     location_df.loc[\"boston\", \"latitude\"])\n",
    "\n",
    "print(f\"Distance between coordinates (ellipsoid)   = {distance_meter/1000} km\")"
   ]
  },
  {
   "cell_type": "markdown",
   "metadata": {},
   "source": [
    "That is much easier! We can compare `pyproj` to the output from the equations (1 and 2) that we calculated above:"
   ]
  },
  {
   "cell_type": "code",
   "execution_count": 10,
   "metadata": {},
   "outputs": [
    {
     "name": "stdout",
     "output_type": "stream",
     "text": [
      "Distance between coordinates (unit sphere) = 2858.532213639344 km\n",
      "Distance between coordinates (unit sphere) = 2858.5322136393447 km\n"
     ]
    }
   ],
   "source": [
    "distance_unit_sphere_default = distance_between_points_default(\"boulder\", \"boston\")\n",
    "print(f\"Distance between coordinates (unit sphere) = {distance_unit_sphere_default/1000} km\")\n",
    "distance_unit_sphere_small = distance_between_points_small(\"boulder\", \"boston\")\n",
    "print(f\"Distance between coordinates (unit sphere) = {distance_unit_sphere_small/1000} km\")"
   ]
  },
  {
   "cell_type": "markdown",
   "metadata": {},
   "source": [
    "Both equations we calculated above slightly underestimate the distance between Boston and Boulder because they assume the Earth is a perfect sphere, `pyproj` accounts for ellipse."
   ]
  },
  {
   "cell_type": "markdown",
   "metadata": {},
   "source": [
    "## Convert Spherical Distance to Degrees\n",
    "\n",
    "Sometimes when you are working with a map, you don't always just need a distance in meters or kilometers. We can also convert the distances calculated back into degrees as needed. To convert a distance from meters to degrees, we will assume that the great circle is on a unit sphere with a constant spherical radius of ~6371 km (mean radius of Earth).\n",
    "\n",
    "Side note: The Python library `ObsPy` has a similar function built-in: [ObsPy `kilometer2degrees()`](https://docs.obspy.org/packages/autogen/obspy.geodetics.base.kilometer2degrees.html)"
   ]
  },
  {
   "cell_type": "code",
   "execution_count": 11,
   "metadata": {},
   "outputs": [],
   "source": [
    "earth_radius = 6378.137 # km\n",
    "\n",
    "def km_to_degree_distance(distance_km=None):\n",
    "    return distance_km / (2 * earth_radius * np.pi / 360)\n",
    "\n",
    "def degree_to_km_distance(distance_degree=None):\n",
    "    return distance_degree * (2 * earth_radius * np.pi / 360)"
   ]
  },
  {
   "cell_type": "code",
   "execution_count": 15,
   "metadata": {},
   "outputs": [
    {
     "name": "stdout",
     "output_type": "stream",
     "text": [
      "300 km to degrees = 2.6949458523585643 degrees\n",
      "2.6949458523585643 degree to km = 300.0 km\n"
     ]
    }
   ],
   "source": [
    "# We can convert back and form between kilometers and degrees\n",
    "print(f\"300 km to degrees = {km_to_degree_distance(300)} degrees\")\n",
    "print(f\"2.6949458523585643 degree to km = {degree_to_km_distance(2.6949458523585643)} km\")"
   ]
  },
  {
   "cell_type": "markdown",
   "metadata": {},
   "source": [
    "## Determine the Bearing of a Great Circle Arc\n",
    "\n",
    "Arcs are not just a distance, but a direction. Now, we can calculate the direction that an arc takes as it moves from Point A to Point B also known as the bearing."
   ]
  },
  {
   "cell_type": "markdown",
   "metadata": {},
   "source": [
    "### Determine the Bearing Mathematically via Unit Sphere\n",
    "\n",
    "The bearing between between Point A (latA, lonA) and Point B (latB, lonB) on a unit sphere can be calculated as:\n",
    "\n",
    "$$x = cos(latA) * sin(latB) - sin(latA) * cos(latB) * cos(lonB - lonA)$$\n",
    "$$y = sin(lonB - lonA) * cos(latB)$$\n",
    "$$θ = atan2(y, x)$$\n",
    "\n",
    "- [Movable Type: Bearing](https://www.movable-type.co.uk/scripts/latlong.html#bearing)\n",
    "\n",
    "This can be similarly converted to Python as:"
   ]
  },
  {
   "cell_type": "code",
   "execution_count": 16,
   "metadata": {},
   "outputs": [],
   "source": [
    "def bearing_between_points_unit_sphere(start_point=None, end_point=None):\n",
    "    latA = np.deg2rad(location_df.loc[start_point, \"latitude\"])\n",
    "    lonA = np.deg2rad(location_df.loc[start_point, \"longitude\"])\n",
    "    latB = np.deg2rad(location_df.loc[end_point, \"latitude\"])\n",
    "    lonB = np.deg2rad(location_df.loc[end_point, \"longitude\"])\n",
    "\n",
    "    x = np.cos(latA) * np.sin(latB) - np.sin(latA) * np.cos(latB) * np.cos(lonB - lonA)\n",
    "    y = np.sin(lonB - lonA) * np.cos(latB)\n",
    "    bearing = np.arctan2(y, x)\n",
    "    return np.rad2deg(bearing) % 360"
   ]
  },
  {
   "cell_type": "markdown",
   "metadata": {},
   "source": [
    "### Determine the Bearing via Python Package `pyproj`\n",
    "\n",
    "`pyproj` can also use the same `geodesic.inv()` function to calculate bearing. However, `pyproj` includes both the foward and reverse bearing. Foward bearing refers to the bearing from Point A to Point B, while the reverse bearing is the bearing from Point B to Point A. The reverse bearing is returned as a negative angle, but it can also be calculated as the `Forward Bearing - 360`.\n",
    "\n",
    "For example, to find the bearing from Boulder and Boston:"
   ]
  },
  {
   "cell_type": "code",
   "execution_count": 18,
   "metadata": {},
   "outputs": [
    {
     "name": "stdout",
     "output_type": "stream",
     "text": [
      "Foward Bearing: 73.51048829569022\n",
      "Reverse Bearing: -83.57035585674933 (276.4296441432507)\n"
     ]
    }
   ],
   "source": [
    "geodesic = Geod(ellps=\"WGS84\")\n",
    "fwd_bearing, rvs_bearing, _ =  geodesic.inv(location_df.loc[\"boulder\", \"longitude\"],\n",
    "                                             location_df.loc[\"boulder\", \"latitude\"],\n",
    "                                             location_df.loc[\"boston\", \"longitude\"],\n",
    "                                             location_df.loc[\"boston\", \"latitude\"])\n",
    "print(f\"Foward Bearing: {fwd_bearing}\")\n",
    "print(f\"Reverse Bearing: {rvs_bearing} ({rvs_bearing%360})\")"
   ]
  },
  {
   "cell_type": "markdown",
   "metadata": {},
   "source": [
    "When refering to bearing however, it is typically assumed to be refering to the foward bearing, so we will use the function below as we move foward."
   ]
  },
  {
   "cell_type": "code",
   "execution_count": 19,
   "metadata": {},
   "outputs": [],
   "source": [
    "def bearing_between_points_ellps(start_point=None, end_point=None):\n",
    "    geodesic = Geod(ellps=\"WGS84\")\n",
    "    fwd_bearing, _, _ =  geodesic.inv(location_df.loc[start_point, \"longitude\"],\n",
    "                                        location_df.loc[start_point, \"latitude\"],\n",
    "                                        location_df.loc[end_point, \"longitude\"],\n",
    "                                        location_df.loc[end_point, \"latitude\"])\n",
    "    return fwd_bearing"
   ]
  },
  {
   "cell_type": "markdown",
   "metadata": {},
   "source": [
    "Because of the slightly flattened shape of an ellipsoid compared to a sphere, the bearing can also vary depending on if you are calculating bearing on a unit sphere or a ellipsoid:"
   ]
  },
  {
   "cell_type": "code",
   "execution_count": 20,
   "metadata": {},
   "outputs": [
    {
     "name": "stdout",
     "output_type": "stream",
     "text": [
      "forward bearing between coordinates (ellipsoid)   = 73.51048829569022 Degrees\n",
      "forward bearing between coordinates (unit sphere) = 73.49180375272644 Degrees\n"
     ]
    }
   ],
   "source": [
    "### Compare Unit Sphere and Ellipsoid\n",
    "beaing_ellps = bearing_between_points_ellps(\"boulder\", \"boston\")\n",
    "print(f\"forward bearing between coordinates (ellipsoid)   = {beaing_ellps} Degrees\")\n",
    "bearing_us = bearing_between_points_unit_sphere(\"boulder\", \"boston\")\n",
    "print(f\"forward bearing between coordinates (unit sphere) = {bearing_us} Degrees\")"
   ]
  },
  {
   "cell_type": "markdown",
   "metadata": {},
   "source": [
    "## Generating a Great Circle Arc with Intermediates Points\n",
    "\n",
    "Now we have calculated both the length of a great circle arc as well as its bearing. Now we can begin to add additional points along the arc. These intermediate points will lie along the great circle arc and can be calculated as the fractional distance laong the arc (for example, a point for every 10th of the arc)."
   ]
  },
  {
   "cell_type": "markdown",
   "metadata": {},
   "source": [
    "### Determine Intermediate Points Mathemetically via Unit Sphere (Fractional Distance)\n",
    "\n",
    "Along a unit sphere, we can calculate each intermediate point as a fractional distance along the arc. We can determine the points as a given fraction of a distance (`d`) between a starting points A (latA, lonA) and the final point B (latB, lonB) where `f` is a fraction along the great circle arc. As a result, Point A is at`f=0` and Point B sits at`f=1` along the arc.\n",
    "\n",
    "> Note: The points must not lie on exact opposite sides of a sphere (antipodal), otherwise, the path is undefined because f=0=1\n",
    "\n",
    "Where, antipodal is defined by:\n",
    "$$latA + latB = 0$$\n",
    "$$abs(lonA - lonB) = pi$$\n",
    "\n",
    "Where the distance between two points is the angular distance:\n",
    "\n",
    "$$d = \\frac{\\text{total distance of arc}}{\\text{earth's radius}}$$\n",
    "\n",
    "The intermediate points (lat, lon) along a given path starting point to end point:\n",
    "\n",
    "$$A = sin(\\frac{(1-f) * d}{sin(d)}$$\n",
    "$$B = \\frac{sin(f*d)}{sin(d)}$$\n",
    "$$x = A * cos(latA) * cos(lonA) + B * cos(latB) * cos(lonB)$$\n",
    "$$y = A * cos(latA) * sin(lonA) + B * cos(latB) * sin(lonB)$$\n",
    "$$z = A * sin(latA) + B * sin(latB)$$\n",
    "$$lat = atan2(z, \\sqrt{x^2 + y^2})$$\n",
    "$$lon = atan2(y, x)$$\n",
    "\n",
    "- [Ed Williams: Intermediate Points on a Great Circle](https://edwilliams.org/avform147.htm#Intermediate)\n",
    "- [Moveable Type: Intermediate Point](https://www.movable-type.co.uk/scripts/latlong.html#intermediate-point)\n",
    "\n",
    "Let's translate this math into Python code:"
   ]
  },
  {
   "cell_type": "code",
   "execution_count": 21,
   "metadata": {},
   "outputs": [],
   "source": [
    "def intermediate_points(start_point=None, end_point=None,\n",
    "                        fraction=None, distance=None):\n",
    "    # Calculates the position of an intermediate point based on its fractional position along an arc defined from Point A to Point B\n",
    "    earth_radius = 6378137  # meters\n",
    "    total_distance = distance / earth_radius\n",
    "    latA = np.deg2rad(location_df.loc[start_point, \"latitude\"])\n",
    "    lonA = np.deg2rad(location_df.loc[start_point, \"longitude\"])\n",
    "    latB = np.deg2rad(location_df.loc[end_point, \"latitude\"])\n",
    "    lonB = np.deg2rad(location_df.loc[end_point, \"longitude\"])\n",
    "\n",
    "    A = np.sin((1-fraction) * total_distance) / np.sin(total_distance)\n",
    "    B = np.sin(fraction * total_distance) / np.sin(total_distance)\n",
    "    x = (A * np.cos(latA) * np.cos(lonA)) + (B * np.cos(latB) * np.cos(lonB))\n",
    "    y = (A * np.cos(latA) * np.sin(lonA)) + (B * np.cos(latB) * np.sin(lonB))\n",
    "    z = (A * np.sin(latA)) + (B * np.sin(latB))\n",
    "    lat = np.arctan2(z, np.sqrt(x**2 + y**2))\n",
    "    lon = np.arctan2(y, x)\n",
    "    return (np.rad2deg(lat), np.rad2deg(lon))\n",
    "\n",
    "def calculate_intermediate_pts(start_point=None, end_point=None,\n",
    "                               fraction=None, total_distance_meter=None):\n",
    "    # returns a list of intermediate points along the arc seperated by a specific fraction\n",
    "    fractions = np.arange(0, 1+fraction, fraction)\n",
    "    intermediate_lat_lon = []\n",
    "    for fractional in fractions:\n",
    "        intermediate_pts = intermediate_points(start_point, end_point,\n",
    "                                                fractional, total_distance_meter)\n",
    "        intermediate_lat_lon.append(intermediate_pts)\n",
    "    return intermediate_lat_lon"
   ]
  },
  {
   "cell_type": "markdown",
   "metadata": {},
   "source": [
    "### Determine Intermediate Points via Python Package `pyproj` and `geopy`\n",
    "\n",
    "However, there is a strong advantage when you the Python libraries `pyproj` and `geopy`. Not only can you use an ellipsoid instead of a sphere, you can also interpolate points along an arc in additional ways:\n",
    "\n",
    "- A fractional distance laong the arc (for example, a point for every 10th of the arc)\n",
    "- A known distance along the arc (for example, a point ever 100 meters)\n",
    "- An equal amount of points (for example, adding 6 intermediate points which are equally spaced along the arc)\n",
    "\n",
    "Below you will see how we can use one function `interpolate_points_along_gc` to be able to solve for all three possible types of intermediate points. The function will use both the starting and ending coordinates (Point A to Point B) and a distance you'd like to have between each point."
   ]
  },
  {
   "cell_type": "code",
   "execution_count": null,
   "metadata": {},
   "outputs": [],
   "source": [
    "def interpolate_points_along_gc(lat_start,\n",
    "                                lon_start,\n",
    "                                lat_end,\n",
    "                                lon_end,\n",
    "                                distance_between_points_meter): \n",
    "    # Interpolate intermediate points along an arc wtih a given distance between each point\n",
    "    lat_lon_points = [(lat_start, lon_start)]\n",
    "    \n",
    "    # move to next point when distance between points is less than the equal distance\n",
    "    move_to_next_point = True\n",
    "    while(move_to_next_point):\n",
    "        forward_bearing, _, distance_meters = geodesic.inv(lon_start,\n",
    "                                                            lat_start, \n",
    "                                                            lon_end,\n",
    "                                                            lat_end)\n",
    "        if distance_meters < distance_between_points_meter:\n",
    "            # ends before overshooting\n",
    "            move_to_next_point = False\n",
    "        else:\n",
    "            start_point = geopy.Point(lat_start, lon_start)\n",
    "            distance_to_move = geopy.distance.distance(\n",
    "                            kilometers=distance_between_points_meter /\n",
    "                            1000)  # distance to move towards the next point\n",
    "            final_position = distance_to_move.destination(\n",
    "                            start_point, bearing=forward_bearing)\n",
    "            lat_lon_points.append((final_position.latitude, final_position.longitude))\n",
    "            # new starting position is newly found end position\n",
    "            lon_start, lat_start = final_position.longitude, final_position.latitude\n",
    "    lat_lon_points.append((lat_end, lon_end))\n",
    "    return lat_lon_points"
   ]
  },
  {
   "cell_type": "markdown",
   "metadata": {},
   "source": [
    "### Plot Arcs as Points on a World Map"
   ]
  },
  {
   "cell_type": "code",
   "execution_count": null,
   "metadata": {},
   "outputs": [],
   "source": [
    "import matplotlib.pyplot as plt\n",
    "from cartopy import crs as ccrs, feature as cfeature\n",
    "\n",
    "def plot_coordinate(lst_of_coords=None, title=None):\n",
    "    # Set up world map plot on the United States\n",
    "    fig = plt.subplots(figsize=(15, 10))\n",
    "    projection_map = ccrs.PlateCarree()\n",
    "    ax = plt.axes(projection=projection_map)\n",
    "    lon_west, lon_east, lat_south, lat_north = -130, -60, 20, 60\n",
    "    ax.set_extent([lon_west, lon_east, lat_south, lat_north], crs=projection_map)\n",
    "    ax.coastlines(color=\"black\")\n",
    "    ax.add_feature(cfeature.STATES, edgecolor=\"black\")\n",
    "    \n",
    "    # Plot Latitude/Longitude Location\n",
    "    longitudes = [x[1] for x in lst_of_coords] # longitude\n",
    "    latitudes = [x[0] for x in lst_of_coords] # latitude\n",
    "    plt.plot(longitudes, latitudes)\n",
    "    plt.scatter(longitudes, latitudes)\n",
    "    \n",
    "    # Setup Axis Limits and Title/Labels\n",
    "    plt.title(title)\n",
    "    plt.show()"
   ]
  },
  {
   "cell_type": "markdown",
   "metadata": {},
   "source": [
    "#### Interpolate with N Total Equally Spaced Points"
   ]
  },
  {
   "cell_type": "code",
   "execution_count": null,
   "metadata": {},
   "outputs": [],
   "source": [
    "n_total_points = 10 # total points (n points)\n",
    "distance_between_points_meter = distance_meter / (n_total_points + 1)\n",
    "print(f\"Each point will be separated by {distance_between_points_meter} meters ({distance_between_points_meter/1000} km)\")"
   ]
  },
  {
   "cell_type": "code",
   "execution_count": null,
   "metadata": {},
   "outputs": [],
   "source": [
    "lat_start, lon_start = location_df.loc[[\"boulder\"]][\"latitude\"].iloc[0], location_df.loc[[\"boulder\"]][\"longitude\"].iloc[0]\n",
    "lat_end, lon_end = location_df.loc[[\"boston\"]][\"latitude\"].iloc[0], location_df.loc[[\"boston\"]][\"longitude\"].iloc[0]\n",
    "\n",
    "intermediate_geodesic = interpolate_points_along_gc(lat_start,\n",
    "                                          lon_start,\n",
    "                                          lat_end,\n",
    "                                          lon_end,\n",
    "                                          distance_between_points_meter)\n",
    "print(f\"{len(intermediate_geodesic)} Total Points\")\n",
    "intermediate_geodesic"
   ]
  },
  {
   "cell_type": "code",
   "execution_count": null,
   "metadata": {},
   "outputs": [],
   "source": [
    "plot_coordinate(intermediate_geodesic,\n",
    "                title=f\"Interpolate {n_total_points} Points\")"
   ]
  },
  {
   "cell_type": "markdown",
   "metadata": {},
   "source": [
    "#### Interpolate every N meters"
   ]
  },
  {
   "cell_type": "code",
   "execution_count": null,
   "metadata": {},
   "outputs": [],
   "source": [
    "distance_between_points_meter = 112000\n",
    "print(f\"Each point will be separated by {distance_between_points_meter} meters ({distance_between_points_meter/1000} km)\")"
   ]
  },
  {
   "cell_type": "code",
   "execution_count": null,
   "metadata": {},
   "outputs": [],
   "source": [
    "lat_start, lon_start = location_df.loc[\"boulder\", \"latitude\"], location_df.loc[\"boulder\", \"longitude\"]\n",
    "lat_end, lon_end = location_df.loc[\"boston\", \"latitude\"], location_df.loc[\"boston\", \"longitude\"]\n",
    "\n",
    "intermediate_geodesic = interpolate_points_along_gc(lat_start,\n",
    "                                          lon_start,\n",
    "                                          lat_end,\n",
    "                                          lon_end,\n",
    "                                          distance_between_points_meter)\n",
    "print(f\"{len(intermediate_geodesic)} Total Points\")\n",
    "intermediate_geodesic"
   ]
  },
  {
   "cell_type": "code",
   "execution_count": null,
   "metadata": {},
   "outputs": [],
   "source": [
    "plot_coordinate(intermediate_geodesic,\n",
    "                title=f\"Interpolate every {distance_between_points_meter/1000} km\")"
   ]
  },
  {
   "cell_type": "markdown",
   "metadata": {},
   "source": [
    "#### Interpolate a fractional distance along arc"
   ]
  },
  {
   "cell_type": "code",
   "execution_count": null,
   "metadata": {},
   "outputs": [],
   "source": [
    "fraction = 1/10"
   ]
  },
  {
   "cell_type": "code",
   "execution_count": null,
   "metadata": {},
   "outputs": [],
   "source": [
    "distance_between_points_meter = fraction * distance_meter\n",
    "print(f\"Each point will be separated by {distance_between_points_meter} meters ({distance_between_points_meter/1000} km)\")"
   ]
  },
  {
   "cell_type": "code",
   "execution_count": null,
   "metadata": {},
   "outputs": [],
   "source": [
    "lat_start, lon_start = location_df.loc[\"boulder\", \"latitude\"], location_df.loc[\"boulder\", \"longitude\"]\n",
    "lat_end, lon_end = location_df.loc[\"boston\", \"latitude\"], location_df.loc[\"boston\", \"longitude\"]\n",
    "\n",
    "intermediate_ellipsoid = interpolate_points_along_gc(lat_start,\n",
    "                                          lon_start,\n",
    "                                          lat_end,\n",
    "                                          lon_end,\n",
    "                                          distance_between_points_meter)\n",
    "print(f\"{len(intermediate_ellipsoid)} Total Points\")\n",
    "intermediate_ellipsoid"
   ]
  },
  {
   "cell_type": "code",
   "execution_count": null,
   "metadata": {},
   "outputs": [],
   "source": [
    "plot_coordinate(intermediate_ellipsoid,\n",
    "                title=f\"(Ellipsoid) Interpolate on Fraction {fraction}\")"
   ]
  },
  {
   "cell_type": "code",
   "execution_count": null,
   "metadata": {},
   "outputs": [],
   "source": [
    "distance_unit_sphere_default = distance_between_points_default(\"boulder\", \"boston\")\n",
    "intermediate_unit_sphere = calculate_intermediate_pts(\"boulder\", \"boston\",\n",
    "                                               fraction, distance_unit_sphere_default)\n",
    "print(f\"{len(intermediate_unit_sphere)} Total Points\")\n",
    "intermediate_unit_sphere"
   ]
  },
  {
   "cell_type": "code",
   "execution_count": null,
   "metadata": {},
   "outputs": [],
   "source": [
    "plot_coordinate(intermediate_unit_sphere,\n",
    "                title=f\"(Unit Sphere) Interpolate on Fraction {fraction}\")"
   ]
  },
  {
   "cell_type": "code",
   "execution_count": null,
   "metadata": {},
   "outputs": [],
   "source": [
    "# compare math and geodesic outputs\n",
    "for i in range(len(intermediate_ellipsoid)):\n",
    "    _, _, distance_m = geodesic.inv(intermediate_ellipsoid[i][0], intermediate_ellipsoid[i][1],\n",
    "                                   intermediate_unit_sphere[i][0], intermediate_unit_sphere[i][1])\n",
    "    if np.isnan(distance_m): distance_m = 0\n",
    "    print(f\"Distance between ellipsoid/unit sphere defined point {i}: {distance_m} meters\")"
   ]
  },
  {
   "cell_type": "markdown",
   "metadata": {},
   "source": [
    "## Determine the Midpoint of a Great Circle Arc"
   ]
  },
  {
   "cell_type": "markdown",
   "metadata": {},
   "source": [
    "The midpoint of an arc can be determiend as a fractional distance along an arc where f = 0.5."
   ]
  },
  {
   "cell_type": "code",
   "execution_count": null,
   "metadata": {},
   "outputs": [],
   "source": [
    "midpoint = distance_meter / 2\n",
    "lat_start, lon_start = location_df.loc[\"boulder\", \"latitude\"], location_df.loc[\"boulder\", \"longitude\"]\n",
    "lat_end, lon_end = location_df.loc[\"boston\", \"latitude\"], location_df.loc[\"boston\", \"longitude\"]\n",
    "\n",
    "intermediate_geodesic = interpolate_points_along_gc(lat_start,\n",
    "                                          lon_start,\n",
    "                                          lat_end,\n",
    "                                          lon_end,\n",
    "                                          midpoint)\n",
    "print(f\"{len(intermediate_geodesic)} Total Points\")\n",
    "print(intermediate_geodesic)\n",
    "print(f\"Midpoint = {intermediate_geodesic[1]}\")"
   ]
  },
  {
   "cell_type": "code",
   "execution_count": null,
   "metadata": {},
   "outputs": [],
   "source": [
    "distance_unit_sphere_default = distance_between_points_default(\"boulder\", \"boston\")\n",
    "intermediate_unit_sphere = calculate_intermediate_pts(\"boulder\", \"boston\",\n",
    "                                               1/2, distance_unit_sphere_default)\n",
    "print(f\"{len(intermediate_unit_sphere)} Total Points\")\n",
    "print(intermediate_unit_sphere)\n",
    "print(f\"Midpoint = {intermediate_unit_sphere[1]}\")"
   ]
  },
  {
   "cell_type": "code",
   "execution_count": null,
   "metadata": {},
   "outputs": [],
   "source": [
    "# Compare geodesic and unit sphere\n",
    "_, _, distance_m = geodesic.inv(intermediate_geodesic[1][0], intermediate_geodesic[1][1],\n",
    "                                   intermediate_unit_sphere[1][0], intermediate_unit_sphere[1][1])\n",
    "print(f\"Distance between geodesic/unint sphere defined midpoint = {distance_m} meters\")"
   ]
  },
  {
   "cell_type": "markdown",
   "metadata": {},
   "source": [
    "## Generate a Great Circle Path\n",
    "\n",
    "Generate points along a great circle path bewtween two points."
   ]
  },
  {
   "cell_type": "code",
   "execution_count": null,
   "metadata": {},
   "outputs": [],
   "source": [
    "# Generate Latitude Coordinates based on Longitude Coordinates\n",
    "def generate_latitude_along_gc(start_point=None, end_point=None, number_of_lon_pts=360):\n",
    "    lat1 = np.deg2rad(location_df.loc[start_point, \"latitude\"])\n",
    "    lon1 = np.deg2rad(location_df.loc[start_point, \"longitude\"])\n",
    "    lat2 = np.deg2rad(location_df.loc[end_point, \"latitude\"])\n",
    "    lon2 = np.deg2rad(location_df.loc[end_point, \"longitude\"])\n",
    "\n",
    "    # Verify not meridian (longitude passes through the poles)\n",
    "    if np.sin(lon1 - lon2) == 0:\n",
    "        print(\"Invalid inputs: start/end points are meridians\")\n",
    "        # plotting meridians at 0 longitude through all latitudes\n",
    "        meridian_lat = np.arange(-90, 90, 180/len(longitude_lst)) # split in n number\n",
    "        meridians = []\n",
    "        for lat in meridian_lat:\n",
    "            meridians.append((lat, 0))\n",
    "        return meridians\n",
    "\n",
    "    # verify not anitpodal (diametrically opposite, points)\n",
    "    if lat1 + lat2 == 0 and abs(lon1-lon2) == np.pi:\n",
    "        print(\"Invalid inputs: start/end points are antipodal\")\n",
    "        return []\n",
    "\n",
    "    # note: can be expanded to handle input of np arrays by filter out antipodal/merdiain points\n",
    "\n",
    "    # generate n total number of longitude points along the great circle\n",
    "    # https://github.com/rspatial/geosphere/blob/master/R/greatCircle.R#L18C3-L18C7\n",
    "    gc_lon_lst = []\n",
    "    for lon in range(1, number_of_lon_pts+1):\n",
    "        new_lon = (lon  * (360/number_of_lon_pts) - 180)\n",
    "        gc_lon_lst.append(np.deg2rad(new_lon))\n",
    "\n",
    "    # Intermediate points on a great circle: https://edwilliams.org/avform147.htm\"\n",
    "    gc_lat_lon = []\n",
    "    for gc_lon in gc_lon_lst:\n",
    "        num = np.sin(lat1)*np.cos(lat2)*np.sin(gc_lon-lon2)-np.sin(lat2)*np.cos(lat1)*np.sin(gc_lon-lon1)\n",
    "        den = np.cos(lat1)*np.cos(lat2)*np.sin(lon1-lon2)\n",
    "        new_lat = np.arctan(num/den)\n",
    "        gc_lat_lon.append((np.rad2deg(new_lat), np.rad2deg(gc_lon)))\n",
    "    return gc_lat_lon"
   ]
  },
  {
   "cell_type": "code",
   "execution_count": null,
   "metadata": {},
   "outputs": [],
   "source": [
    "def arc_points(start_lat=None,\n",
    "               start_lon=None,\n",
    "               end_lat=None,\n",
    "               end_lon=None,\n",
    "               n_total_points=10):\n",
    "    _, _, distance_meter =  geodesic.inv(start_lon,\n",
    "                                        start_lat,\n",
    "                                        end_lon,\n",
    "                                        end_lat)\n",
    "        \n",
    "    distance_between_points_meter = distance_meter / (n_total_points + 1)\n",
    "\n",
    "    \n",
    "    points_along_arc = interpolate_points_along_gc(start_lat,\n",
    "                                              start_lon,\n",
    "                                              end_lat,\n",
    "                                              end_lon,\n",
    "                                              distance_between_points_meter)\n",
    "    return points_along_arc"
   ]
  },
  {
   "cell_type": "code",
   "execution_count": null,
   "metadata": {},
   "outputs": [],
   "source": [
    "def plot_coordinate(lat_lon_lst=None,\n",
    "                    start_point=None, end_point=None,\n",
    "                    title=None):\n",
    "    # Set up world map plot\n",
    "    fig = plt.subplots(figsize=(15, 10))\n",
    "    projection_map = ccrs.PlateCarree()\n",
    "    ax = plt.axes(projection=projection_map)\n",
    "    lon_west, lon_east, lat_south, lat_north = -180, 180, -90, 90\n",
    "    ax.set_extent([lon_west, lon_east, lat_south, lat_north], crs=projection_map)\n",
    "    ax.coastlines(color=\"black\")\n",
    "    ax.add_feature(cfeature.BORDERS, edgecolor='grey')\n",
    "    ax.add_feature(cfeature.STATES, edgecolor=\"grey\")\n",
    "        \n",
    "    # Plot Latitude/Longitude Location of great circle path\n",
    "    longitudes = [x[1] for x in lat_lon_lst] # longitude\n",
    "    latitudes = [x[0] for x in lat_lon_lst] # latitude\n",
    "    plt.plot(longitudes, latitudes, c=\"cornflowerblue\")\n",
    "    plt.scatter(longitudes, latitudes, c=\"cornflowerblue\")\n",
    "\n",
    "    # Overly great circle with arc rom start/end point\n",
    "    start_end_lat_lon = arc_points(location_df.loc[start_point, \"latitude\"],\n",
    "                                   location_df.loc[start_point, \"longitude\"],\n",
    "                                   location_df.loc[end_point, \"latitude\"],\n",
    "                                   location_df.loc[end_point, \"longitude\"],\n",
    "                                   n_total_points=20)\n",
    "    longitudes = [x[1] for x in start_end_lat_lon] # longitude\n",
    "    latitudes = [x[0] for x in start_end_lat_lon] # latitude\n",
    "    plt.plot(longitudes, latitudes, c=\"red\")\n",
    "    plt.scatter(longitudes, latitudes, c=\"red\")\n",
    "    \n",
    "    # Setup Axis Limits and Title/Labels\n",
    "    plt.title(title)\n",
    "    plt.show()"
   ]
  },
  {
   "cell_type": "code",
   "execution_count": null,
   "metadata": {},
   "outputs": [],
   "source": [
    "start_pt = \"boulder\"\n",
    "end_pt = \"boston\"\n",
    "n_pts = 360\n",
    "lat_lon_pts = generate_latitude_along_gc(start_pt, end_pt, number_of_lon_pts=n_pts)\n",
    "plot_coordinate(lat_lon_pts, start_pt, end_pt,\n",
    "                f\"Plot Great Circle, made from the arc {start_pt.title()} to {end_pt.title()}\")"
   ]
  },
  {
   "cell_type": "code",
   "execution_count": null,
   "metadata": {},
   "outputs": [],
   "source": [
    "start_pt = \"arecibo\"\n",
    "end_pt = \"greenwich\"\n",
    "n_pts = 360\n",
    "lat_lon_pts = generate_latitude_along_gc(start_pt, end_pt, number_of_lon_pts=n_pts)\n",
    "plot_coordinate(lat_lon_pts, start_pt, end_pt,\n",
    "                f\"Plot Great Circle, made from the arc {start_pt.title()} to {end_pt.title()}\")"
   ]
  },
  {
   "cell_type": "code",
   "execution_count": null,
   "metadata": {},
   "outputs": [],
   "source": [
    "start_pt = \"zambezi\"\n",
    "end_pt = \"svalbard\"\n",
    "n_pts = 360\n",
    "lat_lon_pts = generate_latitude_along_gc(start_pt, end_pt, number_of_lon_pts=n_pts)\n",
    "plot_coordinate(lat_lon_pts, start_pt, end_pt,\n",
    "                f\"Plot Great Circle, made from the arc {start_pt.title()} to {end_pt.title()}\")"
   ]
  },
  {
   "cell_type": "markdown",
   "metadata": {},
   "source": [
    "## Determine an Antipodal Point\n",
    "\n",
    "Antipodal is the point on the globe that is on the exact opposite side of the Earth.\n",
    "\n",
    "Antipodal latitude is defined as:\n",
    "\n",
    "$$\\text{antipodal latitude} = -1 * \\text{latitude}$$\n",
    "\n",
    "Antipodal longitude is defined as:\n",
    "\n",
    "$$\\text{anitpodal longitude} = (\\text{longitude} + 180) \\text{ if longitude} \\le 0$$\n",
    "$$\\text{anitpodal longitude} = (\\text{longitude} - 180) \\text{ if longitude} \\gt 0$$\n",
    "\n",
    "- [Antipodes Map](https://www.antipodesmap.com/)"
   ]
  },
  {
   "cell_type": "code",
   "execution_count": null,
   "metadata": {},
   "outputs": [],
   "source": [
    "def antipodal(start_point=None):\n",
    "    anti_lat = -1 * location_df.loc[start_point, \"latitude\"]\n",
    "    ref_lon = location_df.loc[start_point, \"longitude\"]\n",
    "    if ref_lon > 0:\n",
    "        anti_lon = ref_lon - 180\n",
    "    else:\n",
    "        anti_lon = ref_lon + 180\n",
    "    #if anti_lon >= 180:\n",
    "    #    anti_lon = -1 * (anti_lon % 180)\n",
    "    return (anti_lat, anti_lon)"
   ]
  },
  {
   "cell_type": "code",
   "execution_count": null,
   "metadata": {},
   "outputs": [],
   "source": [
    "def is_antipodal(start_point=None, end_point=None):\n",
    "    lon1 = np.deg2rad(location_df.loc[start_point, \"longitude\"])\n",
    "    lat1 = np.deg2rad(location_df.loc[start_point, \"latitude\"])\n",
    "    lon2 = np.deg2rad(location_df.loc[end_point, \"longitude\"])\n",
    "    lat2 = np.deg2rad(location_df.loc[end_point, \"latitude\"])\n",
    "    return lat1 + lat2 == 0 and abs(lon1-lon2) == np.pi"
   ]
  },
  {
   "cell_type": "code",
   "execution_count": null,
   "metadata": {},
   "outputs": [],
   "source": [
    "def plot_antipodal(start_point=None):\n",
    "    # Set up world map plot\n",
    "    fig = plt.subplots(figsize=(15, 10))\n",
    "    projection_map = ccrs.PlateCarree()\n",
    "    ax = plt.axes(projection=projection_map)\n",
    "    lon_west, lon_east, lat_south, lat_north = -180, 180, -90, 90\n",
    "    ax.set_extent([lon_west, lon_east, lat_south, lat_north], crs=projection_map)\n",
    "    ax.coastlines(color=\"black\")\n",
    "    ax.add_feature(cfeature.BORDERS, edgecolor='grey')\n",
    "    ax.add_feature(cfeature.STATES, edgecolor=\"grey\")\n",
    "        \n",
    "    # Plot Start point\n",
    "    plt.scatter(location_df.loc[start_point, \"longitude\"],\n",
    "                location_df.loc[start_point, \"latitude\"],\n",
    "                s=100, c=\"cornflowerblue\", label=start_point.title())\n",
    "\n",
    "    # Plot Antipodal Point\n",
    "    antipodal_point = antipodal(start_point)\n",
    "    plt.scatter(antipodal_point[1], antipodal_point[0], s=100, c=\"red\", label=\"Antipodal\")\n",
    "    \n",
    "    # Setup Axis Limits and Title/Labels\n",
    "    plt.title(f\"{start_point.title()} and Antipodal Point {antipodal_point}\")\n",
    "    plt.legend(loc=\"lower right\")\n",
    "    plt.show()"
   ]
  },
  {
   "cell_type": "code",
   "execution_count": null,
   "metadata": {},
   "outputs": [],
   "source": [
    "print(antipodal(\"boulder\"))\n",
    "plot_antipodal(\"boulder\")"
   ]
  },
  {
   "cell_type": "code",
   "execution_count": null,
   "metadata": {},
   "outputs": [],
   "source": [
    "print(antipodal(\"svalbard\"))\n",
    "plot_antipodal(\"svalbard\")"
   ]
  },
  {
   "cell_type": "code",
   "execution_count": null,
   "metadata": {},
   "outputs": [],
   "source": [
    "print(antipodal(\"cairo\"))\n",
    "plot_antipodal(\"cairo\")"
   ]
  },
  {
   "cell_type": "markdown",
   "metadata": {},
   "source": [
    "---"
   ]
  },
  {
   "cell_type": "markdown",
   "metadata": {},
   "source": [
    "## Summary\n",
    "\n",
    "Calculating and mapping the midpoint and intermediate points along the great circle arc and closed circle path.\n",
    "\n",
    "### What's next?\n",
    "\n",
    "With a great circle arc defined, determine if a third point is along the arc or at what distance it sits from the great circle arc and path.\n"
   ]
  },
  {
   "cell_type": "markdown",
   "metadata": {},
   "source": [
    "## Resources and references"
   ]
  },
  {
   "cell_type": "markdown",
   "metadata": {},
   "source": [
    "- [Ed Williams \"Avitation Formulary\"](https://edwilliams.org/avform147.htm)\n",
    "- [Movable Type Scripts](https://www.movable-type.co.uk/scripts/latlong.html)"
   ]
  }
 ],
 "metadata": {
  "kernelspec": {
   "display_name": "Python 3 (ipykernel)",
   "language": "python",
   "name": "python3"
  },
  "language_info": {
   "codemirror_mode": {
    "name": "ipython",
    "version": 3
   },
   "file_extension": ".py",
   "mimetype": "text/x-python",
   "name": "python",
   "nbconvert_exporter": "python",
   "pygments_lexer": "ipython3",
   "version": "3.13.5"
  },
  "nbdime-conflicts": {
   "local_diff": [
    {
     "diff": [
      {
       "diff": [
        {
         "key": 0,
         "op": "addrange",
         "valuelist": [
          "Python 3"
         ]
        },
        {
         "key": 0,
         "length": 1,
         "op": "removerange"
        }
       ],
       "key": "display_name",
       "op": "patch"
      }
     ],
     "key": "kernelspec",
     "op": "patch"
    }
   ],
   "remote_diff": [
    {
     "diff": [
      {
       "diff": [
        {
         "key": 0,
         "op": "addrange",
         "valuelist": [
          "Python3"
         ]
        },
        {
         "key": 0,
         "length": 1,
         "op": "removerange"
        }
       ],
       "key": "display_name",
       "op": "patch"
      }
     ],
     "key": "kernelspec",
     "op": "patch"
    }
   ]
  },
  "toc-autonumbering": false
 },
 "nbformat": 4,
 "nbformat_minor": 4
}
