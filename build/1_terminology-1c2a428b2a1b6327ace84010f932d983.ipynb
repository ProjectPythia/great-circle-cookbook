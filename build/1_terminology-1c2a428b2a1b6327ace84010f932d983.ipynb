{
 "cells": [
  {
   "cell_type": "markdown",
   "metadata": {
    "editable": true,
    "slideshow": {
     "slide_type": ""
    },
    "tags": []
   },
   "source": [
    "<img src=\"https://d2pn8kiwq2w21t.cloudfront.net/images/karin_animation.width-1024.gif\" alt=\"https://www.jpl.nasa.gov/edu/news/2022/12/8/nasa-mission-takes-a-deep-dive-into-earths-surface-water/ Image credit: NASA/JPL-Caltech\"></img>"
   ]
  },
  {
   "cell_type": "markdown",
   "metadata": {},
   "source": [
    "# Great Circle Terminology"
   ]
  },
  {
   "cell_type": "markdown",
   "metadata": {},
   "source": [
    "---"
   ]
  },
  {
   "cell_type": "markdown",
   "metadata": {},
   "source": [
    "## Overview\n",
    "Great circles are powerful tools and historically were commonly used in the navigation of ships. Today, they are a common tool for pilots to plot paths \"as-the-crow-flies\" as well as in geoscience when  working with remote sensing via satellites that pass over the globe in long arcs.\n",
    "\n",
    "The mathematics of great circles make use of spherical geometry, where, rather than lines, long arcs are drawn along the surface of a sphere. While spherical geometry played an important role historically in the fields of astronomy and navigation, its teaching has largely fallen out of favor since the 1950's making finding comphrenshive resources difficult.\n",
    "\n",
    "This notebook will cover the important and unique terminology used when working with great circles and spherical geometry.\n",
    "\n",
    "1. Great Circles\n",
    "1. Spherical Geometry\n",
    "1. Ellipsoids vs. Spheres\n",
    "1. Geodesy\n",
    "1. Python Packages\n",
    "1. A Note on Resources"
   ]
  },
  {
   "cell_type": "markdown",
   "metadata": {},
   "source": [
    "## Prerequisites\n",
    "\n",
    "- **Time to learn**: 20 minutes"
   ]
  },
  {
   "cell_type": "markdown",
   "metadata": {},
   "source": [
    "---"
   ]
  },
  {
   "cell_type": "markdown",
   "metadata": {},
   "source": [
    "## Great Circles\n",
    "\n",
    "### Great Circle Path vs. Great Circle Arc\n",
    "\n",
    "A great circle path is the full path formed by the intersection of a plane which also passes through the center of the sphere. For example, the equator is an example of a great circle path on the Earth. The equator can be imagined as the path formed by a plane cutting through the center of the planet and intersecting the center. A great circle path is a closed path (-180 to 180 degrees longitude) that forms around the sphere.\n",
    "\n",
    "<img src=\"https://upload.wikimedia.org/wikipedia/commons/0/04/Great_circle_hemispheres.png\" alt=\"Great Circle Hemispheres\" width=400></img>\n",
    "\n",
    "All great circles:\n",
    "- Intersect the center of the Earth\n",
    "- Divide the Earth in half\n",
    "\n",
    "A great circle arc is a small subsection of a great circle path, representing an arc between two points on the surface of a sphere. The arc will represent the shortest distance between any two points on the surface of the Earth. An arc can be formed with:\n",
    "\n",
    "- Two points\n",
    "- Or: One point, a bearing, and a distance"
   ]
  },
  {
   "cell_type": "markdown",
   "metadata": {},
   "source": [
    "## Spherical Geometry\n",
    "\n",
    "### Spherical Trigonometry\n",
    "\n",
    "Spherical geometry (and one of it important branches: spherical trigonometry) provide calculations based on the relationshsips between the sides and angles on a sphere that are commonly used in right-angled triangles. Spheres are unique since unlike flat surfaces, spherical triangles can have internal angles that add up to more than 180 degrees.\n",
    "\n",
    "For example, imagine you fly a plane from the Philippines directly North until you reach the top of the Earth (at the North Pole). Then, you turn the plane 50 degrees, and fly down again until you arrive at the starting latitude of Philippines, off the coast of India. Once you have returned to your same starting latitude, you turn 90 degrees and return to the Philippines. By this point, you will have made two 90 degree turns (off the coast of India and the Philippines). So, all the internal angles combined to make this triangle along the Earth are 230 degrees (90 + 90 + 50).\n",
    "\n",
    "> The sum of the angles of a spherical triangle is not equal to 180°. A sphere is a curved surface, but locally the laws of the flat (planar) Euclidean geometry are good approximations. In a small triangle on the face of the earth, the sum of the angles is only slightly more than 180 degrees\n",
    "> \n",
    "> [Wikipedia: Spherical geometry](https://en.wikipedia.org/wiki/Spherical_geometry)\n",
    "\n",
    "<img src=\"https://upload.wikimedia.org/wikipedia/commons/thumb/9/97/Triangles_%28spherical_geometry%29.jpg/1094px-Triangles_%28spherical_geometry%29.jpg\" alt=\"Great Circle USGS\" width=400></img>\n",
    "\n",
    "Like a flat 2D triangle, spherical triangles have the own sine and cosine identities that can be used to solve internal angles and the length of sides.\n",
    "\n",
    "### Law of Cosines\n",
    "\n",
    "> \"The cosine rule is the fundamental identity of spherical trigonometry: all other identities, including the sine rule, may be derived from the cosine rule\" [(Wikipedia)](https://en.wikipedia.org/wiki/Spherical_trigonometry)\n",
    "\n",
    "The spherical [law of cosines](https://en.wikipedia.org/wiki/Spherical_law_of_cosines) states that for the angles A, B, C and opposite sides a, b, c:\n",
    "\n",
    "$$cos(a) = cos(b)cos(c) + sin(b)sin(c)cos(A)$$\n",
    "$$cos(b) = cos(c)cos(a) + sin(c)sin(a)cos(B)$$\n",
    "$$cos(c) = cos(a)cos(b) + sin(a)sin(b)cos(C)$$\n",
    "\n",
    "### Law of Sines\n",
    "\n",
    "The law of sines can be constructed from the law of cosines, where the spherical [law of sines](https://en.wikipedia.org/wiki/Law_of_sines#Spherical_law_of_sines) states that for the angles A, B, and C and the opposite of the sides a, b, c:\n",
    "\n",
    "$$\\frac{sin(A)}{sin(a)} = \\frac{sin(B)}{sin(b)} = \\frac{sin(C)}{sin(c)}$$"
   ]
  },
  {
   "cell_type": "markdown",
   "metadata": {},
   "source": [
    "## Ellipsoids vs. Spheres\n",
    "\n",
    "The earth is not round, instead it is an irregular ellipsoid known as a an oblate spheroid where the poles are slightly flatter and the equator bulges out. Spherical trigonometry typically assumes that calculations are occurring on a perfect sphere. For much of history this approximiation was accurate enough to allow ships to find their way to ports, but with increasingly technologically advanced and precise tools (like satellites) this discrepancy becomes more and more pronounced. Any calculation on Earth that assumes the planet is a perfect sphere, and without additional corrections, will contain an error up to 0.3% (22 km) ([see more](https://gis.stackexchange.com/questions/25494/how-accurate-is-approximating-earth-as-sphere)).\n",
    "\n",
    "[Learn More!](https://gisgeography.com/ellipsoid-oblate-spheroid-earth/)\n",
    "\n",
    "<img src=\"https://upload.wikimedia.org/wikipedia/commons/thumb/9/97/Triangles_%28spherical_geometry%29.jpg/1094px-Triangles_%28spherical_geometry%29.jpg\" alt=\"Great Circle USGS\" width=400></img>\n",
    "\n",
    "The various Python geodetic tools that we will in this cookbook will attempt to account for these errors by making use of different sized ellipsoids with flattening parameters."
   ]
  },
  {
   "cell_type": "markdown",
   "metadata": {},
   "source": [
    "## Geodesy\n",
    "\n",
    "Geodesy is the complex science of measuring the Earth's size and shape (as well as orientation and gravity field, but that is out of the scope of this notebook).\n",
    "\n",
    "[Learn more!](https://oceanservice.noaa.gov/facts/geodesy.html)\n",
    "\n",
    "The methods of measuring Earth have changed dramatically through history from physical survey tools to modern GPS.\n",
    "\n",
    "### Geodesic\n",
    "\n",
    "A geodesic is the shortest curved path between any two points on a surface. A \"straight line\" on the surface of a curved surface (like a sphere) will form an arc. A great circle arc is a special type of arc that is formed by a plane intersecting the center of a sphere.\n",
    "\n",
    "> If an insect is placed on a surface and continually walks \"forward\", by definition it will trace out a geodesic\n",
    ">\n",
    "> [Wikipedia: Geodesic](https://en.wikipedia.org/wiki/Geodesic)\n",
    "\n",
    "<img src=\"https://upload.wikimedia.org/wikipedia/commons/6/6a/Insect_on_a_torus_tracing_out_a_non-trivial_geodesic.gif\" alt=\"Straight Line on a curved surface\" width=400></img>\n",
    "\n",
    "This is especially apparent when working with satellite data where the apparent \"straight path\" that a satellite will trace across the the surface of a planet turns into an arc or curve on a map."
   ]
  },
  {
   "cell_type": "markdown",
   "metadata": {},
   "source": [
    "## Python Packages\n",
    "\n",
    "For the purpose of this notebook we will be taking advantage of two geoscience Python packages:\n",
    "\n",
    "- [`pyproj`: Python package to work with catographic projections and coordinate transformations library](https://pyproj4.github.io/pyproj/stable/)\n",
    "- [`geopy`:  Python package to work with spherical distances](https://geopy.readthedocs.io/en/stable/#)\n",
    "\n",
    "`pyproj` and `geopy` both take advantage of different types of (optional) ellipsoids, where `a` is the radius (semi-major or equatorial axis radius) in meters, `rf` is the reciprocal flattening, and `b` (where available) is the semi-minor axis (polar axis radius)."
   ]
  },
  {
   "cell_type": "code",
   "execution_count": null,
   "metadata": {},
   "outputs": [],
   "source": [
    "import pyproj\n",
    "for key in pyproj.list.get_ellps_map().keys():\n",
    "    print(f\"{key} = {pyproj.list.get_ellps_map()[key]}\")"
   ]
  },
  {
   "cell_type": "markdown",
   "metadata": {},
   "source": [
    "By default, `pyproj` has more options for ellipsoids, but several of these ellipsoids are also available in `geopy` as well, with a radius in kilometers instead of meters"
   ]
  },
  {
   "cell_type": "code",
   "execution_count": null,
   "metadata": {},
   "outputs": [],
   "source": [
    "from geopy import distance\n",
    "for key in distance.ELLIPSOIDS.keys():\n",
    "    print(f\"{key} = {distance.ELLIPSOIDS[key]}\")"
   ]
  },
  {
   "cell_type": "markdown",
   "metadata": {},
   "source": [
    "### **The standard reference ellipsoid for working with Earth is WGS-84**\n",
    "\n",
    "`geopy` by default makes use of WGS-84  which is a a unified global ellipsoid model that is used for GPS collected from satellites to calculate extremely preise measurements of the Earth. For the purpose of this notebook, this is the ellipsoid model we will be working with."
   ]
  },
  {
   "cell_type": "code",
   "execution_count": null,
   "metadata": {},
   "outputs": [],
   "source": [
    "print(pyproj.list.get_ellps_map()[\"WGS84\"])\n",
    "print(distance.ELLIPSOIDS[\"WGS-84\"])"
   ]
  },
  {
   "cell_type": "markdown",
   "metadata": {},
   "source": [
    "WGS-84 is an ellipsoid with a semi-major axis of `6378137.0` meters, an inverse (reciprocal) flattening feature of `298.257223563`, and a flattening factor of `0.0033528106647474805`.\n",
    "\n",
    "[Learn more!](https://gisgeography.com/wgs84-world-geodetic-system/)"
   ]
  },
  {
   "cell_type": "markdown",
   "metadata": {},
   "source": [
    "## An Important Note on Resources\n",
    "\n",
    "Spherical geometry and resources associated with working with great circles can be difficult to find\n",
    "\n",
    "Here are a list of some for working mathematically with great circles:\n",
    "- [Ed Williams \"Avitation Formulary\"](https://edwilliams.org/avform147.htm)\n",
    "- [Movable Type Scripts](https://www.movable-type.co.uk/scripts/latlong.html)\n",
    "- \"Heavenly Mathematics: The Forgotten Art of Spherical Trigonometry\" by Glen Van Brummelen\n",
    "- \"Spherical Trigonometry: A Comprehensive Approach\" by Ira Arevalo Fajardo"
   ]
  },
  {
   "cell_type": "markdown",
   "metadata": {},
   "source": [
    "---"
   ]
  },
  {
   "cell_type": "markdown",
   "metadata": {},
   "source": [
    "## Summary\n",
    "\n",
    "A great circle is formed by a plane intersecting a sphere and the center, like the equator.\n",
    "\n",
    "\n",
    "Great circles make use of spherical geometry to measure features on the curved surface of a unit sphere. However, planets like Earth are not perfect spheres and to account for the error are combined with geodesic calculations to reduce the error in final calculations.\n",
    "\n",
    "### What's next?\n",
    "\n",
    "How do we measure a specific place on the Earth or any sphere?\n",
    "\n",
    "Up next: Coordinates and Great Circles"
   ]
  }
 ],
 "metadata": {
  "kernelspec": {
   "display_name": "Python 3 (ipykernel)",
   "language": "python",
   "name": "python3"
  },
  "language_info": {
   "codemirror_mode": {
    "name": "ipython",
    "version": 3
   },
   "file_extension": ".py",
   "mimetype": "text/x-python",
   "name": "python",
   "nbconvert_exporter": "python",
   "pygments_lexer": "ipython3",
   "version": "3.13.5"
  },
  "nbdime-conflicts": {
   "local_diff": [
    {
     "diff": [
      {
       "diff": [
        {
         "key": 0,
         "op": "addrange",
         "valuelist": [
          "Python 3"
         ]
        },
        {
         "key": 0,
         "length": 1,
         "op": "removerange"
        }
       ],
       "key": "display_name",
       "op": "patch"
      }
     ],
     "key": "kernelspec",
     "op": "patch"
    }
   ],
   "remote_diff": [
    {
     "diff": [
      {
       "diff": [
        {
         "key": 0,
         "op": "addrange",
         "valuelist": [
          "Python3"
         ]
        },
        {
         "key": 0,
         "length": 1,
         "op": "removerange"
        }
       ],
       "key": "display_name",
       "op": "patch"
      }
     ],
     "key": "kernelspec",
     "op": "patch"
    }
   ]
  },
  "toc-autonumbering": false
 },
 "nbformat": 4,
 "nbformat_minor": 4
}
